{
 "cells": [
  {
   "cell_type": "markdown",
   "metadata": {},
   "source": [
    "### Bertopic Model"
   ]
  },
  {
   "cell_type": "markdown",
   "metadata": {},
   "source": [
    "Load Dataset"
   ]
  },
  {
   "cell_type": "code",
   "execution_count": 1,
   "metadata": {},
   "outputs": [],
   "source": [
    "import pandas as pd\n",
    "\n",
    "# load dataset\n",
    "dataset_path = 'cnn_news_articles_final_downsampled_cleaned.csv'\n",
    "df = pd.read_csv(dataset_path)\n",
    "\n",
    "texts = df['text'].tolist()"
   ]
  },
  {
   "cell_type": "markdown",
   "metadata": {},
   "source": [
    "Bertopic Model"
   ]
  },
  {
   "cell_type": "code",
   "execution_count": 2,
   "metadata": {},
   "outputs": [
    {
     "name": "stderr",
     "output_type": "stream",
     "text": [
      "C:\\Users\\Joe Chok\\AppData\\Roaming\\Python\\Python312\\site-packages\\tqdm\\auto.py:21: TqdmWarning: IProgress not found. Please update jupyter and ipywidgets. See https://ipywidgets.readthedocs.io/en/stable/user_install.html\n",
      "  from .autonotebook import tqdm as notebook_tqdm\n"
     ]
    }
   ],
   "source": [
    "from bertopic import BERTopic\n",
    "\n",
    "bertopic_model = BERTopic()\n",
    "topics, probabilities = bertopic_model.fit_transform(texts)"
   ]
  },
  {
   "cell_type": "markdown",
   "metadata": {},
   "source": [
    "MLflow Server"
   ]
  },
  {
   "cell_type": "code",
   "execution_count": 3,
   "metadata": {},
   "outputs": [
    {
     "data": {
      "text/plain": [
       "(9570, 2)"
      ]
     },
     "execution_count": 3,
     "metadata": {},
     "output_type": "execute_result"
    }
   ],
   "source": [
    "import mlflow\n",
    "from mlflow.tracking import MlflowClient\n",
    "\n",
    "# convert model name to string\n",
    "model_name = bertopic_model.__class__.__name__\n",
    "\n",
    "# start MLflow\n",
    "mlflow.set_tracking_uri(\"http://127.0.0.1:5000\")\n",
    "mlflow.set_experiment(\"topic-modelling\")\n",
    "\n",
    "# initialize MLflow client\n",
    "client = MlflowClient()\n",
    "\n",
    "# experiment ID\n",
    "experiment_id = client.get_experiment_by_name(\"topic-modelling\").experiment_id\n",
    "\n",
    "runs = client.search_runs(experiment_ids=[experiment_id])\n",
    "\n",
    "# initial version to 0\n",
    "max_version = 0\n",
    "\n",
    "# find the max version for the current version model\n",
    "for run in runs:\n",
    "    run_name = run.data.tags.get('mlflow.runName')\n",
    "    if run_name and run_name.startswith(model_name):        \n",
    "        # extract version number from the run name\n",
    "        try:\n",
    "            version = int(run_name.split('_v')[-1])\n",
    "        except ValueError:\n",
    "            continue  # skip if version is not an integer\n",
    "\n",
    "        # update max_version if this version is greater\n",
    "        max_version = max(max_version, version)\n",
    "\n",
    "# increase the version by adding 1\n",
    "new_version = max_version + 1\n",
    "\n",
    "# new run name\n",
    "new_run_name = f\"{model_name}_v{new_version}\"\n",
    "mlflow.start_run(run_name=new_run_name)\n",
    "\n",
    "mlflow.log_param(\"model name\", model_name)\n",
    "mlflow.log_param(\"dataset_name\", dataset_path)\n",
    "mlflow.log_param(\"data size\", df.shape)\n"
   ]
  },
  {
   "cell_type": "markdown",
   "metadata": {},
   "source": [
    "Evaluate by Coherence Scores"
   ]
  },
  {
   "cell_type": "code",
   "execution_count": 4,
   "metadata": {},
   "outputs": [
    {
     "name": "stdout",
     "output_type": "stream",
     "text": [
      "c_v Score: 0.6862945390942535\n",
      "u_mass Score: -2.3836138897041694\n",
      "NPMI Score: 0.14719946215949392\n"
     ]
    }
   ],
   "source": [
    "import gensim\n",
    "from gensim.models.coherencemodel import CoherenceModel\n",
    "from nltk.tokenize import word_tokenize\n",
    "\n",
    "tokenized_texts = [word_tokenize(text.lower()) for text in texts]\n",
    "\n",
    "# create a dictionary and corpus\n",
    "dictionary = gensim.corpora.Dictionary(tokenized_texts)\n",
    "corpus = [dictionary.doc2bow(text) for text in tokenized_texts]\n",
    "\n",
    "topic_words = bertopic_model.get_topics()\n",
    "\n",
    "# format the topics into a list of lists for the coherence calculation\n",
    "formatted_topics = [[word for word, _ in topic_words[topic_num]] for topic_num in topic_words]\n",
    "\n",
    "# calculate c_v \n",
    "coherence_model_cv = CoherenceModel(topics=formatted_topics, texts=tokenized_texts, dictionary=dictionary, coherence='c_v')\n",
    "cv_score = coherence_model_cv.get_coherence()\n",
    "\n",
    "# calculate u_mass \n",
    "coherence_model_umass = CoherenceModel(topics=formatted_topics, corpus=corpus, dictionary=dictionary, coherence='u_mass')\n",
    "umass_score = coherence_model_umass.get_coherence()\n",
    "\n",
    "# calculate NPMI\n",
    "coherence_model = CoherenceModel(topics=formatted_topics, texts=tokenized_texts, dictionary=dictionary, coherence='c_npmi')\n",
    "npmi_score = coherence_model.get_coherence()\n",
    "\n",
    "print(f\"c_v Score: {cv_score}\")\n",
    "print(f\"u_mass Score: {umass_score}\")\n",
    "print(f\"NPMI Score: {npmi_score}\")\n",
    "\n",
    "mlflow.log_metric(\"c_v coherence\", cv_score)\n",
    "mlflow.log_metric(\"u_mass coherence\", umass_score)\n",
    "mlflow.log_metric(\"NPMI coherence\", npmi_score)"
   ]
  },
  {
   "cell_type": "markdown",
   "metadata": {},
   "source": [
    "Select Top 10 topics"
   ]
  },
  {
   "cell_type": "code",
   "execution_count": 5,
   "metadata": {},
   "outputs": [],
   "source": [
    "# get the top 10 topics \n",
    "top_topics = list(topic_words.keys())[:10]\n",
    "\n",
    "top_topic_nums = list(range(len(top_topics)))  # Topic numbers for the top 10 topics"
   ]
  },
  {
   "cell_type": "code",
   "execution_count": 6,
   "metadata": {},
   "outputs": [
    {
     "data": {
      "text/html": [
       "<div>\n",
       "<style scoped>\n",
       "    .dataframe tbody tr th:only-of-type {\n",
       "        vertical-align: middle;\n",
       "    }\n",
       "\n",
       "    .dataframe tbody tr th {\n",
       "        vertical-align: top;\n",
       "    }\n",
       "\n",
       "    .dataframe thead th {\n",
       "        text-align: right;\n",
       "    }\n",
       "</style>\n",
       "<table border=\"1\" class=\"dataframe\">\n",
       "  <thead>\n",
       "    <tr style=\"text-align: right;\">\n",
       "      <th></th>\n",
       "      <th>Topic</th>\n",
       "      <th>Count</th>\n",
       "      <th>Name</th>\n",
       "      <th>Representation</th>\n",
       "      <th>Representative_Docs</th>\n",
       "    </tr>\n",
       "  </thead>\n",
       "  <tbody>\n",
       "    <tr>\n",
       "      <th>0</th>\n",
       "      <td>-1</td>\n",
       "      <td>2266</td>\n",
       "      <td>-1_crisis_said_photo_russia</td>\n",
       "      <td>[crisis, said, photo, russia, hide, caption, y...</td>\n",
       "      <td>[title cover cass sun stein book normal printe...</td>\n",
       "    </tr>\n",
       "    <tr>\n",
       "      <th>1</th>\n",
       "      <td>0</td>\n",
       "      <td>564</td>\n",
       "      <td>0_film_movie_series_actor</td>\n",
       "      <td>[film, movie, series, actor, lost, character, ...</td>\n",
       "      <td>[touching tale across social medium following ...</td>\n",
       "    </tr>\n",
       "    <tr>\n",
       "      <th>2</th>\n",
       "      <td>1</td>\n",
       "      <td>406</td>\n",
       "      <td>1_vaccine_pandemic_virus_health</td>\n",
       "      <td>[vaccine, pandemic, virus, health, mask, varia...</td>\n",
       "      <td>[food drug administration gave green light vac...</td>\n",
       "    </tr>\n",
       "    <tr>\n",
       "      <th>3</th>\n",
       "      <td>2</td>\n",
       "      <td>209</td>\n",
       "      <td>2_exit_minister_prime_party</td>\n",
       "      <td>[exit, minister, prime, party, parliament, gov...</td>\n",
       "      <td>[may spending weekend trying plot way exit sta...</td>\n",
       "    </tr>\n",
       "    <tr>\n",
       "      <th>4</th>\n",
       "      <td>3</td>\n",
       "      <td>186</td>\n",
       "      <td>3_league_club_goal_football</td>\n",
       "      <td>[league, club, goal, football, champion, best,...</td>\n",
       "      <td>[story highlight crush real first leg champion...</td>\n",
       "    </tr>\n",
       "    <tr>\n",
       "      <th>...</th>\n",
       "      <td>...</td>\n",
       "      <td>...</td>\n",
       "      <td>...</td>\n",
       "      <td>...</td>\n",
       "      <td>...</td>\n",
       "    </tr>\n",
       "    <tr>\n",
       "      <th>192</th>\n",
       "      <td>191</td>\n",
       "      <td>11</td>\n",
       "      <td>191_war_lynch_moment_life</td>\n",
       "      <td>[war, lynch, moment, life, cull, invasion, hus...</td>\n",
       "      <td>[evening news site bath candle young woman go ...</td>\n",
       "    </tr>\n",
       "    <tr>\n",
       "      <th>193</th>\n",
       "      <td>192</td>\n",
       "      <td>10</td>\n",
       "      <td>192_drone_aircraft_military_pilot</td>\n",
       "      <td>[drone, aircraft, military, pilot, intercept, ...</td>\n",
       "      <td>[minute international black sea morning local ...</td>\n",
       "    </tr>\n",
       "    <tr>\n",
       "      <th>194</th>\n",
       "      <td>193</td>\n",
       "      <td>10</td>\n",
       "      <td>193_autopsy_theater_wound_massacre</td>\n",
       "      <td>[autopsy, theater, wound, massacre, colorado, ...</td>\n",
       "      <td>[family environmental activist law enforcement...</td>\n",
       "    </tr>\n",
       "    <tr>\n",
       "      <th>195</th>\n",
       "      <td>194</td>\n",
       "      <td>10</td>\n",
       "      <td>194_russia_missile_attack_military</td>\n",
       "      <td>[russia, missile, attack, military, war, strik...</td>\n",
       "      <td>[russia full scale invasion approach one year ...</td>\n",
       "    </tr>\n",
       "    <tr>\n",
       "      <th>196</th>\n",
       "      <td>195</td>\n",
       "      <td>10</td>\n",
       "      <td>195_defendant_wan_judge_fraud</td>\n",
       "      <td>[defendant, wan, judge, fraud, bal, blood, tri...</td>\n",
       "      <td>[federal judge got exactly right declined use ...</td>\n",
       "    </tr>\n",
       "  </tbody>\n",
       "</table>\n",
       "<p>197 rows × 5 columns</p>\n",
       "</div>"
      ],
      "text/plain": [
       "     Topic  Count                                Name  \\\n",
       "0       -1   2266         -1_crisis_said_photo_russia   \n",
       "1        0    564           0_film_movie_series_actor   \n",
       "2        1    406     1_vaccine_pandemic_virus_health   \n",
       "3        2    209         2_exit_minister_prime_party   \n",
       "4        3    186         3_league_club_goal_football   \n",
       "..     ...    ...                                 ...   \n",
       "192    191     11           191_war_lynch_moment_life   \n",
       "193    192     10   192_drone_aircraft_military_pilot   \n",
       "194    193     10  193_autopsy_theater_wound_massacre   \n",
       "195    194     10  194_russia_missile_attack_military   \n",
       "196    195     10       195_defendant_wan_judge_fraud   \n",
       "\n",
       "                                        Representation  \\\n",
       "0    [crisis, said, photo, russia, hide, caption, y...   \n",
       "1    [film, movie, series, actor, lost, character, ...   \n",
       "2    [vaccine, pandemic, virus, health, mask, varia...   \n",
       "3    [exit, minister, prime, party, parliament, gov...   \n",
       "4    [league, club, goal, football, champion, best,...   \n",
       "..                                                 ...   \n",
       "192  [war, lynch, moment, life, cull, invasion, hus...   \n",
       "193  [drone, aircraft, military, pilot, intercept, ...   \n",
       "194  [autopsy, theater, wound, massacre, colorado, ...   \n",
       "195  [russia, missile, attack, military, war, strik...   \n",
       "196  [defendant, wan, judge, fraud, bal, blood, tri...   \n",
       "\n",
       "                                   Representative_Docs  \n",
       "0    [title cover cass sun stein book normal printe...  \n",
       "1    [touching tale across social medium following ...  \n",
       "2    [food drug administration gave green light vac...  \n",
       "3    [may spending weekend trying plot way exit sta...  \n",
       "4    [story highlight crush real first leg champion...  \n",
       "..                                                 ...  \n",
       "192  [evening news site bath candle young woman go ...  \n",
       "193  [minute international black sea morning local ...  \n",
       "194  [family environmental activist law enforcement...  \n",
       "195  [russia full scale invasion approach one year ...  \n",
       "196  [federal judge got exactly right declined use ...  \n",
       "\n",
       "[197 rows x 5 columns]"
      ]
     },
     "execution_count": 6,
     "metadata": {},
     "output_type": "execute_result"
    }
   ],
   "source": [
    "bertopic_model.get_topic_info()"
   ]
  },
  {
   "cell_type": "code",
   "execution_count": 7,
   "metadata": {},
   "outputs": [
    {
     "data": {
      "application/vnd.plotly.v1+json": {
       "config": {
        "plotlyServerURL": "https://plot.ly"
       },
       "data": [
        {
         "hoverinfo": "text",
         "marker": {
          "color": "rgb(61,153,112)"
         },
         "mode": "lines",
         "type": "scatter",
         "x": [
          0,
          0.32169215509248283,
          0.32169215509248283,
          0
         ],
         "xaxis": "x",
         "y": [
          -25,
          -25,
          -35,
          -35
         ],
         "yaxis": "y"
        },
        {
         "hoverinfo": "text",
         "marker": {
          "color": "rgb(61,153,112)"
         },
         "mode": "lines",
         "type": "scatter",
         "x": [
          0.32169215509248283,
          0.5656997225324898,
          0.5656997225324898,
          0
         ],
         "xaxis": "x",
         "y": [
          -30,
          -30,
          -45,
          -45
         ],
         "yaxis": "y"
        },
        {
         "hoverinfo": "text",
         "marker": {
          "color": "rgb(61,153,112)"
         },
         "mode": "lines",
         "type": "scatter",
         "x": [
          0,
          0.6176008073912104,
          0.6176008073912104,
          0.5656997225324898
         ],
         "xaxis": "x",
         "y": [
          -15,
          -15,
          -37.5,
          -37.5
         ],
         "yaxis": "y"
        },
        {
         "hoverinfo": "text",
         "marker": {
          "color": "rgb(61,153,112)"
         },
         "mode": "lines",
         "type": "scatter",
         "x": [
          0,
          0.7351327909253023,
          0.7351327909253023,
          0.6176008073912104
         ],
         "xaxis": "x",
         "y": [
          -5,
          -5,
          -26.25,
          -26.25
         ],
         "yaxis": "y"
        },
        {
         "hoverinfo": "text",
         "marker": {
          "color": "rgb(61,153,112)"
         },
         "mode": "lines",
         "type": "scatter",
         "x": [
          0,
          0.38375186923512883,
          0.38375186923512883,
          0
         ],
         "xaxis": "x",
         "y": [
          -65,
          -65,
          -75,
          -75
         ],
         "yaxis": "y"
        },
        {
         "hoverinfo": "text",
         "marker": {
          "color": "rgb(61,153,112)"
         },
         "mode": "lines",
         "type": "scatter",
         "x": [
          0,
          0.4734655802252521,
          0.4734655802252521,
          0.38375186923512883
         ],
         "xaxis": "x",
         "y": [
          -55,
          -55,
          -70,
          -70
         ],
         "yaxis": "y"
        },
        {
         "hoverinfo": "text",
         "marker": {
          "color": "rgb(61,153,112)"
         },
         "mode": "lines",
         "type": "scatter",
         "x": [
          0.4734655802252521,
          0.6519923702388699,
          0.6519923702388699,
          0
         ],
         "xaxis": "x",
         "y": [
          -62.5,
          -62.5,
          -85,
          -85
         ],
         "yaxis": "y"
        },
        {
         "hoverinfo": "text",
         "marker": {
          "color": "rgb(61,153,112)"
         },
         "mode": "lines",
         "type": "scatter",
         "x": [
          0.7351327909253023,
          0.777288112923507,
          0.777288112923507,
          0.6519923702388699
         ],
         "xaxis": "x",
         "y": [
          -15.625,
          -15.625,
          -73.75,
          -73.75
         ],
         "yaxis": "y"
        },
        {
         "hoverinfo": "text",
         "marker": {
          "color": "rgb(255,65,54)"
         },
         "mode": "lines",
         "type": "scatter",
         "x": [
          0,
          0.39599427215846195,
          0.39599427215846195,
          0
         ],
         "xaxis": "x",
         "y": [
          -115,
          -115,
          -125,
          -125
         ],
         "yaxis": "y"
        },
        {
         "hoverinfo": "text",
         "marker": {
          "color": "rgb(255,65,54)"
         },
         "mode": "lines",
         "type": "scatter",
         "x": [
          0,
          0.44147089254858485,
          0.44147089254858485,
          0.39599427215846195
         ],
         "xaxis": "x",
         "y": [
          -105,
          -105,
          -120,
          -120
         ],
         "yaxis": "y"
        },
        {
         "hoverinfo": "text",
         "marker": {
          "color": "rgb(255,65,54)"
         },
         "mode": "lines",
         "type": "scatter",
         "x": [
          0.44147089254858485,
          0.5292685184169427,
          0.5292685184169427,
          0
         ],
         "xaxis": "x",
         "y": [
          -112.5,
          -112.5,
          -135,
          -135
         ],
         "yaxis": "y"
        },
        {
         "hoverinfo": "text",
         "marker": {
          "color": "rgb(255,65,54)"
         },
         "mode": "lines",
         "type": "scatter",
         "x": [
          0,
          0.6590860033822461,
          0.6590860033822461,
          0.5292685184169427
         ],
         "xaxis": "x",
         "y": [
          -95,
          -95,
          -123.75,
          -123.75
         ],
         "yaxis": "y"
        },
        {
         "hoverinfo": "text",
         "marker": {
          "color": "rgb(255,65,54)"
         },
         "mode": "lines",
         "type": "scatter",
         "x": [
          0,
          0.5616369656913923,
          0.5616369656913923,
          0
         ],
         "xaxis": "x",
         "y": [
          -145,
          -145,
          -155,
          -155
         ],
         "yaxis": "y"
        },
        {
         "hoverinfo": "text",
         "marker": {
          "color": "rgb(255,65,54)"
         },
         "mode": "lines",
         "type": "scatter",
         "x": [
          0.6590860033822461,
          0.7175973750436079,
          0.7175973750436079,
          0.5616369656913923
         ],
         "xaxis": "x",
         "y": [
          -109.375,
          -109.375,
          -150,
          -150
         ],
         "yaxis": "y"
        },
        {
         "hoverinfo": "text",
         "marker": {
          "color": "rgb(0,116,217)"
         },
         "mode": "lines",
         "type": "scatter",
         "x": [
          0.777288112923507,
          1.429849495697856,
          1.429849495697856,
          0.7175973750436079
         ],
         "xaxis": "x",
         "y": [
          -44.6875,
          -44.6875,
          -129.6875,
          -129.6875
         ],
         "yaxis": "y"
        },
        {
         "hoverinfo": "text",
         "marker": {
          "color": "rgb(35,205,205)"
         },
         "mode": "lines",
         "type": "scatter",
         "x": [
          0,
          0.5510720932319824,
          0.5510720932319824,
          0
         ],
         "xaxis": "x",
         "y": [
          -175,
          -175,
          -185,
          -185
         ],
         "yaxis": "y"
        },
        {
         "hoverinfo": "text",
         "marker": {
          "color": "rgb(35,205,205)"
         },
         "mode": "lines",
         "type": "scatter",
         "x": [
          0.5510720932319824,
          0.6481535547399929,
          0.6481535547399929,
          0
         ],
         "xaxis": "x",
         "y": [
          -180,
          -180,
          -195,
          -195
         ],
         "yaxis": "y"
        },
        {
         "hoverinfo": "text",
         "marker": {
          "color": "rgb(35,205,205)"
         },
         "mode": "lines",
         "type": "scatter",
         "x": [
          0,
          0.7234652239324565,
          0.7234652239324565,
          0.6481535547399929
         ],
         "xaxis": "x",
         "y": [
          -165,
          -165,
          -187.5,
          -187.5
         ],
         "yaxis": "y"
        },
        {
         "hoverinfo": "text",
         "marker": {
          "color": "rgb(133,20,75)"
         },
         "mode": "lines",
         "type": "scatter",
         "x": [
          0,
          0.553142163947745,
          0.553142163947745,
          0
         ],
         "xaxis": "x",
         "y": [
          -205,
          -205,
          -215,
          -215
         ],
         "yaxis": "y"
        },
        {
         "hoverinfo": "text",
         "marker": {
          "color": "rgb(133,20,75)"
         },
         "mode": "lines",
         "type": "scatter",
         "x": [
          0,
          0.47532111460862125,
          0.47532111460862125,
          0
         ],
         "xaxis": "x",
         "y": [
          -235,
          -235,
          -245,
          -245
         ],
         "yaxis": "y"
        },
        {
         "hoverinfo": "text",
         "marker": {
          "color": "rgb(133,20,75)"
         },
         "mode": "lines",
         "type": "scatter",
         "x": [
          0,
          0.6718829337569013,
          0.6718829337569013,
          0.47532111460862125
         ],
         "xaxis": "x",
         "y": [
          -225,
          -225,
          -240,
          -240
         ],
         "yaxis": "y"
        },
        {
         "hoverinfo": "text",
         "marker": {
          "color": "rgb(133,20,75)"
         },
         "mode": "lines",
         "type": "scatter",
         "x": [
          0.553142163947745,
          0.7734208299662441,
          0.7734208299662441,
          0.6718829337569013
         ],
         "xaxis": "x",
         "y": [
          -210,
          -210,
          -232.5,
          -232.5
         ],
         "yaxis": "y"
        },
        {
         "hoverinfo": "text",
         "marker": {
          "color": "rgb(255,220,0)"
         },
         "mode": "lines",
         "type": "scatter",
         "x": [
          0,
          0.543229190895969,
          0.543229190895969,
          0
         ],
         "xaxis": "x",
         "y": [
          -255,
          -255,
          -265,
          -265
         ],
         "yaxis": "y"
        },
        {
         "hoverinfo": "text",
         "marker": {
          "color": "rgb(255,220,0)"
         },
         "mode": "lines",
         "type": "scatter",
         "x": [
          0.543229190895969,
          0.7494103965365577,
          0.7494103965365577,
          0
         ],
         "xaxis": "x",
         "y": [
          -260,
          -260,
          -275,
          -275
         ],
         "yaxis": "y"
        },
        {
         "hoverinfo": "text",
         "marker": {
          "color": "rgb(255,220,0)"
         },
         "mode": "lines",
         "type": "scatter",
         "x": [
          0,
          0.251942490602851,
          0.251942490602851,
          0
         ],
         "xaxis": "x",
         "y": [
          -285,
          -285,
          -295,
          -295
         ],
         "yaxis": "y"
        },
        {
         "hoverinfo": "text",
         "marker": {
          "color": "rgb(255,220,0)"
         },
         "mode": "lines",
         "type": "scatter",
         "x": [
          0.251942490602851,
          0.6828767281605055,
          0.6828767281605055,
          0
         ],
         "xaxis": "x",
         "y": [
          -290,
          -290,
          -305,
          -305
         ],
         "yaxis": "y"
        },
        {
         "hoverinfo": "text",
         "marker": {
          "color": "rgb(255,220,0)"
         },
         "mode": "lines",
         "type": "scatter",
         "x": [
          0.7494103965365577,
          0.9170174602497975,
          0.9170174602497975,
          0.6828767281605055
         ],
         "xaxis": "x",
         "y": [
          -267.5,
          -267.5,
          -297.5,
          -297.5
         ],
         "yaxis": "y"
        },
        {
         "hoverinfo": "text",
         "marker": {
          "color": "rgb(0,116,217)"
         },
         "mode": "lines",
         "type": "scatter",
         "x": [
          0.7734208299662441,
          1.0123684272916607,
          1.0123684272916607,
          0.9170174602497975
         ],
         "xaxis": "x",
         "y": [
          -221.25,
          -221.25,
          -282.5,
          -282.5
         ],
         "yaxis": "y"
        },
        {
         "hoverinfo": "text",
         "marker": {
          "color": "rgb(0,116,217)"
         },
         "mode": "lines",
         "type": "scatter",
         "x": [
          0.7234652239324565,
          1.1697288990155335,
          1.1697288990155335,
          1.0123684272916607
         ],
         "xaxis": "x",
         "y": [
          -176.25,
          -176.25,
          -251.875,
          -251.875
         ],
         "yaxis": "y"
        },
        {
         "hoverinfo": "text",
         "marker": {
          "color": "rgb(40,35,35)"
         },
         "mode": "lines",
         "type": "scatter",
         "x": [
          0,
          0.40118352001900437,
          0.40118352001900437,
          0
         ],
         "xaxis": "x",
         "y": [
          -315,
          -315,
          -325,
          -325
         ],
         "yaxis": "y"
        },
        {
         "hoverinfo": "text",
         "marker": {
          "color": "rgb(40,35,35)"
         },
         "mode": "lines",
         "type": "scatter",
         "x": [
          0,
          0.4478047143095142,
          0.4478047143095142,
          0
         ],
         "xaxis": "x",
         "y": [
          -335,
          -335,
          -345,
          -345
         ],
         "yaxis": "y"
        },
        {
         "hoverinfo": "text",
         "marker": {
          "color": "rgb(40,35,35)"
         },
         "mode": "lines",
         "type": "scatter",
         "x": [
          0.40118352001900437,
          0.5948136647639914,
          0.5948136647639914,
          0.4478047143095142
         ],
         "xaxis": "x",
         "y": [
          -320,
          -320,
          -340,
          -340
         ],
         "yaxis": "y"
        },
        {
         "hoverinfo": "text",
         "marker": {
          "color": "rgb(61,153,112)"
         },
         "mode": "lines",
         "type": "scatter",
         "x": [
          0,
          0.23901158766812902,
          0.23901158766812902,
          0
         ],
         "xaxis": "x",
         "y": [
          -375,
          -375,
          -385,
          -385
         ],
         "yaxis": "y"
        },
        {
         "hoverinfo": "text",
         "marker": {
          "color": "rgb(61,153,112)"
         },
         "mode": "lines",
         "type": "scatter",
         "x": [
          0,
          0.4886331087534121,
          0.4886331087534121,
          0.23901158766812902
         ],
         "xaxis": "x",
         "y": [
          -365,
          -365,
          -380,
          -380
         ],
         "yaxis": "y"
        },
        {
         "hoverinfo": "text",
         "marker": {
          "color": "rgb(61,153,112)"
         },
         "mode": "lines",
         "type": "scatter",
         "x": [
          0,
          0.5400596489419539,
          0.5400596489419539,
          0.4886331087534121
         ],
         "xaxis": "x",
         "y": [
          -355,
          -355,
          -372.5,
          -372.5
         ],
         "yaxis": "y"
        },
        {
         "hoverinfo": "text",
         "marker": {
          "color": "rgb(61,153,112)"
         },
         "mode": "lines",
         "type": "scatter",
         "x": [
          0,
          0.7277682905413587,
          0.7277682905413587,
          0
         ],
         "xaxis": "x",
         "y": [
          -395,
          -395,
          -405,
          -405
         ],
         "yaxis": "y"
        },
        {
         "hoverinfo": "text",
         "marker": {
          "color": "rgb(61,153,112)"
         },
         "mode": "lines",
         "type": "scatter",
         "x": [
          0.5400596489419539,
          0.7426054921535364,
          0.7426054921535364,
          0.7277682905413587
         ],
         "xaxis": "x",
         "y": [
          -363.75,
          -363.75,
          -400,
          -400
         ],
         "yaxis": "y"
        },
        {
         "hoverinfo": "text",
         "marker": {
          "color": "rgb(0,116,217)"
         },
         "mode": "lines",
         "type": "scatter",
         "x": [
          0.5948136647639914,
          1.3573143129079115,
          1.3573143129079115,
          0.7426054921535364
         ],
         "xaxis": "x",
         "y": [
          -330,
          -330,
          -381.875,
          -381.875
         ],
         "yaxis": "y"
        },
        {
         "hoverinfo": "text",
         "marker": {
          "color": "rgb(255,65,54)"
         },
         "mode": "lines",
         "type": "scatter",
         "x": [
          0,
          0.8274251964163203,
          0.8274251964163203,
          0
         ],
         "xaxis": "x",
         "y": [
          -425,
          -425,
          -435,
          -435
         ],
         "yaxis": "y"
        },
        {
         "hoverinfo": "text",
         "marker": {
          "color": "rgb(255,65,54)"
         },
         "mode": "lines",
         "type": "scatter",
         "x": [
          0,
          0.9006819437323687,
          0.9006819437323687,
          0.8274251964163203
         ],
         "xaxis": "x",
         "y": [
          -415,
          -415,
          -430,
          -430
         ],
         "yaxis": "y"
        },
        {
         "hoverinfo": "text",
         "marker": {
          "color": "rgb(255,65,54)"
         },
         "mode": "lines",
         "type": "scatter",
         "x": [
          0,
          0.8243376877439434,
          0.8243376877439434,
          0
         ],
         "xaxis": "x",
         "y": [
          -445,
          -445,
          -455,
          -455
         ],
         "yaxis": "y"
        },
        {
         "hoverinfo": "text",
         "marker": {
          "color": "rgb(255,65,54)"
         },
         "mode": "lines",
         "type": "scatter",
         "x": [
          0.8243376877439434,
          0.9216569811970566,
          0.9216569811970566,
          0
         ],
         "xaxis": "x",
         "y": [
          -450,
          -450,
          -465,
          -465
         ],
         "yaxis": "y"
        },
        {
         "hoverinfo": "text",
         "marker": {
          "color": "rgb(255,65,54)"
         },
         "mode": "lines",
         "type": "scatter",
         "x": [
          0.9006819437323687,
          0.9814328309315897,
          0.9814328309315897,
          0.9216569811970566
         ],
         "xaxis": "x",
         "y": [
          -422.5,
          -422.5,
          -457.5,
          -457.5
         ],
         "yaxis": "y"
        },
        {
         "hoverinfo": "text",
         "marker": {
          "color": "rgb(35,205,205)"
         },
         "mode": "lines",
         "type": "scatter",
         "x": [
          0,
          0.49793369254752873,
          0.49793369254752873,
          0
         ],
         "xaxis": "x",
         "y": [
          -475,
          -475,
          -485,
          -485
         ],
         "yaxis": "y"
        },
        {
         "hoverinfo": "text",
         "marker": {
          "color": "rgb(35,205,205)"
         },
         "mode": "lines",
         "type": "scatter",
         "x": [
          0.49793369254752873,
          0.733867761772667,
          0.733867761772667,
          0
         ],
         "xaxis": "x",
         "y": [
          -480,
          -480,
          -495,
          -495
         ],
         "yaxis": "y"
        },
        {
         "hoverinfo": "text",
         "marker": {
          "color": "rgb(35,205,205)"
         },
         "mode": "lines",
         "type": "scatter",
         "x": [
          0,
          0.6277815342222195,
          0.6277815342222195,
          0
         ],
         "xaxis": "x",
         "y": [
          -505,
          -505,
          -515,
          -515
         ],
         "yaxis": "y"
        },
        {
         "hoverinfo": "text",
         "marker": {
          "color": "rgb(35,205,205)"
         },
         "mode": "lines",
         "type": "scatter",
         "x": [
          0.6277815342222195,
          0.7050872572501083,
          0.7050872572501083,
          0
         ],
         "xaxis": "x",
         "y": [
          -510,
          -510,
          -525,
          -525
         ],
         "yaxis": "y"
        },
        {
         "hoverinfo": "text",
         "marker": {
          "color": "rgb(35,205,205)"
         },
         "mode": "lines",
         "type": "scatter",
         "x": [
          0.733867761772667,
          0.9927018003405621,
          0.9927018003405621,
          0.7050872572501083
         ],
         "xaxis": "x",
         "y": [
          -487.5,
          -487.5,
          -517.5,
          -517.5
         ],
         "yaxis": "y"
        },
        {
         "hoverinfo": "text",
         "marker": {
          "color": "rgb(0,116,217)"
         },
         "mode": "lines",
         "type": "scatter",
         "x": [
          0.9814328309315897,
          1.11049589032105,
          1.11049589032105,
          0.9927018003405621
         ],
         "xaxis": "x",
         "y": [
          -440,
          -440,
          -502.5,
          -502.5
         ],
         "yaxis": "y"
        },
        {
         "hoverinfo": "text",
         "marker": {
          "color": "rgb(61,153,112)"
         },
         "mode": "lines",
         "type": "scatter",
         "x": [
          0,
          0.31074713744386817,
          0.31074713744386817,
          0
         ],
         "xaxis": "x",
         "y": [
          -535,
          -535,
          -545,
          -545
         ],
         "yaxis": "y"
        },
        {
         "hoverinfo": "text",
         "marker": {
          "color": "rgb(61,153,112)"
         },
         "mode": "lines",
         "type": "scatter",
         "x": [
          0.31074713744386817,
          0.5252307119079703,
          0.5252307119079703,
          0
         ],
         "xaxis": "x",
         "y": [
          -540,
          -540,
          -555,
          -555
         ],
         "yaxis": "y"
        },
        {
         "hoverinfo": "text",
         "marker": {
          "color": "rgb(0,116,217)"
         },
         "mode": "lines",
         "type": "scatter",
         "x": [
          1.11049589032105,
          1.2460295207563392,
          1.2460295207563392,
          0.5252307119079703
         ],
         "xaxis": "x",
         "y": [
          -471.25,
          -471.25,
          -547.5,
          -547.5
         ],
         "yaxis": "y"
        },
        {
         "hoverinfo": "text",
         "marker": {
          "color": "rgb(255,65,54)"
         },
         "mode": "lines",
         "type": "scatter",
         "x": [
          0,
          0.34959451337695546,
          0.34959451337695546,
          0
         ],
         "xaxis": "x",
         "y": [
          -575,
          -575,
          -585,
          -585
         ],
         "yaxis": "y"
        },
        {
         "hoverinfo": "text",
         "marker": {
          "color": "rgb(255,65,54)"
         },
         "mode": "lines",
         "type": "scatter",
         "x": [
          0,
          0.42312868547930005,
          0.42312868547930005,
          0.34959451337695546
         ],
         "xaxis": "x",
         "y": [
          -565,
          -565,
          -580,
          -580
         ],
         "yaxis": "y"
        },
        {
         "hoverinfo": "text",
         "marker": {
          "color": "rgb(35,205,205)"
         },
         "mode": "lines",
         "type": "scatter",
         "x": [
          0,
          0.39717662221222505,
          0.39717662221222505,
          0
         ],
         "xaxis": "x",
         "y": [
          -595,
          -595,
          -605,
          -605
         ],
         "yaxis": "y"
        },
        {
         "hoverinfo": "text",
         "marker": {
          "color": "rgb(35,205,205)"
         },
         "mode": "lines",
         "type": "scatter",
         "x": [
          0.39717662221222505,
          0.7759399702408026,
          0.7759399702408026,
          0
         ],
         "xaxis": "x",
         "y": [
          -600,
          -600,
          -615,
          -615
         ],
         "yaxis": "y"
        },
        {
         "hoverinfo": "text",
         "marker": {
          "color": "rgb(0,116,217)"
         },
         "mode": "lines",
         "type": "scatter",
         "x": [
          0.42312868547930005,
          1.3268902791661503,
          1.3268902791661503,
          0.7759399702408026
         ],
         "xaxis": "x",
         "y": [
          -572.5,
          -572.5,
          -607.5,
          -607.5
         ],
         "yaxis": "y"
        },
        {
         "hoverinfo": "text",
         "marker": {
          "color": "rgb(0,116,217)"
         },
         "mode": "lines",
         "type": "scatter",
         "x": [
          1.2460295207563392,
          1.4584056675022656,
          1.4584056675022656,
          1.3268902791661503
         ],
         "xaxis": "x",
         "y": [
          -509.375,
          -509.375,
          -590,
          -590
         ],
         "yaxis": "y"
        },
        {
         "hoverinfo": "text",
         "marker": {
          "color": "rgb(0,116,217)"
         },
         "mode": "lines",
         "type": "scatter",
         "x": [
          1.3573143129079115,
          1.5929846488007446,
          1.5929846488007446,
          1.4584056675022656
         ],
         "xaxis": "x",
         "y": [
          -355.9375,
          -355.9375,
          -549.6875,
          -549.6875
         ],
         "yaxis": "y"
        },
        {
         "hoverinfo": "text",
         "marker": {
          "color": "rgb(0,116,217)"
         },
         "mode": "lines",
         "type": "scatter",
         "x": [
          1.1697288990155335,
          1.9286104415361496,
          1.9286104415361496,
          1.5929846488007446
         ],
         "xaxis": "x",
         "y": [
          -214.0625,
          -214.0625,
          -452.8125,
          -452.8125
         ],
         "yaxis": "y"
        },
        {
         "hoverinfo": "text",
         "marker": {
          "color": "rgb(133,20,75)"
         },
         "mode": "lines",
         "type": "scatter",
         "x": [
          0,
          0.41667466213815096,
          0.41667466213815096,
          0
         ],
         "xaxis": "x",
         "y": [
          -635,
          -635,
          -645,
          -645
         ],
         "yaxis": "y"
        },
        {
         "hoverinfo": "text",
         "marker": {
          "color": "rgb(133,20,75)"
         },
         "mode": "lines",
         "type": "scatter",
         "x": [
          0.41667466213815096,
          0.6583935489454901,
          0.6583935489454901,
          0
         ],
         "xaxis": "x",
         "y": [
          -640,
          -640,
          -655,
          -655
         ],
         "yaxis": "y"
        },
        {
         "hoverinfo": "text",
         "marker": {
          "color": "rgb(133,20,75)"
         },
         "mode": "lines",
         "type": "scatter",
         "x": [
          0,
          0.7748109342886033,
          0.7748109342886033,
          0.6583935489454901
         ],
         "xaxis": "x",
         "y": [
          -625,
          -625,
          -647.5,
          -647.5
         ],
         "yaxis": "y"
        },
        {
         "hoverinfo": "text",
         "marker": {
          "color": "rgb(255,220,0)"
         },
         "mode": "lines",
         "type": "scatter",
         "x": [
          0,
          0.4072903665295552,
          0.4072903665295552,
          0
         ],
         "xaxis": "x",
         "y": [
          -675,
          -675,
          -685,
          -685
         ],
         "yaxis": "y"
        },
        {
         "hoverinfo": "text",
         "marker": {
          "color": "rgb(255,220,0)"
         },
         "mode": "lines",
         "type": "scatter",
         "x": [
          0,
          0.45206742165718994,
          0.45206742165718994,
          0
         ],
         "xaxis": "x",
         "y": [
          -695,
          -695,
          -705,
          -705
         ],
         "yaxis": "y"
        },
        {
         "hoverinfo": "text",
         "marker": {
          "color": "rgb(255,220,0)"
         },
         "mode": "lines",
         "type": "scatter",
         "x": [
          0.4072903665295552,
          0.6059939881185467,
          0.6059939881185467,
          0.45206742165718994
         ],
         "xaxis": "x",
         "y": [
          -680,
          -680,
          -700,
          -700
         ],
         "yaxis": "y"
        },
        {
         "hoverinfo": "text",
         "marker": {
          "color": "rgb(255,220,0)"
         },
         "mode": "lines",
         "type": "scatter",
         "x": [
          0,
          0.6864729866704535,
          0.6864729866704535,
          0.6059939881185467
         ],
         "xaxis": "x",
         "y": [
          -665,
          -665,
          -690,
          -690
         ],
         "yaxis": "y"
        },
        {
         "hoverinfo": "text",
         "marker": {
          "color": "rgb(255,220,0)"
         },
         "mode": "lines",
         "type": "scatter",
         "x": [
          0,
          0.3996843430769268,
          0.3996843430769268,
          0
         ],
         "xaxis": "x",
         "y": [
          -715,
          -715,
          -725,
          -725
         ],
         "yaxis": "y"
        },
        {
         "hoverinfo": "text",
         "marker": {
          "color": "rgb(255,220,0)"
         },
         "mode": "lines",
         "type": "scatter",
         "x": [
          0,
          0.6164886412373491,
          0.6164886412373491,
          0
         ],
         "xaxis": "x",
         "y": [
          -735,
          -735,
          -745,
          -745
         ],
         "yaxis": "y"
        },
        {
         "hoverinfo": "text",
         "marker": {
          "color": "rgb(255,220,0)"
         },
         "mode": "lines",
         "type": "scatter",
         "x": [
          0.3996843430769268,
          0.770551371494003,
          0.770551371494003,
          0.6164886412373491
         ],
         "xaxis": "x",
         "y": [
          -720,
          -720,
          -740,
          -740
         ],
         "yaxis": "y"
        },
        {
         "hoverinfo": "text",
         "marker": {
          "color": "rgb(255,220,0)"
         },
         "mode": "lines",
         "type": "scatter",
         "x": [
          0.6864729866704535,
          0.8566632787507013,
          0.8566632787507013,
          0.770551371494003
         ],
         "xaxis": "x",
         "y": [
          -677.5,
          -677.5,
          -730,
          -730
         ],
         "yaxis": "y"
        },
        {
         "hoverinfo": "text",
         "marker": {
          "color": "rgb(255,220,0)"
         },
         "mode": "lines",
         "type": "scatter",
         "x": [
          0,
          0.6253582355585313,
          0.6253582355585313,
          0
         ],
         "xaxis": "x",
         "y": [
          -755,
          -755,
          -765,
          -765
         ],
         "yaxis": "y"
        },
        {
         "hoverinfo": "text",
         "marker": {
          "color": "rgb(255,220,0)"
         },
         "mode": "lines",
         "type": "scatter",
         "x": [
          0.6253582355585313,
          0.6790096842606047,
          0.6790096842606047,
          0
         ],
         "xaxis": "x",
         "y": [
          -760,
          -760,
          -775,
          -775
         ],
         "yaxis": "y"
        },
        {
         "hoverinfo": "text",
         "marker": {
          "color": "rgb(255,220,0)"
         },
         "mode": "lines",
         "type": "scatter",
         "x": [
          0.8566632787507013,
          0.990317742530137,
          0.990317742530137,
          0.6790096842606047
         ],
         "xaxis": "x",
         "y": [
          -703.75,
          -703.75,
          -767.5,
          -767.5
         ],
         "yaxis": "y"
        },
        {
         "hoverinfo": "text",
         "marker": {
          "color": "rgb(0,116,217)"
         },
         "mode": "lines",
         "type": "scatter",
         "x": [
          0.7748109342886033,
          1.0681369436537567,
          1.0681369436537567,
          0.990317742530137
         ],
         "xaxis": "x",
         "y": [
          -636.25,
          -636.25,
          -735.625,
          -735.625
         ],
         "yaxis": "y"
        },
        {
         "hoverinfo": "text",
         "marker": {
          "color": "rgb(40,35,35)"
         },
         "mode": "lines",
         "type": "scatter",
         "x": [
          0,
          0.5853832461970996,
          0.5853832461970996,
          0
         ],
         "xaxis": "x",
         "y": [
          -795,
          -795,
          -805,
          -805
         ],
         "yaxis": "y"
        },
        {
         "hoverinfo": "text",
         "marker": {
          "color": "rgb(40,35,35)"
         },
         "mode": "lines",
         "type": "scatter",
         "x": [
          0,
          0.6874369523791173,
          0.6874369523791173,
          0.5853832461970996
         ],
         "xaxis": "x",
         "y": [
          -785,
          -785,
          -800,
          -800
         ],
         "yaxis": "y"
        },
        {
         "hoverinfo": "text",
         "marker": {
          "color": "rgb(40,35,35)"
         },
         "mode": "lines",
         "type": "scatter",
         "x": [
          0,
          0.3238405856244464,
          0.3238405856244464,
          0
         ],
         "xaxis": "x",
         "y": [
          -825,
          -825,
          -835,
          -835
         ],
         "yaxis": "y"
        },
        {
         "hoverinfo": "text",
         "marker": {
          "color": "rgb(40,35,35)"
         },
         "mode": "lines",
         "type": "scatter",
         "x": [
          0,
          0.3848245976260473,
          0.3848245976260473,
          0.3238405856244464
         ],
         "xaxis": "x",
         "y": [
          -815,
          -815,
          -830,
          -830
         ],
         "yaxis": "y"
        },
        {
         "hoverinfo": "text",
         "marker": {
          "color": "rgb(40,35,35)"
         },
         "mode": "lines",
         "type": "scatter",
         "x": [
          0.3848245976260473,
          0.5555013572963651,
          0.5555013572963651,
          0
         ],
         "xaxis": "x",
         "y": [
          -822.5,
          -822.5,
          -845,
          -845
         ],
         "yaxis": "y"
        },
        {
         "hoverinfo": "text",
         "marker": {
          "color": "rgb(40,35,35)"
         },
         "mode": "lines",
         "type": "scatter",
         "x": [
          0.6874369523791173,
          0.7219158213703607,
          0.7219158213703607,
          0.5555013572963651
         ],
         "xaxis": "x",
         "y": [
          -792.5,
          -792.5,
          -833.75,
          -833.75
         ],
         "yaxis": "y"
        },
        {
         "hoverinfo": "text",
         "marker": {
          "color": "rgb(40,35,35)"
         },
         "mode": "lines",
         "type": "scatter",
         "x": [
          0,
          0.4432294908375487,
          0.4432294908375487,
          0
         ],
         "xaxis": "x",
         "y": [
          -855,
          -855,
          -865,
          -865
         ],
         "yaxis": "y"
        },
        {
         "hoverinfo": "text",
         "marker": {
          "color": "rgb(40,35,35)"
         },
         "mode": "lines",
         "type": "scatter",
         "x": [
          0.7219158213703607,
          0.7916555429073541,
          0.7916555429073541,
          0.4432294908375487
         ],
         "xaxis": "x",
         "y": [
          -813.125,
          -813.125,
          -860,
          -860
         ],
         "yaxis": "y"
        },
        {
         "hoverinfo": "text",
         "marker": {
          "color": "rgb(40,35,35)"
         },
         "mode": "lines",
         "type": "scatter",
         "x": [
          0,
          0.7302287375922409,
          0.7302287375922409,
          0
         ],
         "xaxis": "x",
         "y": [
          -875,
          -875,
          -885,
          -885
         ],
         "yaxis": "y"
        },
        {
         "hoverinfo": "text",
         "marker": {
          "color": "rgb(40,35,35)"
         },
         "mode": "lines",
         "type": "scatter",
         "x": [
          0.7916555429073541,
          0.8510709253654081,
          0.8510709253654081,
          0.7302287375922409
         ],
         "xaxis": "x",
         "y": [
          -836.5625,
          -836.5625,
          -880,
          -880
         ],
         "yaxis": "y"
        },
        {
         "hoverinfo": "text",
         "marker": {
          "color": "rgb(0,116,217)"
         },
         "mode": "lines",
         "type": "scatter",
         "x": [
          1.0681369436537567,
          1.741826098545807,
          1.741826098545807,
          0.8510709253654081
         ],
         "xaxis": "x",
         "y": [
          -685.9375,
          -685.9375,
          -858.28125,
          -858.28125
         ],
         "yaxis": "y"
        },
        {
         "hoverinfo": "text",
         "marker": {
          "color": "rgb(61,153,112)"
         },
         "mode": "lines",
         "type": "scatter",
         "x": [
          0,
          0.48071656900156867,
          0.48071656900156867,
          0
         ],
         "xaxis": "x",
         "y": [
          -905,
          -905,
          -915,
          -915
         ],
         "yaxis": "y"
        },
        {
         "hoverinfo": "text",
         "marker": {
          "color": "rgb(61,153,112)"
         },
         "mode": "lines",
         "type": "scatter",
         "x": [
          0,
          0.6174992744189236,
          0.6174992744189236,
          0.48071656900156867
         ],
         "xaxis": "x",
         "y": [
          -895,
          -895,
          -910,
          -910
         ],
         "yaxis": "y"
        },
        {
         "hoverinfo": "text",
         "marker": {
          "color": "rgb(61,153,112)"
         },
         "mode": "lines",
         "type": "scatter",
         "x": [
          0.6174992744189236,
          0.75040542492367,
          0.75040542492367,
          0
         ],
         "xaxis": "x",
         "y": [
          -902.5,
          -902.5,
          -925,
          -925
         ],
         "yaxis": "y"
        },
        {
         "hoverinfo": "text",
         "marker": {
          "color": "rgb(255,65,54)"
         },
         "mode": "lines",
         "type": "scatter",
         "x": [
          0,
          0.6850514360117188,
          0.6850514360117188,
          0
         ],
         "xaxis": "x",
         "y": [
          -935,
          -935,
          -945,
          -945
         ],
         "yaxis": "y"
        },
        {
         "hoverinfo": "text",
         "marker": {
          "color": "rgb(255,65,54)"
         },
         "mode": "lines",
         "type": "scatter",
         "x": [
          0,
          0.6008976370812769,
          0.6008976370812769,
          0
         ],
         "xaxis": "x",
         "y": [
          -965,
          -965,
          -975,
          -975
         ],
         "yaxis": "y"
        },
        {
         "hoverinfo": "text",
         "marker": {
          "color": "rgb(255,65,54)"
         },
         "mode": "lines",
         "type": "scatter",
         "x": [
          0,
          0.7089681814564984,
          0.7089681814564984,
          0.6008976370812769
         ],
         "xaxis": "x",
         "y": [
          -955,
          -955,
          -970,
          -970
         ],
         "yaxis": "y"
        },
        {
         "hoverinfo": "text",
         "marker": {
          "color": "rgb(255,65,54)"
         },
         "mode": "lines",
         "type": "scatter",
         "x": [
          0.6850514360117188,
          0.759336085626482,
          0.759336085626482,
          0.7089681814564984
         ],
         "xaxis": "x",
         "y": [
          -940,
          -940,
          -962.5,
          -962.5
         ],
         "yaxis": "y"
        },
        {
         "hoverinfo": "text",
         "marker": {
          "color": "rgb(255,65,54)"
         },
         "mode": "lines",
         "type": "scatter",
         "x": [
          0,
          0.6343410537905075,
          0.6343410537905075,
          0
         ],
         "xaxis": "x",
         "y": [
          -985,
          -985,
          -995,
          -995
         ],
         "yaxis": "y"
        },
        {
         "hoverinfo": "text",
         "marker": {
          "color": "rgb(255,65,54)"
         },
         "mode": "lines",
         "type": "scatter",
         "x": [
          0,
          0.6386650035637228,
          0.6386650035637228,
          0
         ],
         "xaxis": "x",
         "y": [
          -1005,
          -1005,
          -1015,
          -1015
         ],
         "yaxis": "y"
        },
        {
         "hoverinfo": "text",
         "marker": {
          "color": "rgb(255,65,54)"
         },
         "mode": "lines",
         "type": "scatter",
         "x": [
          0.6343410537905075,
          0.8393630279677448,
          0.8393630279677448,
          0.6386650035637228
         ],
         "xaxis": "x",
         "y": [
          -990,
          -990,
          -1010,
          -1010
         ],
         "yaxis": "y"
        },
        {
         "hoverinfo": "text",
         "marker": {
          "color": "rgb(255,65,54)"
         },
         "mode": "lines",
         "type": "scatter",
         "x": [
          0.759336085626482,
          0.9524685570121756,
          0.9524685570121756,
          0.8393630279677448
         ],
         "xaxis": "x",
         "y": [
          -951.25,
          -951.25,
          -1000,
          -1000
         ],
         "yaxis": "y"
        },
        {
         "hoverinfo": "text",
         "marker": {
          "color": "rgb(0,116,217)"
         },
         "mode": "lines",
         "type": "scatter",
         "x": [
          0.75040542492367,
          1.1757838694379246,
          1.1757838694379246,
          0.9524685570121756
         ],
         "xaxis": "x",
         "y": [
          -913.75,
          -913.75,
          -975.625,
          -975.625
         ],
         "yaxis": "y"
        },
        {
         "hoverinfo": "text",
         "marker": {
          "color": "rgb(35,205,205)"
         },
         "mode": "lines",
         "type": "scatter",
         "x": [
          0,
          0.5244733738996357,
          0.5244733738996357,
          0
         ],
         "xaxis": "x",
         "y": [
          -1035,
          -1035,
          -1045,
          -1045
         ],
         "yaxis": "y"
        },
        {
         "hoverinfo": "text",
         "marker": {
          "color": "rgb(35,205,205)"
         },
         "mode": "lines",
         "type": "scatter",
         "x": [
          0.5244733738996357,
          0.6862915187022101,
          0.6862915187022101,
          0
         ],
         "xaxis": "x",
         "y": [
          -1040,
          -1040,
          -1055,
          -1055
         ],
         "yaxis": "y"
        },
        {
         "hoverinfo": "text",
         "marker": {
          "color": "rgb(35,205,205)"
         },
         "mode": "lines",
         "type": "scatter",
         "x": [
          0,
          0.8162422218087038,
          0.8162422218087038,
          0.6862915187022101
         ],
         "xaxis": "x",
         "y": [
          -1025,
          -1025,
          -1047.5,
          -1047.5
         ],
         "yaxis": "y"
        },
        {
         "hoverinfo": "text",
         "marker": {
          "color": "rgb(61,153,112)"
         },
         "mode": "lines",
         "type": "scatter",
         "x": [
          0,
          0.45918308011605313,
          0.45918308011605313,
          0
         ],
         "xaxis": "x",
         "y": [
          -1065,
          -1065,
          -1075,
          -1075
         ],
         "yaxis": "y"
        },
        {
         "hoverinfo": "text",
         "marker": {
          "color": "rgb(61,153,112)"
         },
         "mode": "lines",
         "type": "scatter",
         "x": [
          0,
          0.5334414639050928,
          0.5334414639050928,
          0
         ],
         "xaxis": "x",
         "y": [
          -1085,
          -1085,
          -1095,
          -1095
         ],
         "yaxis": "y"
        },
        {
         "hoverinfo": "text",
         "marker": {
          "color": "rgb(61,153,112)"
         },
         "mode": "lines",
         "type": "scatter",
         "x": [
          0.45918308011605313,
          0.6616838339079061,
          0.6616838339079061,
          0.5334414639050928
         ],
         "xaxis": "x",
         "y": [
          -1070,
          -1070,
          -1090,
          -1090
         ],
         "yaxis": "y"
        },
        {
         "hoverinfo": "text",
         "marker": {
          "color": "rgb(0,116,217)"
         },
         "mode": "lines",
         "type": "scatter",
         "x": [
          0.8162422218087038,
          1.00705729350897,
          1.00705729350897,
          0.6616838339079061
         ],
         "xaxis": "x",
         "y": [
          -1036.25,
          -1036.25,
          -1080,
          -1080
         ],
         "yaxis": "y"
        },
        {
         "hoverinfo": "text",
         "marker": {
          "color": "rgb(255,65,54)"
         },
         "mode": "lines",
         "type": "scatter",
         "x": [
          0,
          0.5965285441463194,
          0.5965285441463194,
          0
         ],
         "xaxis": "x",
         "y": [
          -1105,
          -1105,
          -1115,
          -1115
         ],
         "yaxis": "y"
        },
        {
         "hoverinfo": "text",
         "marker": {
          "color": "rgb(255,65,54)"
         },
         "mode": "lines",
         "type": "scatter",
         "x": [
          0.5965285441463194,
          0.8214712241455191,
          0.8214712241455191,
          0
         ],
         "xaxis": "x",
         "y": [
          -1110,
          -1110,
          -1125,
          -1125
         ],
         "yaxis": "y"
        },
        {
         "hoverinfo": "text",
         "marker": {
          "color": "rgb(0,116,217)"
         },
         "mode": "lines",
         "type": "scatter",
         "x": [
          1.00705729350897,
          1.2134348245692035,
          1.2134348245692035,
          0.8214712241455191
         ],
         "xaxis": "x",
         "y": [
          -1058.125,
          -1058.125,
          -1117.5,
          -1117.5
         ],
         "yaxis": "y"
        },
        {
         "hoverinfo": "text",
         "marker": {
          "color": "rgb(0,116,217)"
         },
         "mode": "lines",
         "type": "scatter",
         "x": [
          1.1757838694379246,
          1.3146097579310818,
          1.3146097579310818,
          1.2134348245692035
         ],
         "xaxis": "x",
         "y": [
          -944.6875,
          -944.6875,
          -1087.8125,
          -1087.8125
         ],
         "yaxis": "y"
        },
        {
         "hoverinfo": "text",
         "marker": {
          "color": "rgb(35,205,205)"
         },
         "mode": "lines",
         "type": "scatter",
         "x": [
          0,
          0.4969077656310553,
          0.4969077656310553,
          0
         ],
         "xaxis": "x",
         "y": [
          -1145,
          -1145,
          -1155,
          -1155
         ],
         "yaxis": "y"
        },
        {
         "hoverinfo": "text",
         "marker": {
          "color": "rgb(35,205,205)"
         },
         "mode": "lines",
         "type": "scatter",
         "x": [
          0,
          0.7587538917915121,
          0.7587538917915121,
          0.4969077656310553
         ],
         "xaxis": "x",
         "y": [
          -1135,
          -1135,
          -1150,
          -1150
         ],
         "yaxis": "y"
        },
        {
         "hoverinfo": "text",
         "marker": {
          "color": "rgb(35,205,205)"
         },
         "mode": "lines",
         "type": "scatter",
         "x": [
          0,
          0.7733972313333646,
          0.7733972313333646,
          0
         ],
         "xaxis": "x",
         "y": [
          -1165,
          -1165,
          -1175,
          -1175
         ],
         "yaxis": "y"
        },
        {
         "hoverinfo": "text",
         "marker": {
          "color": "rgb(35,205,205)"
         },
         "mode": "lines",
         "type": "scatter",
         "x": [
          0,
          0.6204021326608571,
          0.6204021326608571,
          0
         ],
         "xaxis": "x",
         "y": [
          -1185,
          -1185,
          -1195,
          -1195
         ],
         "yaxis": "y"
        },
        {
         "hoverinfo": "text",
         "marker": {
          "color": "rgb(35,205,205)"
         },
         "mode": "lines",
         "type": "scatter",
         "x": [
          0.7733972313333646,
          0.8080068878822391,
          0.8080068878822391,
          0.6204021326608571
         ],
         "xaxis": "x",
         "y": [
          -1170,
          -1170,
          -1190,
          -1190
         ],
         "yaxis": "y"
        },
        {
         "hoverinfo": "text",
         "marker": {
          "color": "rgb(35,205,205)"
         },
         "mode": "lines",
         "type": "scatter",
         "x": [
          0.7587538917915121,
          0.9838493114003318,
          0.9838493114003318,
          0.8080068878822391
         ],
         "xaxis": "x",
         "y": [
          -1142.5,
          -1142.5,
          -1180,
          -1180
         ],
         "yaxis": "y"
        },
        {
         "hoverinfo": "text",
         "marker": {
          "color": "rgb(133,20,75)"
         },
         "mode": "lines",
         "type": "scatter",
         "x": [
          0,
          0.6105790943578064,
          0.6105790943578064,
          0
         ],
         "xaxis": "x",
         "y": [
          -1205,
          -1205,
          -1215,
          -1215
         ],
         "yaxis": "y"
        },
        {
         "hoverinfo": "text",
         "marker": {
          "color": "rgb(133,20,75)"
         },
         "mode": "lines",
         "type": "scatter",
         "x": [
          0,
          0.6923985393084527,
          0.6923985393084527,
          0
         ],
         "xaxis": "x",
         "y": [
          -1225,
          -1225,
          -1235,
          -1235
         ],
         "yaxis": "y"
        },
        {
         "hoverinfo": "text",
         "marker": {
          "color": "rgb(133,20,75)"
         },
         "mode": "lines",
         "type": "scatter",
         "x": [
          0.6105790943578064,
          0.8313070102588584,
          0.8313070102588584,
          0.6923985393084527
         ],
         "xaxis": "x",
         "y": [
          -1210,
          -1210,
          -1230,
          -1230
         ],
         "yaxis": "y"
        },
        {
         "hoverinfo": "text",
         "marker": {
          "color": "rgb(133,20,75)"
         },
         "mode": "lines",
         "type": "scatter",
         "x": [
          0,
          0.7732039336051211,
          0.7732039336051211,
          0
         ],
         "xaxis": "x",
         "y": [
          -1245,
          -1245,
          -1255,
          -1255
         ],
         "yaxis": "y"
        },
        {
         "hoverinfo": "text",
         "marker": {
          "color": "rgb(133,20,75)"
         },
         "mode": "lines",
         "type": "scatter",
         "x": [
          0.8313070102588584,
          0.9603680317867532,
          0.9603680317867532,
          0.7732039336051211
         ],
         "xaxis": "x",
         "y": [
          -1220,
          -1220,
          -1250,
          -1250
         ],
         "yaxis": "y"
        },
        {
         "hoverinfo": "text",
         "marker": {
          "color": "rgb(0,116,217)"
         },
         "mode": "lines",
         "type": "scatter",
         "x": [
          0.9838493114003318,
          1.2068145970436934,
          1.2068145970436934,
          0.9603680317867532
         ],
         "xaxis": "x",
         "y": [
          -1161.25,
          -1161.25,
          -1235,
          -1235
         ],
         "yaxis": "y"
        },
        {
         "hoverinfo": "text",
         "marker": {
          "color": "rgb(255,220,0)"
         },
         "mode": "lines",
         "type": "scatter",
         "x": [
          0,
          0.5434535853442128,
          0.5434535853442128,
          0
         ],
         "xaxis": "x",
         "y": [
          -1285,
          -1285,
          -1295,
          -1295
         ],
         "yaxis": "y"
        },
        {
         "hoverinfo": "text",
         "marker": {
          "color": "rgb(255,220,0)"
         },
         "mode": "lines",
         "type": "scatter",
         "x": [
          0.5434535853442128,
          0.7403254430949772,
          0.7403254430949772,
          0
         ],
         "xaxis": "x",
         "y": [
          -1290,
          -1290,
          -1305,
          -1305
         ],
         "yaxis": "y"
        },
        {
         "hoverinfo": "text",
         "marker": {
          "color": "rgb(255,220,0)"
         },
         "mode": "lines",
         "type": "scatter",
         "x": [
          0,
          0.8133484345080114,
          0.8133484345080114,
          0.7403254430949772
         ],
         "xaxis": "x",
         "y": [
          -1275,
          -1275,
          -1297.5,
          -1297.5
         ],
         "yaxis": "y"
        },
        {
         "hoverinfo": "text",
         "marker": {
          "color": "rgb(255,220,0)"
         },
         "mode": "lines",
         "type": "scatter",
         "x": [
          0,
          0.9230655072338773,
          0.9230655072338773,
          0.8133484345080114
         ],
         "xaxis": "x",
         "y": [
          -1265,
          -1265,
          -1286.25,
          -1286.25
         ],
         "yaxis": "y"
        },
        {
         "hoverinfo": "text",
         "marker": {
          "color": "rgb(40,35,35)"
         },
         "mode": "lines",
         "type": "scatter",
         "x": [
          0,
          0.8935024909757651,
          0.8935024909757651,
          0
         ],
         "xaxis": "x",
         "y": [
          -1325,
          -1325,
          -1335,
          -1335
         ],
         "yaxis": "y"
        },
        {
         "hoverinfo": "text",
         "marker": {
          "color": "rgb(40,35,35)"
         },
         "mode": "lines",
         "type": "scatter",
         "x": [
          0,
          0.942497649970097,
          0.942497649970097,
          0.8935024909757651
         ],
         "xaxis": "x",
         "y": [
          -1315,
          -1315,
          -1330,
          -1330
         ],
         "yaxis": "y"
        },
        {
         "hoverinfo": "text",
         "marker": {
          "color": "rgb(40,35,35)"
         },
         "mode": "lines",
         "type": "scatter",
         "x": [
          0,
          0.7930822305635012,
          0.7930822305635012,
          0
         ],
         "xaxis": "x",
         "y": [
          -1345,
          -1345,
          -1355,
          -1355
         ],
         "yaxis": "y"
        },
        {
         "hoverinfo": "text",
         "marker": {
          "color": "rgb(40,35,35)"
         },
         "mode": "lines",
         "type": "scatter",
         "x": [
          0.942497649970097,
          0.9901283272668684,
          0.9901283272668684,
          0.7930822305635012
         ],
         "xaxis": "x",
         "y": [
          -1322.5,
          -1322.5,
          -1350,
          -1350
         ],
         "yaxis": "y"
        },
        {
         "hoverinfo": "text",
         "marker": {
          "color": "rgb(0,116,217)"
         },
         "mode": "lines",
         "type": "scatter",
         "x": [
          0.9230655072338773,
          1.0313737519769262,
          1.0313737519769262,
          0.9901283272668684
         ],
         "xaxis": "x",
         "y": [
          -1275.625,
          -1275.625,
          -1336.25,
          -1336.25
         ],
         "yaxis": "y"
        },
        {
         "hoverinfo": "text",
         "marker": {
          "color": "rgb(61,153,112)"
         },
         "mode": "lines",
         "type": "scatter",
         "x": [
          0,
          0.3886795560551496,
          0.3886795560551496,
          0
         ],
         "xaxis": "x",
         "y": [
          -1375,
          -1375,
          -1385,
          -1385
         ],
         "yaxis": "y"
        },
        {
         "hoverinfo": "text",
         "marker": {
          "color": "rgb(61,153,112)"
         },
         "mode": "lines",
         "type": "scatter",
         "x": [
          0,
          0.6277366889664391,
          0.6277366889664391,
          0.3886795560551496
         ],
         "xaxis": "x",
         "y": [
          -1365,
          -1365,
          -1380,
          -1380
         ],
         "yaxis": "y"
        },
        {
         "hoverinfo": "text",
         "marker": {
          "color": "rgb(0,116,217)"
         },
         "mode": "lines",
         "type": "scatter",
         "x": [
          1.0313737519769262,
          1.1331387597651394,
          1.1331387597651394,
          0.6277366889664391
         ],
         "xaxis": "x",
         "y": [
          -1305.9375,
          -1305.9375,
          -1372.5,
          -1372.5
         ],
         "yaxis": "y"
        },
        {
         "hoverinfo": "text",
         "marker": {
          "color": "rgb(255,65,54)"
         },
         "mode": "lines",
         "type": "scatter",
         "x": [
          0,
          0.457719101847162,
          0.457719101847162,
          0
         ],
         "xaxis": "x",
         "y": [
          -1405,
          -1405,
          -1415,
          -1415
         ],
         "yaxis": "y"
        },
        {
         "hoverinfo": "text",
         "marker": {
          "color": "rgb(255,65,54)"
         },
         "mode": "lines",
         "type": "scatter",
         "x": [
          0,
          0.6555183086591775,
          0.6555183086591775,
          0.457719101847162
         ],
         "xaxis": "x",
         "y": [
          -1395,
          -1395,
          -1410,
          -1410
         ],
         "yaxis": "y"
        },
        {
         "hoverinfo": "text",
         "marker": {
          "color": "rgb(255,65,54)"
         },
         "mode": "lines",
         "type": "scatter",
         "x": [
          0,
          0.7838952019189158,
          0.7838952019189158,
          0
         ],
         "xaxis": "x",
         "y": [
          -1425,
          -1425,
          -1435,
          -1435
         ],
         "yaxis": "y"
        },
        {
         "hoverinfo": "text",
         "marker": {
          "color": "rgb(255,65,54)"
         },
         "mode": "lines",
         "type": "scatter",
         "x": [
          0.6555183086591775,
          0.8871630872202385,
          0.8871630872202385,
          0.7838952019189158
         ],
         "xaxis": "x",
         "y": [
          -1402.5,
          -1402.5,
          -1430,
          -1430
         ],
         "yaxis": "y"
        },
        {
         "hoverinfo": "text",
         "marker": {
          "color": "rgb(0,116,217)"
         },
         "mode": "lines",
         "type": "scatter",
         "x": [
          1.1331387597651394,
          1.2975180958359995,
          1.2975180958359995,
          0.8871630872202385
         ],
         "xaxis": "x",
         "y": [
          -1339.21875,
          -1339.21875,
          -1416.25,
          -1416.25
         ],
         "yaxis": "y"
        },
        {
         "hoverinfo": "text",
         "marker": {
          "color": "rgb(0,116,217)"
         },
         "mode": "lines",
         "type": "scatter",
         "x": [
          1.2068145970436934,
          1.4408027365007967,
          1.4408027365007967,
          1.2975180958359995
         ],
         "xaxis": "x",
         "y": [
          -1198.125,
          -1198.125,
          -1377.734375,
          -1377.734375
         ],
         "yaxis": "y"
        },
        {
         "hoverinfo": "text",
         "marker": {
          "color": "rgb(0,116,217)"
         },
         "mode": "lines",
         "type": "scatter",
         "x": [
          1.3146097579310818,
          1.5362980915301292,
          1.5362980915301292,
          1.4408027365007967
         ],
         "xaxis": "x",
         "y": [
          -1016.25,
          -1016.25,
          -1287.9296875,
          -1287.9296875
         ],
         "yaxis": "y"
        },
        {
         "hoverinfo": "text",
         "marker": {
          "color": "rgb(35,205,205)"
         },
         "mode": "lines",
         "type": "scatter",
         "x": [
          0,
          0.6154536970437606,
          0.6154536970437606,
          0
         ],
         "xaxis": "x",
         "y": [
          -1455,
          -1455,
          -1465,
          -1465
         ],
         "yaxis": "y"
        },
        {
         "hoverinfo": "text",
         "marker": {
          "color": "rgb(35,205,205)"
         },
         "mode": "lines",
         "type": "scatter",
         "x": [
          0,
          0.8398595597274859,
          0.8398595597274859,
          0.6154536970437606
         ],
         "xaxis": "x",
         "y": [
          -1445,
          -1445,
          -1460,
          -1460
         ],
         "yaxis": "y"
        },
        {
         "hoverinfo": "text",
         "marker": {
          "color": "rgb(61,153,112)"
         },
         "mode": "lines",
         "type": "scatter",
         "x": [
          0,
          0.4912812892690055,
          0.4912812892690055,
          0
         ],
         "xaxis": "x",
         "y": [
          -1485,
          -1485,
          -1495,
          -1495
         ],
         "yaxis": "y"
        },
        {
         "hoverinfo": "text",
         "marker": {
          "color": "rgb(61,153,112)"
         },
         "mode": "lines",
         "type": "scatter",
         "x": [
          0.4912812892690055,
          0.5873468750366704,
          0.5873468750366704,
          0
         ],
         "xaxis": "x",
         "y": [
          -1490,
          -1490,
          -1505,
          -1505
         ],
         "yaxis": "y"
        },
        {
         "hoverinfo": "text",
         "marker": {
          "color": "rgb(61,153,112)"
         },
         "mode": "lines",
         "type": "scatter",
         "x": [
          0,
          0.6415862708612822,
          0.6415862708612822,
          0.5873468750366704
         ],
         "xaxis": "x",
         "y": [
          -1475,
          -1475,
          -1497.5,
          -1497.5
         ],
         "yaxis": "y"
        },
        {
         "hoverinfo": "text",
         "marker": {
          "color": "rgb(61,153,112)"
         },
         "mode": "lines",
         "type": "scatter",
         "x": [
          0.6415862708612822,
          0.723650930202323,
          0.723650930202323,
          0
         ],
         "xaxis": "x",
         "y": [
          -1486.25,
          -1486.25,
          -1515,
          -1515
         ],
         "yaxis": "y"
        },
        {
         "hoverinfo": "text",
         "marker": {
          "color": "rgb(61,153,112)"
         },
         "mode": "lines",
         "type": "scatter",
         "x": [
          0,
          0.45884593635157533,
          0.45884593635157533,
          0
         ],
         "xaxis": "x",
         "y": [
          -1535,
          -1535,
          -1545,
          -1545
         ],
         "yaxis": "y"
        },
        {
         "hoverinfo": "text",
         "marker": {
          "color": "rgb(61,153,112)"
         },
         "mode": "lines",
         "type": "scatter",
         "x": [
          0,
          0.6434267194450768,
          0.6434267194450768,
          0.45884593635157533
         ],
         "xaxis": "x",
         "y": [
          -1525,
          -1525,
          -1540,
          -1540
         ],
         "yaxis": "y"
        },
        {
         "hoverinfo": "text",
         "marker": {
          "color": "rgb(61,153,112)"
         },
         "mode": "lines",
         "type": "scatter",
         "x": [
          0.723650930202323,
          0.9783541348880314,
          0.9783541348880314,
          0.6434267194450768
         ],
         "xaxis": "x",
         "y": [
          -1500.625,
          -1500.625,
          -1532.5,
          -1532.5
         ],
         "yaxis": "y"
        },
        {
         "hoverinfo": "text",
         "marker": {
          "color": "rgb(0,116,217)"
         },
         "mode": "lines",
         "type": "scatter",
         "x": [
          0.8398595597274859,
          1.0121834514182522,
          1.0121834514182522,
          0.9783541348880314
         ],
         "xaxis": "x",
         "y": [
          -1452.5,
          -1452.5,
          -1516.5625,
          -1516.5625
         ],
         "yaxis": "y"
        },
        {
         "hoverinfo": "text",
         "marker": {
          "color": "rgb(255,65,54)"
         },
         "mode": "lines",
         "type": "scatter",
         "x": [
          0,
          0.5264765568721181,
          0.5264765568721181,
          0
         ],
         "xaxis": "x",
         "y": [
          -1555,
          -1555,
          -1565,
          -1565
         ],
         "yaxis": "y"
        },
        {
         "hoverinfo": "text",
         "marker": {
          "color": "rgb(255,65,54)"
         },
         "mode": "lines",
         "type": "scatter",
         "x": [
          0,
          0.6341522592841967,
          0.6341522592841967,
          0
         ],
         "xaxis": "x",
         "y": [
          -1585,
          -1585,
          -1595,
          -1595
         ],
         "yaxis": "y"
        },
        {
         "hoverinfo": "text",
         "marker": {
          "color": "rgb(255,65,54)"
         },
         "mode": "lines",
         "type": "scatter",
         "x": [
          0.6341522592841967,
          0.7200922450853989,
          0.7200922450853989,
          0
         ],
         "xaxis": "x",
         "y": [
          -1590,
          -1590,
          -1605,
          -1605
         ],
         "yaxis": "y"
        },
        {
         "hoverinfo": "text",
         "marker": {
          "color": "rgb(255,65,54)"
         },
         "mode": "lines",
         "type": "scatter",
         "x": [
          0.7200922450853989,
          0.7595892166797868,
          0.7595892166797868,
          0
         ],
         "xaxis": "x",
         "y": [
          -1597.5,
          -1597.5,
          -1615,
          -1615
         ],
         "yaxis": "y"
        },
        {
         "hoverinfo": "text",
         "marker": {
          "color": "rgb(255,65,54)"
         },
         "mode": "lines",
         "type": "scatter",
         "x": [
          0,
          0.8283407018083118,
          0.8283407018083118,
          0.7595892166797868
         ],
         "xaxis": "x",
         "y": [
          -1575,
          -1575,
          -1606.25,
          -1606.25
         ],
         "yaxis": "y"
        },
        {
         "hoverinfo": "text",
         "marker": {
          "color": "rgb(255,65,54)"
         },
         "mode": "lines",
         "type": "scatter",
         "x": [
          0.8283407018083118,
          0.9067793280736332,
          0.9067793280736332,
          0
         ],
         "xaxis": "x",
         "y": [
          -1590.625,
          -1590.625,
          -1625,
          -1625
         ],
         "yaxis": "y"
        },
        {
         "hoverinfo": "text",
         "marker": {
          "color": "rgb(255,65,54)"
         },
         "mode": "lines",
         "type": "scatter",
         "x": [
          0.5264765568721181,
          0.9921866481014145,
          0.9921866481014145,
          0.9067793280736332
         ],
         "xaxis": "x",
         "y": [
          -1560,
          -1560,
          -1607.8125,
          -1607.8125
         ],
         "yaxis": "y"
        },
        {
         "hoverinfo": "text",
         "marker": {
          "color": "rgb(35,205,205)"
         },
         "mode": "lines",
         "type": "scatter",
         "x": [
          0,
          0.5285759452763357,
          0.5285759452763357,
          0
         ],
         "xaxis": "x",
         "y": [
          -1635,
          -1635,
          -1645,
          -1645
         ],
         "yaxis": "y"
        },
        {
         "hoverinfo": "text",
         "marker": {
          "color": "rgb(0,116,217)"
         },
         "mode": "lines",
         "type": "scatter",
         "x": [
          0.9921866481014145,
          1.036547584352059,
          1.036547584352059,
          0.5285759452763357
         ],
         "xaxis": "x",
         "y": [
          -1583.90625,
          -1583.90625,
          -1640,
          -1640
         ],
         "yaxis": "y"
        },
        {
         "hoverinfo": "text",
         "marker": {
          "color": "rgb(133,20,75)"
         },
         "mode": "lines",
         "type": "scatter",
         "x": [
          0,
          0.467439046494568,
          0.467439046494568,
          0
         ],
         "xaxis": "x",
         "y": [
          -1655,
          -1655,
          -1665,
          -1665
         ],
         "yaxis": "y"
        },
        {
         "hoverinfo": "text",
         "marker": {
          "color": "rgb(133,20,75)"
         },
         "mode": "lines",
         "type": "scatter",
         "x": [
          0.467439046494568,
          0.6321367067625423,
          0.6321367067625423,
          0
         ],
         "xaxis": "x",
         "y": [
          -1660,
          -1660,
          -1675,
          -1675
         ],
         "yaxis": "y"
        },
        {
         "hoverinfo": "text",
         "marker": {
          "color": "rgb(133,20,75)"
         },
         "mode": "lines",
         "type": "scatter",
         "x": [
          0,
          0.7015363100075774,
          0.7015363100075774,
          0
         ],
         "xaxis": "x",
         "y": [
          -1685,
          -1685,
          -1695,
          -1695
         ],
         "yaxis": "y"
        },
        {
         "hoverinfo": "text",
         "marker": {
          "color": "rgb(133,20,75)"
         },
         "mode": "lines",
         "type": "scatter",
         "x": [
          0.6321367067625423,
          0.9107529497194695,
          0.9107529497194695,
          0.7015363100075774
         ],
         "xaxis": "x",
         "y": [
          -1667.5,
          -1667.5,
          -1690,
          -1690
         ],
         "yaxis": "y"
        },
        {
         "hoverinfo": "text",
         "marker": {
          "color": "rgb(0,116,217)"
         },
         "mode": "lines",
         "type": "scatter",
         "x": [
          1.036547584352059,
          1.1897831694354897,
          1.1897831694354897,
          0.9107529497194695
         ],
         "xaxis": "x",
         "y": [
          -1611.953125,
          -1611.953125,
          -1678.75,
          -1678.75
         ],
         "yaxis": "y"
        },
        {
         "hoverinfo": "text",
         "marker": {
          "color": "rgb(0,116,217)"
         },
         "mode": "lines",
         "type": "scatter",
         "x": [
          1.0121834514182522,
          1.3806777350085182,
          1.3806777350085182,
          1.1897831694354897
         ],
         "xaxis": "x",
         "y": [
          -1484.53125,
          -1484.53125,
          -1645.3515625,
          -1645.3515625
         ],
         "yaxis": "y"
        },
        {
         "hoverinfo": "text",
         "marker": {
          "color": "rgb(0,116,217)"
         },
         "mode": "lines",
         "type": "scatter",
         "x": [
          1.5362980915301292,
          1.7870010483135093,
          1.7870010483135093,
          1.3806777350085182
         ],
         "xaxis": "x",
         "y": [
          -1152.08984375,
          -1152.08984375,
          -1564.94140625,
          -1564.94140625
         ],
         "yaxis": "y"
        },
        {
         "hoverinfo": "text",
         "marker": {
          "color": "rgb(0,116,217)"
         },
         "mode": "lines",
         "type": "scatter",
         "x": [
          1.741826098545807,
          2.0070329418670765,
          2.0070329418670765,
          1.7870010483135093
         ],
         "xaxis": "x",
         "y": [
          -772.109375,
          -772.109375,
          -1358.515625,
          -1358.515625
         ],
         "yaxis": "y"
        },
        {
         "hoverinfo": "text",
         "marker": {
          "color": "rgb(255,220,0)"
         },
         "mode": "lines",
         "type": "scatter",
         "x": [
          0,
          0.4495555952645829,
          0.4495555952645829,
          0
         ],
         "xaxis": "x",
         "y": [
          -1705,
          -1705,
          -1715,
          -1715
         ],
         "yaxis": "y"
        },
        {
         "hoverinfo": "text",
         "marker": {
          "color": "rgb(40,35,35)"
         },
         "mode": "lines",
         "type": "scatter",
         "x": [
          0,
          0.5019030890798626,
          0.5019030890798626,
          0
         ],
         "xaxis": "x",
         "y": [
          -1745,
          -1745,
          -1755,
          -1755
         ],
         "yaxis": "y"
        },
        {
         "hoverinfo": "text",
         "marker": {
          "color": "rgb(40,35,35)"
         },
         "mode": "lines",
         "type": "scatter",
         "x": [
          0,
          0.6005102527956957,
          0.6005102527956957,
          0.5019030890798626
         ],
         "xaxis": "x",
         "y": [
          -1735,
          -1735,
          -1750,
          -1750
         ],
         "yaxis": "y"
        },
        {
         "hoverinfo": "text",
         "marker": {
          "color": "rgb(40,35,35)"
         },
         "mode": "lines",
         "type": "scatter",
         "x": [
          0.6005102527956957,
          0.6802858381031183,
          0.6802858381031183,
          0
         ],
         "xaxis": "x",
         "y": [
          -1742.5,
          -1742.5,
          -1765,
          -1765
         ],
         "yaxis": "y"
        },
        {
         "hoverinfo": "text",
         "marker": {
          "color": "rgb(40,35,35)"
         },
         "mode": "lines",
         "type": "scatter",
         "x": [
          0,
          0.8012243860707182,
          0.8012243860707182,
          0.6802858381031183
         ],
         "xaxis": "x",
         "y": [
          -1725,
          -1725,
          -1753.75,
          -1753.75
         ],
         "yaxis": "y"
        },
        {
         "hoverinfo": "text",
         "marker": {
          "color": "rgb(61,153,112)"
         },
         "mode": "lines",
         "type": "scatter",
         "x": [
          0,
          0.775903377901905,
          0.775903377901905,
          0
         ],
         "xaxis": "x",
         "y": [
          -1785,
          -1785,
          -1795,
          -1795
         ],
         "yaxis": "y"
        },
        {
         "hoverinfo": "text",
         "marker": {
          "color": "rgb(61,153,112)"
         },
         "mode": "lines",
         "type": "scatter",
         "x": [
          0,
          0.7918880543001539,
          0.7918880543001539,
          0.775903377901905
         ],
         "xaxis": "x",
         "y": [
          -1775,
          -1775,
          -1790,
          -1790
         ],
         "yaxis": "y"
        },
        {
         "hoverinfo": "text",
         "marker": {
          "color": "rgb(61,153,112)"
         },
         "mode": "lines",
         "type": "scatter",
         "x": [
          0.7918880543001539,
          0.844216205327799,
          0.844216205327799,
          0
         ],
         "xaxis": "x",
         "y": [
          -1782.5,
          -1782.5,
          -1805,
          -1805
         ],
         "yaxis": "y"
        },
        {
         "hoverinfo": "text",
         "marker": {
          "color": "rgb(61,153,112)"
         },
         "mode": "lines",
         "type": "scatter",
         "x": [
          0.844216205327799,
          0.9103616983832393,
          0.9103616983832393,
          0
         ],
         "xaxis": "x",
         "y": [
          -1793.75,
          -1793.75,
          -1815,
          -1815
         ],
         "yaxis": "y"
        },
        {
         "hoverinfo": "text",
         "marker": {
          "color": "rgb(0,116,217)"
         },
         "mode": "lines",
         "type": "scatter",
         "x": [
          0.8012243860707182,
          1.0465139654032352,
          1.0465139654032352,
          0.9103616983832393
         ],
         "xaxis": "x",
         "y": [
          -1739.375,
          -1739.375,
          -1804.375,
          -1804.375
         ],
         "yaxis": "y"
        },
        {
         "hoverinfo": "text",
         "marker": {
          "color": "rgb(0,116,217)"
         },
         "mode": "lines",
         "type": "scatter",
         "x": [
          0.4495555952645829,
          1.1334425040819025,
          1.1334425040819025,
          1.0465139654032352
         ],
         "xaxis": "x",
         "y": [
          -1710,
          -1710,
          -1771.875,
          -1771.875
         ],
         "yaxis": "y"
        },
        {
         "hoverinfo": "text",
         "marker": {
          "color": "rgb(255,65,54)"
         },
         "mode": "lines",
         "type": "scatter",
         "x": [
          0,
          0.46403883728761786,
          0.46403883728761786,
          0
         ],
         "xaxis": "x",
         "y": [
          -1835,
          -1835,
          -1845,
          -1845
         ],
         "yaxis": "y"
        },
        {
         "hoverinfo": "text",
         "marker": {
          "color": "rgb(255,65,54)"
         },
         "mode": "lines",
         "type": "scatter",
         "x": [
          0,
          0.7742349569114257,
          0.7742349569114257,
          0.46403883728761786
         ],
         "xaxis": "x",
         "y": [
          -1825,
          -1825,
          -1840,
          -1840
         ],
         "yaxis": "y"
        },
        {
         "hoverinfo": "text",
         "marker": {
          "color": "rgb(0,116,217)"
         },
         "mode": "lines",
         "type": "scatter",
         "x": [
          1.1334425040819025,
          1.245036179601846,
          1.245036179601846,
          0.7742349569114257
         ],
         "xaxis": "x",
         "y": [
          -1740.9375,
          -1740.9375,
          -1832.5,
          -1832.5
         ],
         "yaxis": "y"
        },
        {
         "hoverinfo": "text",
         "marker": {
          "color": "rgb(35,205,205)"
         },
         "mode": "lines",
         "type": "scatter",
         "x": [
          0,
          0.6510482428246569,
          0.6510482428246569,
          0
         ],
         "xaxis": "x",
         "y": [
          -1855,
          -1855,
          -1865,
          -1865
         ],
         "yaxis": "y"
        },
        {
         "hoverinfo": "text",
         "marker": {
          "color": "rgb(35,205,205)"
         },
         "mode": "lines",
         "type": "scatter",
         "x": [
          0.6510482428246569,
          0.7317768786560565,
          0.7317768786560565,
          0
         ],
         "xaxis": "x",
         "y": [
          -1860,
          -1860,
          -1875,
          -1875
         ],
         "yaxis": "y"
        },
        {
         "hoverinfo": "text",
         "marker": {
          "color": "rgb(35,205,205)"
         },
         "mode": "lines",
         "type": "scatter",
         "x": [
          0,
          0.6648313126267433,
          0.6648313126267433,
          0
         ],
         "xaxis": "x",
         "y": [
          -1885,
          -1885,
          -1895,
          -1895
         ],
         "yaxis": "y"
        },
        {
         "hoverinfo": "text",
         "marker": {
          "color": "rgb(35,205,205)"
         },
         "mode": "lines",
         "type": "scatter",
         "x": [
          0.6648313126267433,
          0.7491204071659556,
          0.7491204071659556,
          0
         ],
         "xaxis": "x",
         "y": [
          -1890,
          -1890,
          -1905,
          -1905
         ],
         "yaxis": "y"
        },
        {
         "hoverinfo": "text",
         "marker": {
          "color": "rgb(35,205,205)"
         },
         "mode": "lines",
         "type": "scatter",
         "x": [
          0.7317768786560565,
          0.8926910885784187,
          0.8926910885784187,
          0.7491204071659556
         ],
         "xaxis": "x",
         "y": [
          -1867.5,
          -1867.5,
          -1897.5,
          -1897.5
         ],
         "yaxis": "y"
        },
        {
         "hoverinfo": "text",
         "marker": {
          "color": "rgb(61,153,112)"
         },
         "mode": "lines",
         "type": "scatter",
         "x": [
          0,
          0.28981198298495325,
          0.28981198298495325,
          0
         ],
         "xaxis": "x",
         "y": [
          -1925,
          -1925,
          -1935,
          -1935
         ],
         "yaxis": "y"
        },
        {
         "hoverinfo": "text",
         "marker": {
          "color": "rgb(61,153,112)"
         },
         "mode": "lines",
         "type": "scatter",
         "x": [
          0,
          0.3996533788468083,
          0.3996533788468083,
          0.28981198298495325
         ],
         "xaxis": "x",
         "y": [
          -1915,
          -1915,
          -1930,
          -1930
         ],
         "yaxis": "y"
        },
        {
         "hoverinfo": "text",
         "marker": {
          "color": "rgb(61,153,112)"
         },
         "mode": "lines",
         "type": "scatter",
         "x": [
          0,
          0.5503306704431774,
          0.5503306704431774,
          0
         ],
         "xaxis": "x",
         "y": [
          -1945,
          -1945,
          -1955,
          -1955
         ],
         "yaxis": "y"
        },
        {
         "hoverinfo": "text",
         "marker": {
          "color": "rgb(61,153,112)"
         },
         "mode": "lines",
         "type": "scatter",
         "x": [
          0.3996533788468083,
          0.7729748989530372,
          0.7729748989530372,
          0.5503306704431774
         ],
         "xaxis": "x",
         "y": [
          -1922.5,
          -1922.5,
          -1950,
          -1950
         ],
         "yaxis": "y"
        },
        {
         "hoverinfo": "text",
         "marker": {
          "color": "rgb(0,116,217)"
         },
         "mode": "lines",
         "type": "scatter",
         "x": [
          0.8926910885784187,
          1.070857352709194,
          1.070857352709194,
          0.7729748989530372
         ],
         "xaxis": "x",
         "y": [
          -1882.5,
          -1882.5,
          -1936.25,
          -1936.25
         ],
         "yaxis": "y"
        },
        {
         "hoverinfo": "text",
         "marker": {
          "color": "rgb(0,116,217)"
         },
         "mode": "lines",
         "type": "scatter",
         "x": [
          1.245036179601846,
          1.3640293955993852,
          1.3640293955993852,
          1.070857352709194
         ],
         "xaxis": "x",
         "y": [
          -1786.71875,
          -1786.71875,
          -1909.375,
          -1909.375
         ],
         "yaxis": "y"
        },
        {
         "hoverinfo": "text",
         "marker": {
          "color": "rgb(0,116,217)"
         },
         "mode": "lines",
         "type": "scatter",
         "x": [
          2.0070329418670765,
          2.1020949755598797,
          2.1020949755598797,
          1.3640293955993852
         ],
         "xaxis": "x",
         "y": [
          -1065.3125,
          -1065.3125,
          -1848.046875,
          -1848.046875
         ],
         "yaxis": "y"
        },
        {
         "hoverinfo": "text",
         "marker": {
          "color": "rgb(0,116,217)"
         },
         "mode": "lines",
         "type": "scatter",
         "x": [
          1.9286104415361496,
          2.1708827743152916,
          2.1708827743152916,
          2.1020949755598797
         ],
         "xaxis": "x",
         "y": [
          -333.4375,
          -333.4375,
          -1456.6796875,
          -1456.6796875
         ],
         "yaxis": "y"
        },
        {
         "hoverinfo": "text",
         "marker": {
          "color": "rgb(0,116,217)"
         },
         "mode": "lines",
         "type": "scatter",
         "x": [
          1.429849495697856,
          2.6330415912301013,
          2.6330415912301013,
          2.1708827743152916
         ],
         "xaxis": "x",
         "y": [
          -87.1875,
          -87.1875,
          -895.05859375,
          -895.05859375
         ],
         "yaxis": "y"
        }
       ],
       "layout": {
        "autosize": false,
        "height": 3140,
        "hoverlabel": {
         "bgcolor": "white",
         "font": {
          "family": "Rockwell",
          "size": 16
         }
        },
        "hovermode": "closest",
        "plot_bgcolor": "#ECEFF1",
        "showlegend": false,
        "template": {
         "data": {
          "bar": [
           {
            "error_x": {
             "color": "#2a3f5f"
            },
            "error_y": {
             "color": "#2a3f5f"
            },
            "marker": {
             "line": {
              "color": "white",
              "width": 0.5
             },
             "pattern": {
              "fillmode": "overlay",
              "size": 10,
              "solidity": 0.2
             }
            },
            "type": "bar"
           }
          ],
          "barpolar": [
           {
            "marker": {
             "line": {
              "color": "white",
              "width": 0.5
             },
             "pattern": {
              "fillmode": "overlay",
              "size": 10,
              "solidity": 0.2
             }
            },
            "type": "barpolar"
           }
          ],
          "carpet": [
           {
            "aaxis": {
             "endlinecolor": "#2a3f5f",
             "gridcolor": "#C8D4E3",
             "linecolor": "#C8D4E3",
             "minorgridcolor": "#C8D4E3",
             "startlinecolor": "#2a3f5f"
            },
            "baxis": {
             "endlinecolor": "#2a3f5f",
             "gridcolor": "#C8D4E3",
             "linecolor": "#C8D4E3",
             "minorgridcolor": "#C8D4E3",
             "startlinecolor": "#2a3f5f"
            },
            "type": "carpet"
           }
          ],
          "choropleth": [
           {
            "colorbar": {
             "outlinewidth": 0,
             "ticks": ""
            },
            "type": "choropleth"
           }
          ],
          "contour": [
           {
            "colorbar": {
             "outlinewidth": 0,
             "ticks": ""
            },
            "colorscale": [
             [
              0,
              "#0d0887"
             ],
             [
              0.1111111111111111,
              "#46039f"
             ],
             [
              0.2222222222222222,
              "#7201a8"
             ],
             [
              0.3333333333333333,
              "#9c179e"
             ],
             [
              0.4444444444444444,
              "#bd3786"
             ],
             [
              0.5555555555555556,
              "#d8576b"
             ],
             [
              0.6666666666666666,
              "#ed7953"
             ],
             [
              0.7777777777777778,
              "#fb9f3a"
             ],
             [
              0.8888888888888888,
              "#fdca26"
             ],
             [
              1,
              "#f0f921"
             ]
            ],
            "type": "contour"
           }
          ],
          "contourcarpet": [
           {
            "colorbar": {
             "outlinewidth": 0,
             "ticks": ""
            },
            "type": "contourcarpet"
           }
          ],
          "heatmap": [
           {
            "colorbar": {
             "outlinewidth": 0,
             "ticks": ""
            },
            "colorscale": [
             [
              0,
              "#0d0887"
             ],
             [
              0.1111111111111111,
              "#46039f"
             ],
             [
              0.2222222222222222,
              "#7201a8"
             ],
             [
              0.3333333333333333,
              "#9c179e"
             ],
             [
              0.4444444444444444,
              "#bd3786"
             ],
             [
              0.5555555555555556,
              "#d8576b"
             ],
             [
              0.6666666666666666,
              "#ed7953"
             ],
             [
              0.7777777777777778,
              "#fb9f3a"
             ],
             [
              0.8888888888888888,
              "#fdca26"
             ],
             [
              1,
              "#f0f921"
             ]
            ],
            "type": "heatmap"
           }
          ],
          "heatmapgl": [
           {
            "colorbar": {
             "outlinewidth": 0,
             "ticks": ""
            },
            "colorscale": [
             [
              0,
              "#0d0887"
             ],
             [
              0.1111111111111111,
              "#46039f"
             ],
             [
              0.2222222222222222,
              "#7201a8"
             ],
             [
              0.3333333333333333,
              "#9c179e"
             ],
             [
              0.4444444444444444,
              "#bd3786"
             ],
             [
              0.5555555555555556,
              "#d8576b"
             ],
             [
              0.6666666666666666,
              "#ed7953"
             ],
             [
              0.7777777777777778,
              "#fb9f3a"
             ],
             [
              0.8888888888888888,
              "#fdca26"
             ],
             [
              1,
              "#f0f921"
             ]
            ],
            "type": "heatmapgl"
           }
          ],
          "histogram": [
           {
            "marker": {
             "pattern": {
              "fillmode": "overlay",
              "size": 10,
              "solidity": 0.2
             }
            },
            "type": "histogram"
           }
          ],
          "histogram2d": [
           {
            "colorbar": {
             "outlinewidth": 0,
             "ticks": ""
            },
            "colorscale": [
             [
              0,
              "#0d0887"
             ],
             [
              0.1111111111111111,
              "#46039f"
             ],
             [
              0.2222222222222222,
              "#7201a8"
             ],
             [
              0.3333333333333333,
              "#9c179e"
             ],
             [
              0.4444444444444444,
              "#bd3786"
             ],
             [
              0.5555555555555556,
              "#d8576b"
             ],
             [
              0.6666666666666666,
              "#ed7953"
             ],
             [
              0.7777777777777778,
              "#fb9f3a"
             ],
             [
              0.8888888888888888,
              "#fdca26"
             ],
             [
              1,
              "#f0f921"
             ]
            ],
            "type": "histogram2d"
           }
          ],
          "histogram2dcontour": [
           {
            "colorbar": {
             "outlinewidth": 0,
             "ticks": ""
            },
            "colorscale": [
             [
              0,
              "#0d0887"
             ],
             [
              0.1111111111111111,
              "#46039f"
             ],
             [
              0.2222222222222222,
              "#7201a8"
             ],
             [
              0.3333333333333333,
              "#9c179e"
             ],
             [
              0.4444444444444444,
              "#bd3786"
             ],
             [
              0.5555555555555556,
              "#d8576b"
             ],
             [
              0.6666666666666666,
              "#ed7953"
             ],
             [
              0.7777777777777778,
              "#fb9f3a"
             ],
             [
              0.8888888888888888,
              "#fdca26"
             ],
             [
              1,
              "#f0f921"
             ]
            ],
            "type": "histogram2dcontour"
           }
          ],
          "mesh3d": [
           {
            "colorbar": {
             "outlinewidth": 0,
             "ticks": ""
            },
            "type": "mesh3d"
           }
          ],
          "parcoords": [
           {
            "line": {
             "colorbar": {
              "outlinewidth": 0,
              "ticks": ""
             }
            },
            "type": "parcoords"
           }
          ],
          "pie": [
           {
            "automargin": true,
            "type": "pie"
           }
          ],
          "scatter": [
           {
            "fillpattern": {
             "fillmode": "overlay",
             "size": 10,
             "solidity": 0.2
            },
            "type": "scatter"
           }
          ],
          "scatter3d": [
           {
            "line": {
             "colorbar": {
              "outlinewidth": 0,
              "ticks": ""
             }
            },
            "marker": {
             "colorbar": {
              "outlinewidth": 0,
              "ticks": ""
             }
            },
            "type": "scatter3d"
           }
          ],
          "scattercarpet": [
           {
            "marker": {
             "colorbar": {
              "outlinewidth": 0,
              "ticks": ""
             }
            },
            "type": "scattercarpet"
           }
          ],
          "scattergeo": [
           {
            "marker": {
             "colorbar": {
              "outlinewidth": 0,
              "ticks": ""
             }
            },
            "type": "scattergeo"
           }
          ],
          "scattergl": [
           {
            "marker": {
             "colorbar": {
              "outlinewidth": 0,
              "ticks": ""
             }
            },
            "type": "scattergl"
           }
          ],
          "scattermapbox": [
           {
            "marker": {
             "colorbar": {
              "outlinewidth": 0,
              "ticks": ""
             }
            },
            "type": "scattermapbox"
           }
          ],
          "scatterpolar": [
           {
            "marker": {
             "colorbar": {
              "outlinewidth": 0,
              "ticks": ""
             }
            },
            "type": "scatterpolar"
           }
          ],
          "scatterpolargl": [
           {
            "marker": {
             "colorbar": {
              "outlinewidth": 0,
              "ticks": ""
             }
            },
            "type": "scatterpolargl"
           }
          ],
          "scatterternary": [
           {
            "marker": {
             "colorbar": {
              "outlinewidth": 0,
              "ticks": ""
             }
            },
            "type": "scatterternary"
           }
          ],
          "surface": [
           {
            "colorbar": {
             "outlinewidth": 0,
             "ticks": ""
            },
            "colorscale": [
             [
              0,
              "#0d0887"
             ],
             [
              0.1111111111111111,
              "#46039f"
             ],
             [
              0.2222222222222222,
              "#7201a8"
             ],
             [
              0.3333333333333333,
              "#9c179e"
             ],
             [
              0.4444444444444444,
              "#bd3786"
             ],
             [
              0.5555555555555556,
              "#d8576b"
             ],
             [
              0.6666666666666666,
              "#ed7953"
             ],
             [
              0.7777777777777778,
              "#fb9f3a"
             ],
             [
              0.8888888888888888,
              "#fdca26"
             ],
             [
              1,
              "#f0f921"
             ]
            ],
            "type": "surface"
           }
          ],
          "table": [
           {
            "cells": {
             "fill": {
              "color": "#EBF0F8"
             },
             "line": {
              "color": "white"
             }
            },
            "header": {
             "fill": {
              "color": "#C8D4E3"
             },
             "line": {
              "color": "white"
             }
            },
            "type": "table"
           }
          ]
         },
         "layout": {
          "annotationdefaults": {
           "arrowcolor": "#2a3f5f",
           "arrowhead": 0,
           "arrowwidth": 1
          },
          "autotypenumbers": "strict",
          "coloraxis": {
           "colorbar": {
            "outlinewidth": 0,
            "ticks": ""
           }
          },
          "colorscale": {
           "diverging": [
            [
             0,
             "#8e0152"
            ],
            [
             0.1,
             "#c51b7d"
            ],
            [
             0.2,
             "#de77ae"
            ],
            [
             0.3,
             "#f1b6da"
            ],
            [
             0.4,
             "#fde0ef"
            ],
            [
             0.5,
             "#f7f7f7"
            ],
            [
             0.6,
             "#e6f5d0"
            ],
            [
             0.7,
             "#b8e186"
            ],
            [
             0.8,
             "#7fbc41"
            ],
            [
             0.9,
             "#4d9221"
            ],
            [
             1,
             "#276419"
            ]
           ],
           "sequential": [
            [
             0,
             "#0d0887"
            ],
            [
             0.1111111111111111,
             "#46039f"
            ],
            [
             0.2222222222222222,
             "#7201a8"
            ],
            [
             0.3333333333333333,
             "#9c179e"
            ],
            [
             0.4444444444444444,
             "#bd3786"
            ],
            [
             0.5555555555555556,
             "#d8576b"
            ],
            [
             0.6666666666666666,
             "#ed7953"
            ],
            [
             0.7777777777777778,
             "#fb9f3a"
            ],
            [
             0.8888888888888888,
             "#fdca26"
            ],
            [
             1,
             "#f0f921"
            ]
           ],
           "sequentialminus": [
            [
             0,
             "#0d0887"
            ],
            [
             0.1111111111111111,
             "#46039f"
            ],
            [
             0.2222222222222222,
             "#7201a8"
            ],
            [
             0.3333333333333333,
             "#9c179e"
            ],
            [
             0.4444444444444444,
             "#bd3786"
            ],
            [
             0.5555555555555556,
             "#d8576b"
            ],
            [
             0.6666666666666666,
             "#ed7953"
            ],
            [
             0.7777777777777778,
             "#fb9f3a"
            ],
            [
             0.8888888888888888,
             "#fdca26"
            ],
            [
             1,
             "#f0f921"
            ]
           ]
          },
          "colorway": [
           "#636efa",
           "#EF553B",
           "#00cc96",
           "#ab63fa",
           "#FFA15A",
           "#19d3f3",
           "#FF6692",
           "#B6E880",
           "#FF97FF",
           "#FECB52"
          ],
          "font": {
           "color": "#2a3f5f"
          },
          "geo": {
           "bgcolor": "white",
           "lakecolor": "white",
           "landcolor": "white",
           "showlakes": true,
           "showland": true,
           "subunitcolor": "#C8D4E3"
          },
          "hoverlabel": {
           "align": "left"
          },
          "hovermode": "closest",
          "mapbox": {
           "style": "light"
          },
          "paper_bgcolor": "white",
          "plot_bgcolor": "white",
          "polar": {
           "angularaxis": {
            "gridcolor": "#EBF0F8",
            "linecolor": "#EBF0F8",
            "ticks": ""
           },
           "bgcolor": "white",
           "radialaxis": {
            "gridcolor": "#EBF0F8",
            "linecolor": "#EBF0F8",
            "ticks": ""
           }
          },
          "scene": {
           "xaxis": {
            "backgroundcolor": "white",
            "gridcolor": "#DFE8F3",
            "gridwidth": 2,
            "linecolor": "#EBF0F8",
            "showbackground": true,
            "ticks": "",
            "zerolinecolor": "#EBF0F8"
           },
           "yaxis": {
            "backgroundcolor": "white",
            "gridcolor": "#DFE8F3",
            "gridwidth": 2,
            "linecolor": "#EBF0F8",
            "showbackground": true,
            "ticks": "",
            "zerolinecolor": "#EBF0F8"
           },
           "zaxis": {
            "backgroundcolor": "white",
            "gridcolor": "#DFE8F3",
            "gridwidth": 2,
            "linecolor": "#EBF0F8",
            "showbackground": true,
            "ticks": "",
            "zerolinecolor": "#EBF0F8"
           }
          },
          "shapedefaults": {
           "line": {
            "color": "#2a3f5f"
           }
          },
          "ternary": {
           "aaxis": {
            "gridcolor": "#DFE8F3",
            "linecolor": "#A2B1C6",
            "ticks": ""
           },
           "baxis": {
            "gridcolor": "#DFE8F3",
            "linecolor": "#A2B1C6",
            "ticks": ""
           },
           "bgcolor": "white",
           "caxis": {
            "gridcolor": "#DFE8F3",
            "linecolor": "#A2B1C6",
            "ticks": ""
           }
          },
          "title": {
           "x": 0.05
          },
          "xaxis": {
           "automargin": true,
           "gridcolor": "#EBF0F8",
           "linecolor": "#EBF0F8",
           "ticks": "",
           "title": {
            "standoff": 15
           },
           "zerolinecolor": "#EBF0F8",
           "zerolinewidth": 2
          },
          "yaxis": {
           "automargin": true,
           "gridcolor": "#EBF0F8",
           "linecolor": "#EBF0F8",
           "ticks": "",
           "title": {
            "standoff": 15
           },
           "zerolinecolor": "#EBF0F8",
           "zerolinewidth": 2
          }
         }
        },
        "title": {
         "font": {
          "color": "Black",
          "size": 22
         },
         "text": "<b>Hierarchical Clustering</b>",
         "x": 0.5,
         "xanchor": "center",
         "yanchor": "top"
        },
        "width": 1000,
        "xaxis": {
         "mirror": "allticks",
         "rangemode": "tozero",
         "showgrid": false,
         "showline": true,
         "showticklabels": true,
         "ticks": "outside",
         "type": "linear",
         "zeroline": false
        },
        "yaxis": {
         "mirror": "allticks",
         "range": [
          -1960,
          0
         ],
         "rangemode": "tozero",
         "showgrid": false,
         "showline": true,
         "showticklabels": true,
         "tickmode": "array",
         "ticks": "outside",
         "ticktext": [
          "162_hurricane_trail_destruc...",
          "151_category_hurricane_land...",
          "68_lee_wind_storm",
          "41_lee_hurricane_category",
          "54_tropical_hurricane_atlan...",
          "140_coast_storm_coastal",
          "90_tropical_storm_coast",
          "89_storm_hurricane_surge",
          "137_rain_tropical_rainfall",
          "128_brewer_flash_flood",
          "190_inch_rain_rainfall",
          "172_inch_rain_flooding",
          "80_flooding_flood_dam",
          "133_york_city_rainfall",
          "139_kyle_county_flooding",
          "55_tornado_storm_county",
          "75_loan_student_debt",
          "74_debt_interest_rate",
          "114_tax_spending_debt",
          "104_requirement_tax_credit",
          "58_employee_work_remote",
          "73_job_labor_worker",
          "142_population_china_fertil...",
          "22_china_yuan_property",
          "35_company_business_gaming",
          "27_oil_price_gas",
          "95_sanction_russia_currency",
          "44_bank_deposit_banking",
          "56_fed_inflation_rate",
          "100_inflation_price_consumer",
          "83_mortgage_home_rate",
          "183_fire_wildfire_acre",
          "70_smoke_wildfire_fire",
          "171_fire_wildfire_climate",
          "16_fire_wildfire_siren",
          "67_temperature_warming_clim...",
          "157_heat_temperature_sleep",
          "12_heat_temperature_degree",
          "36_heat_temperature_storm",
          "88_snow_winter_temperature",
          "138_phoenix_monsoon_rainfall",
          "184_hero_barker_astronaut",
          "163_lichen_animal_algae",
          "102_solar_asteroid_earth",
          "141_ice_glacier_sea",
          "125_coral_plastic_reef",
          "111_lifeguard_swimming_swim",
          "188_climate_disaster_child",
          "9_climate_coal_energy",
          "23_car_vehicle_electric",
          "45_store_cream_customer",
          "130_price_meat_food",
          "180_robot_seaweed_farm",
          "34_water_drought_river",
          "110_water_drought_river",
          "63_water_colorado_river",
          "159_chloride_vinyl_derailment",
          "24_chemical_derailment_train",
          "105_train_bearing_derailment",
          "158_crash_flight_plane",
          "94_flight_crash_plane",
          "185_air_fleet_force",
          "167_tank_leopard_german",
          "194_russia_missile_attack",
          "62_tank_russia_drone",
          "192_drone_aircraft_military",
          "29_north_nuclear_missile",
          "46_china_brazil_russia",
          "96_oil_china_middle",
          "81_russia_put_peace",
          "76_russia_soviet_put",
          "108_dar_sole_mercenary",
          "71_put_kremlin_russia",
          "117_pal_russia_diplomat",
          "78_elm_gers_russia",
          "59_balloon_china_blink",
          "30_china_espionage_meng",
          "147_island_china_shoal",
          "178_fico_withdrawal_war",
          "136_committee_aid_republican",
          "37_trump_coat_intelligence",
          "6_republican_democrat_voting",
          "17_sant_trump_debate",
          "11_trump_president_white",
          "103_speech_president_joe",
          "174_republican_party_trump",
          "60_speaker_republican_house",
          "154_impeachment_inquiry_imp...",
          "173_justice_plea_department",
          "49_migrant_boat_refugee",
          "10_border_migrant_immigration",
          "176_border_train_migrant",
          "122_blanco_child_parent",
          "144_sniper_pur_soldier",
          "191_war_lynch_moment",
          "131_tsar_nae_russia",
          "13_civilian_force_military",
          "42_attack_terror_terrorist",
          "47_earthquake_quake_rubble",
          "109_explosion_collapse_read...",
          "127_kea_home_town",
          "175_boat_beach_burned",
          "53_junta_coup_bongo",
          "129_bill_parliament_law",
          "2_exit_minister_prime",
          "150_pension_union_reform",
          "66_protest_protester_police",
          "164_police_protester_protest",
          "91_police_officer_black",
          "48_police_foundation_training",
          "146_turkey_demonstration_june",
          "65_gan_turkey_rog",
          "155_finland_alliance_access...",
          "134_hutch_gun_rust",
          "52_gun_law_flag",
          "38_school_shooting_gun",
          "101_ralph_shooting_door",
          "193_autopsy_theater_wound",
          "51_bail_murder_charity",
          "116_remains_victim_investig...",
          "84_jail_cell_sheriff",
          "145_mug_celebrity_jail",
          "106_sheriff_hind_escapee",
          "187_escape_hurst_carney",
          "149_prison_inmate_drug",
          "86_cava_ante_chester",
          "152_hazing_northwestern_coach",
          "135_sar_na_bop",
          "19_woman_girl_protest",
          "20_rape_sexual_assault",
          "113_guard_mariner_coast",
          "57_pope_benedict_catholic",
          "169_boy_tar_rio",
          "161_perry_pardon_foster",
          "97_fox_dominion_news",
          "160_hacking_coul_brook",
          "195_defendant_wan_judge",
          "26_trump_indictment_jury",
          "153_trump_attorney_judge",
          "64_musk_twitter_platform",
          "124_meta_platform_trump",
          "168_meta_platform_company",
          "85_chat_bot_user",
          "132_apple_voice_space",
          "182_married_marriage_unmarr...",
          "14_abortion_pregnancy_woman",
          "28_court_supreme_justice",
          "87_black_daughter_child",
          "21_mental_suicide_health",
          "7_child_family_life",
          "32_gender_care_bill",
          "177_black_pipeline_joy",
          "181_black_course_theory",
          "33_college_student_education",
          "99_student_school_college",
          "69_fen_care_narcotic",
          "31_fen_drug_pill",
          "119_nurse_strike_kaiser",
          "25_homelessness_food_homeless",
          "1_vaccine_pandemic_virus",
          "179_drug_patient_medication",
          "82_heart_transplant_surgery",
          "98_tobacco_cigarette_mariju...",
          "189_shortage_cancer_drug",
          "93_cancer_breast_screening",
          "77_weight_drug_ide",
          "156_weight_fat_pound",
          "40_diet_bean_mediterranean",
          "72_exercise_activity_physical",
          "118_sleep_apnea_brain",
          "166_petition_conservator_co...",
          "115_petition_conservator_bl...",
          "107_walker_nelson_criss",
          "50_iconic_black_moment",
          "0_film_movie_series",
          "5_music_rock_album",
          "121_history_empire_ancient",
          "186_curry_basketball_jordan",
          "61_bowl_super_game",
          "126_dodger_baseball_game",
          "165_frank_bill_episode",
          "120_swift_travis_ce",
          "143_prince_artist_caption",
          "39_harry_prince_royal",
          "170_royal_queen_king",
          "43_horse_racing_ascot",
          "15_formula_driver_race",
          "92_skiing_ski_downhill",
          "123_gymnastics_bile_gymnast",
          "148_bolt_medal_gold",
          "112_boxing_fight_sport",
          "79_cup_soccer_world",
          "18_football_cup_fan",
          "3_league_club_goal",
          "4_open_tennis_match",
          "8_golf_wood_ryder"
         ],
         "tickvals": [
          -5,
          -15,
          -25,
          -35,
          -45,
          -55,
          -65,
          -75,
          -85,
          -95,
          -105,
          -115,
          -125,
          -135,
          -145,
          -155,
          -165,
          -175,
          -185,
          -195,
          -205,
          -215,
          -225,
          -235,
          -245,
          -255,
          -265,
          -275,
          -285,
          -295,
          -305,
          -315,
          -325,
          -335,
          -345,
          -355,
          -365,
          -375,
          -385,
          -395,
          -405,
          -415,
          -425,
          -435,
          -445,
          -455,
          -465,
          -475,
          -485,
          -495,
          -505,
          -515,
          -525,
          -535,
          -545,
          -555,
          -565,
          -575,
          -585,
          -595,
          -605,
          -615,
          -625,
          -635,
          -645,
          -655,
          -665,
          -675,
          -685,
          -695,
          -705,
          -715,
          -725,
          -735,
          -745,
          -755,
          -765,
          -775,
          -785,
          -795,
          -805,
          -815,
          -825,
          -835,
          -845,
          -855,
          -865,
          -875,
          -885,
          -895,
          -905,
          -915,
          -925,
          -935,
          -945,
          -955,
          -965,
          -975,
          -985,
          -995,
          -1005,
          -1015,
          -1025,
          -1035,
          -1045,
          -1055,
          -1065,
          -1075,
          -1085,
          -1095,
          -1105,
          -1115,
          -1125,
          -1135,
          -1145,
          -1155,
          -1165,
          -1175,
          -1185,
          -1195,
          -1205,
          -1215,
          -1225,
          -1235,
          -1245,
          -1255,
          -1265,
          -1275,
          -1285,
          -1295,
          -1305,
          -1315,
          -1325,
          -1335,
          -1345,
          -1355,
          -1365,
          -1375,
          -1385,
          -1395,
          -1405,
          -1415,
          -1425,
          -1435,
          -1445,
          -1455,
          -1465,
          -1475,
          -1485,
          -1495,
          -1505,
          -1515,
          -1525,
          -1535,
          -1545,
          -1555,
          -1565,
          -1575,
          -1585,
          -1595,
          -1605,
          -1615,
          -1625,
          -1635,
          -1645,
          -1655,
          -1665,
          -1675,
          -1685,
          -1695,
          -1705,
          -1715,
          -1725,
          -1735,
          -1745,
          -1755,
          -1765,
          -1775,
          -1785,
          -1795,
          -1805,
          -1815,
          -1825,
          -1835,
          -1845,
          -1855,
          -1865,
          -1875,
          -1885,
          -1895,
          -1905,
          -1915,
          -1925,
          -1935,
          -1945,
          -1955
         ],
         "type": "linear",
         "zeroline": false
        }
       }
      }
     },
     "metadata": {},
     "output_type": "display_data"
    }
   ],
   "source": [
    "bertopic_model.visualize_hierarchy()"
   ]
  },
  {
   "cell_type": "code",
   "execution_count": 8,
   "metadata": {},
   "outputs": [
    {
     "data": {
      "application/vnd.plotly.v1+json": {
       "config": {
        "plotlyServerURL": "https://plot.ly"
       },
       "data": [
        {
         "marker": {
          "color": "#D55E00"
         },
         "orientation": "h",
         "type": "bar",
         "x": [
          0.00954043284164351,
          0.010666848269331338,
          0.011042976042850445,
          0.016484451429869144,
          0.01699017162844308
         ],
         "xaxis": "x",
         "y": [
          "lost  ",
          "actor  ",
          "series  ",
          "movie  ",
          "film  "
         ],
         "yaxis": "y"
        },
        {
         "marker": {
          "color": "#0072B2"
         },
         "orientation": "h",
         "type": "bar",
         "x": [
          0.012816652458068171,
          0.01323112426913418,
          0.014778927210220356,
          0.014906615803056321,
          0.027944089387860912
         ],
         "xaxis": "x2",
         "y": [
          "mask  ",
          "health  ",
          "virus  ",
          "pandemic  ",
          "vaccine  "
         ],
         "yaxis": "y2"
        },
        {
         "marker": {
          "color": "#CC79A7"
         },
         "orientation": "h",
         "type": "bar",
         "x": [
          0.013570600099342769,
          0.013915002073620633,
          0.016327430502362027,
          0.019008937059168864,
          0.0193828565667817
         ],
         "xaxis": "x3",
         "y": [
          "parliament  ",
          "party  ",
          "prime  ",
          "minister  ",
          "exit  "
         ],
         "yaxis": "y3"
        },
        {
         "marker": {
          "color": "#E69F00"
         },
         "orientation": "h",
         "type": "bar",
         "x": [
          0.01642227927339716,
          0.019308300386487936,
          0.023697176526318087,
          0.02735172146514981,
          0.035968370065496566
         ],
         "xaxis": "x4",
         "y": [
          "champion  ",
          "football  ",
          "goal  ",
          "club  ",
          "league  "
         ],
         "yaxis": "y4"
        },
        {
         "marker": {
          "color": "#56B4E9"
         },
         "orientation": "h",
         "type": "bar",
         "x": [
          0.02702747834201905,
          0.02937060284215641,
          0.030000801884188306,
          0.033406920440356425,
          0.04511560920444017
         ],
         "xaxis": "x5",
         "y": [
          "best  ",
          "slam  ",
          "match  ",
          "tennis  ",
          "open  "
         ],
         "yaxis": "y5"
        },
        {
         "marker": {
          "color": "#009E73"
         },
         "orientation": "h",
         "type": "bar",
         "x": [
          0.01857860865888916,
          0.01963393174889741,
          0.021412997475032,
          0.021707721358405555,
          0.025812862484589916
         ],
         "xaxis": "x6",
         "y": [
          "band  ",
          "song  ",
          "album  ",
          "rock  ",
          "music  "
         ],
         "yaxis": "y6"
        },
        {
         "marker": {
          "color": "#F0E442"
         },
         "orientation": "h",
         "type": "bar",
         "x": [
          0.017760176661279062,
          0.01857333158892849,
          0.02042779026093413,
          0.02105218557530221,
          0.02304812988185252
         ],
         "xaxis": "x7",
         "y": [
          "voter  ",
          "election  ",
          "voting  ",
          "democrat  ",
          "republican  "
         ],
         "yaxis": "y7"
        },
        {
         "marker": {
          "color": "#D55E00"
         },
         "orientation": "h",
         "type": "bar",
         "x": [
          0.008544011635632865,
          0.008747417266424739,
          0.00876377860916183,
          0.012435043914720166,
          0.013560877015783448
         ],
         "xaxis": "x8",
         "y": [
          "twin  ",
          "parent  ",
          "life  ",
          "family  ",
          "child  "
         ],
         "yaxis": "y8"
        },
        {
         "marker": {
          "color": "#0072B2"
         },
         "orientation": "h",
         "type": "bar",
         "x": [
          0.027061618113368557,
          0.027857248396674413,
          0.03650356890148159,
          0.04088434919339993,
          0.05119859839949523
         ],
         "xaxis": "x9",
         "y": [
          "master  ",
          "tiger  ",
          "ryder  ",
          "wood  ",
          "golf  "
         ],
         "yaxis": "y9"
        },
        {
         "marker": {
          "color": "#CC79A7"
         },
         "orientation": "h",
         "type": "bar",
         "x": [
          0.018271368920330558,
          0.024216879586752536,
          0.026602097101982785,
          0.031634028986254066,
          0.03219679648062891
         ],
         "xaxis": "x10",
         "y": [
          "fossil  ",
          "carbon  ",
          "energy  ",
          "coal  ",
          "climate  "
         ],
         "yaxis": "y10"
        }
       ],
       "layout": {
        "annotations": [
         {
          "font": {
           "size": 16
          },
          "showarrow": false,
          "text": "Topic 0",
          "x": 0.0875,
          "xanchor": "center",
          "xref": "paper",
          "y": 1,
          "yanchor": "bottom",
          "yref": "paper"
         },
         {
          "font": {
           "size": 16
          },
          "showarrow": false,
          "text": "Topic 1",
          "x": 0.36250000000000004,
          "xanchor": "center",
          "xref": "paper",
          "y": 1,
          "yanchor": "bottom",
          "yref": "paper"
         },
         {
          "font": {
           "size": 16
          },
          "showarrow": false,
          "text": "Topic 2",
          "x": 0.6375000000000001,
          "xanchor": "center",
          "xref": "paper",
          "y": 1,
          "yanchor": "bottom",
          "yref": "paper"
         },
         {
          "font": {
           "size": 16
          },
          "showarrow": false,
          "text": "Topic 3",
          "x": 0.9125,
          "xanchor": "center",
          "xref": "paper",
          "y": 1,
          "yanchor": "bottom",
          "yref": "paper"
         },
         {
          "font": {
           "size": 16
          },
          "showarrow": false,
          "text": "Topic 4",
          "x": 0.0875,
          "xanchor": "center",
          "xref": "paper",
          "y": 0.6222222222222222,
          "yanchor": "bottom",
          "yref": "paper"
         },
         {
          "font": {
           "size": 16
          },
          "showarrow": false,
          "text": "Topic 5",
          "x": 0.36250000000000004,
          "xanchor": "center",
          "xref": "paper",
          "y": 0.6222222222222222,
          "yanchor": "bottom",
          "yref": "paper"
         },
         {
          "font": {
           "size": 16
          },
          "showarrow": false,
          "text": "Topic 6",
          "x": 0.6375000000000001,
          "xanchor": "center",
          "xref": "paper",
          "y": 0.6222222222222222,
          "yanchor": "bottom",
          "yref": "paper"
         },
         {
          "font": {
           "size": 16
          },
          "showarrow": false,
          "text": "Topic 7",
          "x": 0.9125,
          "xanchor": "center",
          "xref": "paper",
          "y": 0.6222222222222222,
          "yanchor": "bottom",
          "yref": "paper"
         },
         {
          "font": {
           "size": 16
          },
          "showarrow": false,
          "text": "Topic 8",
          "x": 0.0875,
          "xanchor": "center",
          "xref": "paper",
          "y": 0.24444444444444446,
          "yanchor": "bottom",
          "yref": "paper"
         },
         {
          "font": {
           "size": 16
          },
          "showarrow": false,
          "text": "Topic 9",
          "x": 0.36250000000000004,
          "xanchor": "center",
          "xref": "paper",
          "y": 0.24444444444444446,
          "yanchor": "bottom",
          "yref": "paper"
         }
        ],
        "height": 750,
        "hoverlabel": {
         "bgcolor": "white",
         "font": {
          "family": "Rockwell",
          "size": 16
         }
        },
        "showlegend": false,
        "template": {
         "data": {
          "bar": [
           {
            "error_x": {
             "color": "#2a3f5f"
            },
            "error_y": {
             "color": "#2a3f5f"
            },
            "marker": {
             "line": {
              "color": "white",
              "width": 0.5
             },
             "pattern": {
              "fillmode": "overlay",
              "size": 10,
              "solidity": 0.2
             }
            },
            "type": "bar"
           }
          ],
          "barpolar": [
           {
            "marker": {
             "line": {
              "color": "white",
              "width": 0.5
             },
             "pattern": {
              "fillmode": "overlay",
              "size": 10,
              "solidity": 0.2
             }
            },
            "type": "barpolar"
           }
          ],
          "carpet": [
           {
            "aaxis": {
             "endlinecolor": "#2a3f5f",
             "gridcolor": "#C8D4E3",
             "linecolor": "#C8D4E3",
             "minorgridcolor": "#C8D4E3",
             "startlinecolor": "#2a3f5f"
            },
            "baxis": {
             "endlinecolor": "#2a3f5f",
             "gridcolor": "#C8D4E3",
             "linecolor": "#C8D4E3",
             "minorgridcolor": "#C8D4E3",
             "startlinecolor": "#2a3f5f"
            },
            "type": "carpet"
           }
          ],
          "choropleth": [
           {
            "colorbar": {
             "outlinewidth": 0,
             "ticks": ""
            },
            "type": "choropleth"
           }
          ],
          "contour": [
           {
            "colorbar": {
             "outlinewidth": 0,
             "ticks": ""
            },
            "colorscale": [
             [
              0,
              "#0d0887"
             ],
             [
              0.1111111111111111,
              "#46039f"
             ],
             [
              0.2222222222222222,
              "#7201a8"
             ],
             [
              0.3333333333333333,
              "#9c179e"
             ],
             [
              0.4444444444444444,
              "#bd3786"
             ],
             [
              0.5555555555555556,
              "#d8576b"
             ],
             [
              0.6666666666666666,
              "#ed7953"
             ],
             [
              0.7777777777777778,
              "#fb9f3a"
             ],
             [
              0.8888888888888888,
              "#fdca26"
             ],
             [
              1,
              "#f0f921"
             ]
            ],
            "type": "contour"
           }
          ],
          "contourcarpet": [
           {
            "colorbar": {
             "outlinewidth": 0,
             "ticks": ""
            },
            "type": "contourcarpet"
           }
          ],
          "heatmap": [
           {
            "colorbar": {
             "outlinewidth": 0,
             "ticks": ""
            },
            "colorscale": [
             [
              0,
              "#0d0887"
             ],
             [
              0.1111111111111111,
              "#46039f"
             ],
             [
              0.2222222222222222,
              "#7201a8"
             ],
             [
              0.3333333333333333,
              "#9c179e"
             ],
             [
              0.4444444444444444,
              "#bd3786"
             ],
             [
              0.5555555555555556,
              "#d8576b"
             ],
             [
              0.6666666666666666,
              "#ed7953"
             ],
             [
              0.7777777777777778,
              "#fb9f3a"
             ],
             [
              0.8888888888888888,
              "#fdca26"
             ],
             [
              1,
              "#f0f921"
             ]
            ],
            "type": "heatmap"
           }
          ],
          "heatmapgl": [
           {
            "colorbar": {
             "outlinewidth": 0,
             "ticks": ""
            },
            "colorscale": [
             [
              0,
              "#0d0887"
             ],
             [
              0.1111111111111111,
              "#46039f"
             ],
             [
              0.2222222222222222,
              "#7201a8"
             ],
             [
              0.3333333333333333,
              "#9c179e"
             ],
             [
              0.4444444444444444,
              "#bd3786"
             ],
             [
              0.5555555555555556,
              "#d8576b"
             ],
             [
              0.6666666666666666,
              "#ed7953"
             ],
             [
              0.7777777777777778,
              "#fb9f3a"
             ],
             [
              0.8888888888888888,
              "#fdca26"
             ],
             [
              1,
              "#f0f921"
             ]
            ],
            "type": "heatmapgl"
           }
          ],
          "histogram": [
           {
            "marker": {
             "pattern": {
              "fillmode": "overlay",
              "size": 10,
              "solidity": 0.2
             }
            },
            "type": "histogram"
           }
          ],
          "histogram2d": [
           {
            "colorbar": {
             "outlinewidth": 0,
             "ticks": ""
            },
            "colorscale": [
             [
              0,
              "#0d0887"
             ],
             [
              0.1111111111111111,
              "#46039f"
             ],
             [
              0.2222222222222222,
              "#7201a8"
             ],
             [
              0.3333333333333333,
              "#9c179e"
             ],
             [
              0.4444444444444444,
              "#bd3786"
             ],
             [
              0.5555555555555556,
              "#d8576b"
             ],
             [
              0.6666666666666666,
              "#ed7953"
             ],
             [
              0.7777777777777778,
              "#fb9f3a"
             ],
             [
              0.8888888888888888,
              "#fdca26"
             ],
             [
              1,
              "#f0f921"
             ]
            ],
            "type": "histogram2d"
           }
          ],
          "histogram2dcontour": [
           {
            "colorbar": {
             "outlinewidth": 0,
             "ticks": ""
            },
            "colorscale": [
             [
              0,
              "#0d0887"
             ],
             [
              0.1111111111111111,
              "#46039f"
             ],
             [
              0.2222222222222222,
              "#7201a8"
             ],
             [
              0.3333333333333333,
              "#9c179e"
             ],
             [
              0.4444444444444444,
              "#bd3786"
             ],
             [
              0.5555555555555556,
              "#d8576b"
             ],
             [
              0.6666666666666666,
              "#ed7953"
             ],
             [
              0.7777777777777778,
              "#fb9f3a"
             ],
             [
              0.8888888888888888,
              "#fdca26"
             ],
             [
              1,
              "#f0f921"
             ]
            ],
            "type": "histogram2dcontour"
           }
          ],
          "mesh3d": [
           {
            "colorbar": {
             "outlinewidth": 0,
             "ticks": ""
            },
            "type": "mesh3d"
           }
          ],
          "parcoords": [
           {
            "line": {
             "colorbar": {
              "outlinewidth": 0,
              "ticks": ""
             }
            },
            "type": "parcoords"
           }
          ],
          "pie": [
           {
            "automargin": true,
            "type": "pie"
           }
          ],
          "scatter": [
           {
            "fillpattern": {
             "fillmode": "overlay",
             "size": 10,
             "solidity": 0.2
            },
            "type": "scatter"
           }
          ],
          "scatter3d": [
           {
            "line": {
             "colorbar": {
              "outlinewidth": 0,
              "ticks": ""
             }
            },
            "marker": {
             "colorbar": {
              "outlinewidth": 0,
              "ticks": ""
             }
            },
            "type": "scatter3d"
           }
          ],
          "scattercarpet": [
           {
            "marker": {
             "colorbar": {
              "outlinewidth": 0,
              "ticks": ""
             }
            },
            "type": "scattercarpet"
           }
          ],
          "scattergeo": [
           {
            "marker": {
             "colorbar": {
              "outlinewidth": 0,
              "ticks": ""
             }
            },
            "type": "scattergeo"
           }
          ],
          "scattergl": [
           {
            "marker": {
             "colorbar": {
              "outlinewidth": 0,
              "ticks": ""
             }
            },
            "type": "scattergl"
           }
          ],
          "scattermapbox": [
           {
            "marker": {
             "colorbar": {
              "outlinewidth": 0,
              "ticks": ""
             }
            },
            "type": "scattermapbox"
           }
          ],
          "scatterpolar": [
           {
            "marker": {
             "colorbar": {
              "outlinewidth": 0,
              "ticks": ""
             }
            },
            "type": "scatterpolar"
           }
          ],
          "scatterpolargl": [
           {
            "marker": {
             "colorbar": {
              "outlinewidth": 0,
              "ticks": ""
             }
            },
            "type": "scatterpolargl"
           }
          ],
          "scatterternary": [
           {
            "marker": {
             "colorbar": {
              "outlinewidth": 0,
              "ticks": ""
             }
            },
            "type": "scatterternary"
           }
          ],
          "surface": [
           {
            "colorbar": {
             "outlinewidth": 0,
             "ticks": ""
            },
            "colorscale": [
             [
              0,
              "#0d0887"
             ],
             [
              0.1111111111111111,
              "#46039f"
             ],
             [
              0.2222222222222222,
              "#7201a8"
             ],
             [
              0.3333333333333333,
              "#9c179e"
             ],
             [
              0.4444444444444444,
              "#bd3786"
             ],
             [
              0.5555555555555556,
              "#d8576b"
             ],
             [
              0.6666666666666666,
              "#ed7953"
             ],
             [
              0.7777777777777778,
              "#fb9f3a"
             ],
             [
              0.8888888888888888,
              "#fdca26"
             ],
             [
              1,
              "#f0f921"
             ]
            ],
            "type": "surface"
           }
          ],
          "table": [
           {
            "cells": {
             "fill": {
              "color": "#EBF0F8"
             },
             "line": {
              "color": "white"
             }
            },
            "header": {
             "fill": {
              "color": "#C8D4E3"
             },
             "line": {
              "color": "white"
             }
            },
            "type": "table"
           }
          ]
         },
         "layout": {
          "annotationdefaults": {
           "arrowcolor": "#2a3f5f",
           "arrowhead": 0,
           "arrowwidth": 1
          },
          "autotypenumbers": "strict",
          "coloraxis": {
           "colorbar": {
            "outlinewidth": 0,
            "ticks": ""
           }
          },
          "colorscale": {
           "diverging": [
            [
             0,
             "#8e0152"
            ],
            [
             0.1,
             "#c51b7d"
            ],
            [
             0.2,
             "#de77ae"
            ],
            [
             0.3,
             "#f1b6da"
            ],
            [
             0.4,
             "#fde0ef"
            ],
            [
             0.5,
             "#f7f7f7"
            ],
            [
             0.6,
             "#e6f5d0"
            ],
            [
             0.7,
             "#b8e186"
            ],
            [
             0.8,
             "#7fbc41"
            ],
            [
             0.9,
             "#4d9221"
            ],
            [
             1,
             "#276419"
            ]
           ],
           "sequential": [
            [
             0,
             "#0d0887"
            ],
            [
             0.1111111111111111,
             "#46039f"
            ],
            [
             0.2222222222222222,
             "#7201a8"
            ],
            [
             0.3333333333333333,
             "#9c179e"
            ],
            [
             0.4444444444444444,
             "#bd3786"
            ],
            [
             0.5555555555555556,
             "#d8576b"
            ],
            [
             0.6666666666666666,
             "#ed7953"
            ],
            [
             0.7777777777777778,
             "#fb9f3a"
            ],
            [
             0.8888888888888888,
             "#fdca26"
            ],
            [
             1,
             "#f0f921"
            ]
           ],
           "sequentialminus": [
            [
             0,
             "#0d0887"
            ],
            [
             0.1111111111111111,
             "#46039f"
            ],
            [
             0.2222222222222222,
             "#7201a8"
            ],
            [
             0.3333333333333333,
             "#9c179e"
            ],
            [
             0.4444444444444444,
             "#bd3786"
            ],
            [
             0.5555555555555556,
             "#d8576b"
            ],
            [
             0.6666666666666666,
             "#ed7953"
            ],
            [
             0.7777777777777778,
             "#fb9f3a"
            ],
            [
             0.8888888888888888,
             "#fdca26"
            ],
            [
             1,
             "#f0f921"
            ]
           ]
          },
          "colorway": [
           "#636efa",
           "#EF553B",
           "#00cc96",
           "#ab63fa",
           "#FFA15A",
           "#19d3f3",
           "#FF6692",
           "#B6E880",
           "#FF97FF",
           "#FECB52"
          ],
          "font": {
           "color": "#2a3f5f"
          },
          "geo": {
           "bgcolor": "white",
           "lakecolor": "white",
           "landcolor": "white",
           "showlakes": true,
           "showland": true,
           "subunitcolor": "#C8D4E3"
          },
          "hoverlabel": {
           "align": "left"
          },
          "hovermode": "closest",
          "mapbox": {
           "style": "light"
          },
          "paper_bgcolor": "white",
          "plot_bgcolor": "white",
          "polar": {
           "angularaxis": {
            "gridcolor": "#EBF0F8",
            "linecolor": "#EBF0F8",
            "ticks": ""
           },
           "bgcolor": "white",
           "radialaxis": {
            "gridcolor": "#EBF0F8",
            "linecolor": "#EBF0F8",
            "ticks": ""
           }
          },
          "scene": {
           "xaxis": {
            "backgroundcolor": "white",
            "gridcolor": "#DFE8F3",
            "gridwidth": 2,
            "linecolor": "#EBF0F8",
            "showbackground": true,
            "ticks": "",
            "zerolinecolor": "#EBF0F8"
           },
           "yaxis": {
            "backgroundcolor": "white",
            "gridcolor": "#DFE8F3",
            "gridwidth": 2,
            "linecolor": "#EBF0F8",
            "showbackground": true,
            "ticks": "",
            "zerolinecolor": "#EBF0F8"
           },
           "zaxis": {
            "backgroundcolor": "white",
            "gridcolor": "#DFE8F3",
            "gridwidth": 2,
            "linecolor": "#EBF0F8",
            "showbackground": true,
            "ticks": "",
            "zerolinecolor": "#EBF0F8"
           }
          },
          "shapedefaults": {
           "line": {
            "color": "#2a3f5f"
           }
          },
          "ternary": {
           "aaxis": {
            "gridcolor": "#DFE8F3",
            "linecolor": "#A2B1C6",
            "ticks": ""
           },
           "baxis": {
            "gridcolor": "#DFE8F3",
            "linecolor": "#A2B1C6",
            "ticks": ""
           },
           "bgcolor": "white",
           "caxis": {
            "gridcolor": "#DFE8F3",
            "linecolor": "#A2B1C6",
            "ticks": ""
           }
          },
          "title": {
           "x": 0.05
          },
          "xaxis": {
           "automargin": true,
           "gridcolor": "#EBF0F8",
           "linecolor": "#EBF0F8",
           "ticks": "",
           "title": {
            "standoff": 15
           },
           "zerolinecolor": "#EBF0F8",
           "zerolinewidth": 2
          },
          "yaxis": {
           "automargin": true,
           "gridcolor": "#EBF0F8",
           "linecolor": "#EBF0F8",
           "ticks": "",
           "title": {
            "standoff": 15
           },
           "zerolinecolor": "#EBF0F8",
           "zerolinewidth": 2
          }
         }
        },
        "title": {
         "font": {
          "color": "Black",
          "size": 22
         },
         "text": "Topic Word Scores",
         "x": 0.5,
         "xanchor": "center",
         "yanchor": "top"
        },
        "width": 1000,
        "xaxis": {
         "anchor": "y",
         "domain": [
          0,
          0.175
         ],
         "showgrid": true
        },
        "xaxis10": {
         "anchor": "y10",
         "domain": [
          0.275,
          0.45
         ],
         "showgrid": true
        },
        "xaxis11": {
         "anchor": "y11",
         "domain": [
          0.55,
          0.7250000000000001
         ],
         "showgrid": true
        },
        "xaxis12": {
         "anchor": "y12",
         "domain": [
          0.825,
          1
         ],
         "showgrid": true
        },
        "xaxis2": {
         "anchor": "y2",
         "domain": [
          0.275,
          0.45
         ],
         "showgrid": true
        },
        "xaxis3": {
         "anchor": "y3",
         "domain": [
          0.55,
          0.7250000000000001
         ],
         "showgrid": true
        },
        "xaxis4": {
         "anchor": "y4",
         "domain": [
          0.825,
          1
         ],
         "showgrid": true
        },
        "xaxis5": {
         "anchor": "y5",
         "domain": [
          0,
          0.175
         ],
         "showgrid": true
        },
        "xaxis6": {
         "anchor": "y6",
         "domain": [
          0.275,
          0.45
         ],
         "showgrid": true
        },
        "xaxis7": {
         "anchor": "y7",
         "domain": [
          0.55,
          0.7250000000000001
         ],
         "showgrid": true
        },
        "xaxis8": {
         "anchor": "y8",
         "domain": [
          0.825,
          1
         ],
         "showgrid": true
        },
        "xaxis9": {
         "anchor": "y9",
         "domain": [
          0,
          0.175
         ],
         "showgrid": true
        },
        "yaxis": {
         "anchor": "x",
         "domain": [
          0.7555555555555555,
          1
         ],
         "showgrid": true
        },
        "yaxis10": {
         "anchor": "x10",
         "domain": [
          0,
          0.24444444444444446
         ],
         "showgrid": true
        },
        "yaxis11": {
         "anchor": "x11",
         "domain": [
          0,
          0.24444444444444446
         ],
         "showgrid": true
        },
        "yaxis12": {
         "anchor": "x12",
         "domain": [
          0,
          0.24444444444444446
         ],
         "showgrid": true
        },
        "yaxis2": {
         "anchor": "x2",
         "domain": [
          0.7555555555555555,
          1
         ],
         "showgrid": true
        },
        "yaxis3": {
         "anchor": "x3",
         "domain": [
          0.7555555555555555,
          1
         ],
         "showgrid": true
        },
        "yaxis4": {
         "anchor": "x4",
         "domain": [
          0.7555555555555555,
          1
         ],
         "showgrid": true
        },
        "yaxis5": {
         "anchor": "x5",
         "domain": [
          0.37777777777777777,
          0.6222222222222222
         ],
         "showgrid": true
        },
        "yaxis6": {
         "anchor": "x6",
         "domain": [
          0.37777777777777777,
          0.6222222222222222
         ],
         "showgrid": true
        },
        "yaxis7": {
         "anchor": "x7",
         "domain": [
          0.37777777777777777,
          0.6222222222222222
         ],
         "showgrid": true
        },
        "yaxis8": {
         "anchor": "x8",
         "domain": [
          0.37777777777777777,
          0.6222222222222222
         ],
         "showgrid": true
        },
        "yaxis9": {
         "anchor": "x9",
         "domain": [
          0,
          0.24444444444444446
         ],
         "showgrid": true
        }
       }
      }
     },
     "metadata": {},
     "output_type": "display_data"
    }
   ],
   "source": [
    "bertopic_model.visualize_barchart(top_topic_nums) # top_topic_nums"
   ]
  },
  {
   "cell_type": "markdown",
   "metadata": {},
   "source": [
    "Save Model"
   ]
  },
  {
   "cell_type": "code",
   "execution_count": 11,
   "metadata": {},
   "outputs": [
    {
     "name": "stdout",
     "output_type": "stream",
     "text": [
      "BERTopic model saved\n"
     ]
    }
   ],
   "source": [
    "import joblib\n",
    "\n",
    "# save the BERTopic model u\n",
    "joblib.dump(bertopic_model, 'berTopic.pkl')\n",
    "print('BERTopic model saved')"
   ]
  },
  {
   "cell_type": "markdown",
   "metadata": {},
   "source": [
    "Plot Topics over time\n",
    "\n",
    "Condition\n",
    "\n",
    "(The trained dataset need date column) (Better)\n",
    "\n",
    "(When apply to a new dataset (got date column), the trained saved model index need match with the new dataset)\n",
    "\n",
    "For example, used 1000 rows data to train bertopic model, but apply the model into a new 1500 row data, it wont work, index must be same"
   ]
  },
  {
   "cell_type": "code",
   "execution_count": 10,
   "metadata": {},
   "outputs": [
    {
     "name": "stdout",
     "output_type": "stream",
     "text": [
      "BERTopic model loaded\n"
     ]
    },
    {
     "data": {
      "application/vnd.plotly.v1+json": {
       "config": {
        "plotlyServerURL": "https://plot.ly"
       },
       "data": [
        {
         "hoverinfo": "text",
         "hovertext": [
          "<b>Topic 0</b><br>Words: siege, rah, unfolded, minister, seed",
          "<b>Topic 0</b><br>Words: championship, single, men, exit, minister",
          "<b>Topic 0</b><br>Words: queen, prince, globe, exit, palace",
          "<b>Topic 0</b><br>Words: lap, reunite, demonstrator, arsenal, tire",
          "<b>Topic 0</b><br>Words: crisis, rebel, photo, abroad, caption",
          "<b>Topic 0</b><br>Words: terror, kou, suspect, diene, brill",
          "<b>Topic 0</b><br>Words: coal, jimmy, minister, exit, prime",
          "<b>Topic 0</b><br>Words: exit, migration, showpiece, minister, prime",
          "<b>Topic 0</b><br>Words: palmer, lost, caption, hide, photo",
          "<b>Topic 0</b><br>Words: marathon, tour, airport, canada, stage",
          "<b>Topic 0</b><br>Words: ense, chap, wood, gold, rippon",
          "<b>Topic 0</b><br>Words: stylish, tib, weir, christening, minister",
          "<b>Topic 0</b><br>Words: tiller, exit, minister, iba, prime",
          "<b>Topic 0</b><br>Words: champion, tour, global, image, best",
          "<b>Topic 0</b><br>Words: stripe, farmer, minister, exit, prime",
          "<b>Topic 0</b><br>Words: exit, minister, prime, mobility, party",
          "<b>Topic 0</b><br>Words: gold, best, photo, medal, caption",
          "<b>Topic 0</b><br>Words: exit, minister, court, bracket, supreme",
          "<b>Topic 0</b><br>Words: boundary, orange, doll, play, relationship",
          "<b>Topic 0</b><br>Words: minister, exit, party, prime, parliament"
         ],
         "marker": {
          "color": "#E69F00"
         },
         "mode": "lines",
         "name": "0_exit_minister_prime_party",
         "type": "scatter",
         "x": [
          "2011-08-29T01:18:35.904000",
          "2012-04-10T07:08:28.800000",
          "2012-11-17T02:58:33.600000",
          "2013-06-25T22:48:38.400000",
          "2014-02-01T18:38:43.200000",
          "2014-09-10T14:28:48",
          "2015-04-19T10:18:52.800000",
          "2015-11-26T06:08:57.600000",
          "2016-07-04T01:59:02.400000",
          "2017-02-09T21:49:07.200000",
          "2017-09-18T17:39:12",
          "2018-04-27T13:29:16.800000",
          "2018-12-04T09:19:21.600000",
          "2019-07-13T05:09:26.400000",
          "2020-02-19T00:59:31.200000",
          "2020-09-26T20:49:36",
          "2021-05-05T16:39:40.800000",
          "2021-12-12T12:29:45.600000",
          "2022-07-21T08:19:50.400000",
          "2023-02-27T04:09:55.200000"
         ],
         "y": [
          9,
          8,
          8,
          4,
          5,
          6,
          8,
          11,
          9,
          8,
          11,
          10,
          15,
          10,
          10,
          11,
          20,
          11,
          3,
          20
         ]
        },
        {
         "hoverinfo": "text",
         "hovertext": [
          "<b>Topic 1</b><br>Words: shipwreck, league, sonar, arsenal, object",
          "<b>Topic 1</b><br>Words: league, prize, champion, barcelona, club",
          "<b>Topic 1</b><br>Words: league, champion, club, attack, goal",
          "<b>Topic 1</b><br>Words: helmet, league, turkey, video, final",
          "<b>Topic 1</b><br>Words: league, underwater, club, gur, isotope",
          "<b>Topic 1</b><br>Words: pope, nae, league, boston, tsar",
          "<b>Topic 1</b><br>Words: bolt, league, club, world, champion",
          "<b>Topic 1</b><br>Words: terror, league, club, threat, player",
          "<b>Topic 1</b><br>Words: league, prism, racing, club, racecourse",
          "<b>Topic 1</b><br>Words: parliament, league, club, attack, macron",
          "<b>Topic 1</b><br>Words: yus, league, club, goal, clay",
          "<b>Topic 1</b><br>Words: league, club, football, wood, goal",
          "<b>Topic 1</b><br>Words: league, club, skiing, goal, season",
          "<b>Topic 1</b><br>Words: league, club, goal, champion, football",
          "<b>Topic 1</b><br>Words: league, ventilator, inspector, club, intelligence",
          "<b>Topic 1</b><br>Words: league, poi, club, goal, rie",
          "<b>Topic 1</b><br>Words: league, club, ranger, goal, player",
          "<b>Topic 1</b><br>Words: league, club, goal, football, player",
          "<b>Topic 1</b><br>Words: league, club, suicide, goal, football",
          "<b>Topic 1</b><br>Words: league, club, goal, football, season"
         ],
         "marker": {
          "color": "#56B4E9"
         },
         "mode": "lines",
         "name": "1_league_club_goal_football",
         "type": "scatter",
         "x": [
          "2011-08-29T01:18:35.904000",
          "2012-04-10T07:08:28.800000",
          "2012-11-17T02:58:33.600000",
          "2013-06-25T22:48:38.400000",
          "2014-02-01T18:38:43.200000",
          "2014-09-10T14:28:48",
          "2015-04-19T10:18:52.800000",
          "2015-11-26T06:08:57.600000",
          "2016-07-04T01:59:02.400000",
          "2017-02-09T21:49:07.200000",
          "2017-09-18T17:39:12",
          "2018-04-27T13:29:16.800000",
          "2018-12-04T09:19:21.600000",
          "2019-07-13T05:09:26.400000",
          "2020-02-19T00:59:31.200000",
          "2020-09-26T20:49:36",
          "2021-05-05T16:39:40.800000",
          "2021-12-12T12:29:45.600000",
          "2022-07-21T08:19:50.400000",
          "2023-02-27T04:09:55.200000"
         ],
         "y": [
          4,
          9,
          4,
          3,
          9,
          5,
          9,
          12,
          11,
          7,
          8,
          23,
          9,
          15,
          6,
          8,
          15,
          18,
          2,
          12
         ]
        },
        {
         "hoverinfo": "text",
         "hovertext": [
          "<b>Topic 2</b><br>Words: open, match, racism, football, tennis",
          "<b>Topic 2</b><br>Words: open, soy, tennis, match, slam",
          "<b>Topic 2</b><br>Words: thatcher, open, tennis, match, photo",
          "<b>Topic 2</b><br>Words: open, tennis, match, slam, best",
          "<b>Topic 2</b><br>Words: cola, open, tennis, match, slam",
          "<b>Topic 2</b><br>Words: deb, eve, open, separatist, tennis",
          "<b>Topic 2</b><br>Words: open, beach, tennis, match, acker",
          "<b>Topic 2</b><br>Words: open, tiger, tennis, refugee, match",
          "<b>Topic 2</b><br>Words: open, coup, tennis, slam, match",
          "<b>Topic 2</b><br>Words: tennis, dunk, open, football, slam",
          "<b>Topic 2</b><br>Words: open, tennis, match, slam, best",
          "<b>Topic 2</b><br>Words: samba, open, tennis, match, slam",
          "<b>Topic 2</b><br>Words: open, match, tennis, slam, best",
          "<b>Topic 2</b><br>Words: open, tennis, match, slam, best",
          "<b>Topic 2</b><br>Words: open, tennis, match, slam, best",
          "<b>Topic 2</b><br>Words: open, tennis, woman, match, slam",
          "<b>Topic 2</b><br>Words: open, match, tennis, copa, final",
          "<b>Topic 2</b><br>Words: open, tennis, match, slam, best",
          "<b>Topic 2</b><br>Words: open, protection, tennis, match, slam",
          "<b>Topic 2</b><br>Words: balloon, open, tennis, match, slam"
         ],
         "marker": {
          "color": "#009E73"
         },
         "mode": "lines",
         "name": "2_open_tennis_match_slam",
         "type": "scatter",
         "x": [
          "2011-08-29T01:18:35.904000",
          "2012-04-10T07:08:28.800000",
          "2012-11-17T02:58:33.600000",
          "2013-06-25T22:48:38.400000",
          "2014-02-01T18:38:43.200000",
          "2014-09-10T14:28:48",
          "2015-04-19T10:18:52.800000",
          "2015-11-26T06:08:57.600000",
          "2016-07-04T01:59:02.400000",
          "2017-02-09T21:49:07.200000",
          "2017-09-18T17:39:12",
          "2018-04-27T13:29:16.800000",
          "2018-12-04T09:19:21.600000",
          "2019-07-13T05:09:26.400000",
          "2020-02-19T00:59:31.200000",
          "2020-09-26T20:49:36",
          "2021-05-05T16:39:40.800000",
          "2021-12-12T12:29:45.600000",
          "2022-07-21T08:19:50.400000",
          "2023-02-27T04:09:55.200000"
         ],
         "y": [
          8,
          4,
          11,
          8,
          4,
          4,
          8,
          5,
          15,
          4,
          8,
          7,
          10,
          7,
          10,
          12,
          13,
          16,
          8,
          14
         ]
        },
        {
         "hoverinfo": "text",
         "hovertext": [
          "<b>Topic 3</b><br>Words: painting, fair, art, exhibition, rock",
          "<b>Topic 3</b><br>Words: open, music, replay, watched, watch",
          "<b>Topic 3</b><br>Words: gay, franklin, county, music, rock",
          "<b>Topic 3</b><br>Words: crash, train, deadly, aftermath, victim",
          "<b>Topic 3</b><br>Words: airport, pro, russia, squad, pretty",
          "<b>Topic 3</b><br>Words: source, tapa, police, holiday, apartment",
          "<b>Topic 3</b><br>Words: lost, caption, hide, photo, music",
          "<b>Topic 3</b><br>Words: music, van, rock, album, baa",
          "<b>Topic 3</b><br>Words: farrier, evert, horse, lettuce, villa",
          "<b>Topic 3</b><br>Words: stadium, macron, concert, eleven, music",
          "<b>Topic 3</b><br>Words: winter, medal, luge, slope, gold",
          "<b>Topic 3</b><br>Words: future, stadium, back, referendum, macron",
          "<b>Topic 3</b><br>Words: construction, hunt, prototype, border, rice",
          "<b>Topic 3</b><br>Words: emu, lacrosse, exit, deal, music",
          "<b>Topic 3</b><br>Words: jordan, wrestler, abuse, coach, wrestling",
          "<b>Topic 3</b><br>Words: beer, music, craft, rock, album",
          "<b>Topic 3</b><br>Words: music, rock, petit, album, band",
          "<b>Topic 3</b><br>Words: dinosaur, music, rock, album, song",
          "<b>Topic 3</b><br>Words: ger, gun, fen, alert, per",
          "<b>Topic 3</b><br>Words: pesticide, music, finland, rock, song"
         ],
         "marker": {
          "color": "#F0E442"
         },
         "mode": "lines",
         "name": "3_music_rock_album_song",
         "type": "scatter",
         "x": [
          "2011-08-29T01:18:35.904000",
          "2012-04-10T07:08:28.800000",
          "2012-11-17T02:58:33.600000",
          "2013-06-25T22:48:38.400000",
          "2014-02-01T18:38:43.200000",
          "2014-09-10T14:28:48",
          "2015-04-19T10:18:52.800000",
          "2015-11-26T06:08:57.600000",
          "2016-07-04T01:59:02.400000",
          "2017-02-09T21:49:07.200000",
          "2017-09-18T17:39:12",
          "2018-04-27T13:29:16.800000",
          "2018-12-04T09:19:21.600000",
          "2019-07-13T05:09:26.400000",
          "2020-02-19T00:59:31.200000",
          "2020-09-26T20:49:36",
          "2021-05-05T16:39:40.800000",
          "2021-12-12T12:29:45.600000",
          "2022-07-21T08:19:50.400000",
          "2023-02-27T04:09:55.200000"
         ],
         "y": [
          5,
          12,
          4,
          3,
          2,
          1,
          6,
          9,
          6,
          10,
          4,
          4,
          11,
          16,
          4,
          13,
          13,
          10,
          7,
          17
         ]
        },
        {
         "hoverinfo": "text",
         "hovertext": [
          "<b>Topic 4</b><br>Words: vaccine, henry, shooting, arsenal, tour",
          "<b>Topic 4</b><br>Words: vaccine, race, stoner, booster, chef",
          "<b>Topic 4</b><br>Words: wine, cellar, lys, vaccine, auction",
          "<b>Topic 4</b><br>Words: vaccine, tax, arsenal, barcelona, bale",
          "<b>Topic 4</b><br>Words: vaccine, revolution, protester, throne, booster",
          "<b>Topic 4</b><br>Words: vaccine, booster, man, leg, vaccination",
          "<b>Topic 4</b><br>Words: vaccine, booster, sap, coach, ree",
          "<b>Topic 4</b><br>Words: vaccine, pep, seeker, asylum, hart",
          "<b>Topic 4</b><br>Words: vaccine, player, booster, bile, vault",
          "<b>Topic 4</b><br>Words: air, fleet, force, vaccine, engine",
          "<b>Topic 4</b><br>Words: vaccine, booster, hostess, vaccination, dose",
          "<b>Topic 4</b><br>Words: vaccine, booster, minister, vaccination, dose",
          "<b>Topic 4</b><br>Words: vaccine, booster, license, cab, clergy",
          "<b>Topic 4</b><br>Words: vaccine, ascot, racecourse, royal, booster",
          "<b>Topic 4</b><br>Words: vaccine, rave, booster, vaccination, health",
          "<b>Topic 4</b><br>Words: vaccine, booster, vaccination, bill, dose",
          "<b>Topic 4</b><br>Words: vaccine, lee, booster, vaccination, gold",
          "<b>Topic 4</b><br>Words: vaccine, vali, booster, russia, tap",
          "<b>Topic 4</b><br>Words: vaccine, movie, booster, cinema, film",
          "<b>Topic 4</b><br>Words: vaccine, booster, vaccination, dose, dos"
         ],
         "marker": {
          "color": "#D55E00"
         },
         "mode": "lines",
         "name": "4_vaccine_booster_vaccination_dose",
         "type": "scatter",
         "x": [
          "2011-08-29T01:18:35.904000",
          "2012-04-10T07:08:28.800000",
          "2012-11-17T02:58:33.600000",
          "2013-06-25T22:48:38.400000",
          "2014-02-01T18:38:43.200000",
          "2014-09-10T14:28:48",
          "2015-04-19T10:18:52.800000",
          "2015-11-26T06:08:57.600000",
          "2016-07-04T01:59:02.400000",
          "2017-02-09T21:49:07.200000",
          "2017-09-18T17:39:12",
          "2018-04-27T13:29:16.800000",
          "2018-12-04T09:19:21.600000",
          "2019-07-13T05:09:26.400000",
          "2020-02-19T00:59:31.200000",
          "2020-09-26T20:49:36",
          "2021-05-05T16:39:40.800000",
          "2021-12-12T12:29:45.600000",
          "2022-07-21T08:19:50.400000",
          "2023-02-27T04:09:55.200000"
         ],
         "y": [
          5,
          3,
          3,
          2,
          5,
          6,
          7,
          5,
          6,
          1,
          7,
          5,
          8,
          8,
          9,
          11,
          21,
          8,
          3,
          14
         ]
        },
        {
         "hoverinfo": "text",
         "hovertext": [
          "<b>Topic 5</b><br>Words: defendant, courtroom, trial, enclave, militant",
          "<b>Topic 5</b><br>Words: open, best, photo, match, single",
          "<b>Topic 5</b><br>Words: meat, horse, stylish, league, transfer",
          "<b>Topic 5</b><br>Words: chap, opposition, climate, drug, replay",
          "<b>Topic 5</b><br>Words: burial, naval, bedlam, brother, ground",
          "<b>Topic 5</b><br>Words: refugee, migration, club, crisis, photo",
          "<b>Topic 5</b><br>Words: master, napalm, japan, visit, warrior",
          "<b>Topic 5</b><br>Words: chal, kori, blind, fencing, chancellor",
          "<b>Topic 5</b><br>Words: labour, prime, blair, wing, left",
          "<b>Topic 5</b><br>Words: lake, crisis, demonstrator, opposition, assembly",
          "<b>Topic 5</b><br>Words: church, child, dodger, abuse, ship",
          "<b>Topic 5</b><br>Words: pop, martin, band, group, exit",
          "<b>Topic 5</b><br>Words: accent, hill, church, woke, archbishop",
          "<b>Topic 5</b><br>Words: facility, nursing, indigenous, rev, resident",
          "<b>Topic 5</b><br>Words: vaccine, dos, military, hospital, green",
          "<b>Topic 5</b><br>Words: cho, collapse, han, pancake, bishop",
          "<b>Topic 5</b><br>Words: tusk, elephant, ivory, ice, filibuster",
          "<b>Topic 5</b><br>Words: cancer, shark, yang, animal, drone",
          "<b>Topic 5</b><br>Words: pir, interrogation, child, intelligence, cap"
         ],
         "marker": {
          "color": "#0072B2"
         },
         "mode": "lines",
         "name": "5_child_family_cancer_parent",
         "type": "scatter",
         "x": [
          "2011-08-29T01:18:35.904000",
          "2012-04-10T07:08:28.800000",
          "2012-11-17T02:58:33.600000",
          "2014-02-01T18:38:43.200000",
          "2014-09-10T14:28:48",
          "2015-04-19T10:18:52.800000",
          "2015-11-26T06:08:57.600000",
          "2016-07-04T01:59:02.400000",
          "2017-02-09T21:49:07.200000",
          "2017-09-18T17:39:12",
          "2018-04-27T13:29:16.800000",
          "2018-12-04T09:19:21.600000",
          "2019-07-13T05:09:26.400000",
          "2020-02-19T00:59:31.200000",
          "2020-09-26T20:49:36",
          "2021-05-05T16:39:40.800000",
          "2021-12-12T12:29:45.600000",
          "2022-07-21T08:19:50.400000",
          "2023-02-27T04:09:55.200000"
         ],
         "y": [
          3,
          8,
          4,
          8,
          3,
          3,
          7,
          7,
          1,
          5,
          6,
          11,
          3,
          6,
          5,
          11,
          7,
          5,
          9
         ]
        },
        {
         "hoverinfo": "text",
         "hovertext": [
          "<b>Topic 6</b><br>Words: golf, wood, inter, ryder, cup",
          "<b>Topic 6</b><br>Words: golf, hero, dog, wood, veteran",
          "<b>Topic 6</b><br>Words: golf, wood, vila, ryder, cup",
          "<b>Topic 6</b><br>Words: racism, football, golf, cup, wood",
          "<b>Topic 6</b><br>Words: painting, stolen, police, art, man",
          "<b>Topic 6</b><br>Words: depression, psychosis, golf, psychotic, wood",
          "<b>Topic 6</b><br>Words: golf, wood, hale, ryder, team",
          "<b>Topic 6</b><br>Words: master, pie, hole, round, golf",
          "<b>Topic 6</b><br>Words: campaign, final, golf, wood, ryder",
          "<b>Topic 6</b><br>Words: golf, open, wood, locker, ryder",
          "<b>Topic 6</b><br>Words: sake, japan, craftsmanship, golf, cathedral",
          "<b>Topic 6</b><br>Words: skate, golf, queer, skater, wood",
          "<b>Topic 6</b><br>Words: allied, golf, wood, meng, ryder",
          "<b>Topic 6</b><br>Words: golf, blas, wood, cartoon, ryder",
          "<b>Topic 6</b><br>Words: golf, carr, wood, ryder, tiger",
          "<b>Topic 6</b><br>Words: min, golf, mink, wood, ryder",
          "<b>Topic 6</b><br>Words: golf, wood, ryder, hole, master",
          "<b>Topic 6</b><br>Words: golf, wood, ryder, tiger, master",
          "<b>Topic 6</b><br>Words: speaker, golf, cannon, po, wood",
          "<b>Topic 6</b><br>Words: golf, ryder, wood, tiger, master"
         ],
         "marker": {
          "color": "#CC79A7"
         },
         "mode": "lines",
         "name": "6_golf_wood_ryder_tiger",
         "type": "scatter",
         "x": [
          "2011-08-29T01:18:35.904000",
          "2012-04-10T07:08:28.800000",
          "2012-11-17T02:58:33.600000",
          "2013-06-25T22:48:38.400000",
          "2014-02-01T18:38:43.200000",
          "2014-09-10T14:28:48",
          "2015-04-19T10:18:52.800000",
          "2015-11-26T06:08:57.600000",
          "2016-07-04T01:59:02.400000",
          "2017-02-09T21:49:07.200000",
          "2017-09-18T17:39:12",
          "2018-04-27T13:29:16.800000",
          "2018-12-04T09:19:21.600000",
          "2019-07-13T05:09:26.400000",
          "2020-02-19T00:59:31.200000",
          "2020-09-26T20:49:36",
          "2021-05-05T16:39:40.800000",
          "2021-12-12T12:29:45.600000",
          "2022-07-21T08:19:50.400000",
          "2023-02-27T04:09:55.200000"
         ],
         "y": [
          7,
          4,
          7,
          4,
          2,
          1,
          5,
          2,
          8,
          4,
          2,
          8,
          9,
          5,
          7,
          7,
          5,
          12,
          3,
          7
         ]
        },
        {
         "hoverinfo": "text",
         "hovertext": [
          "<b>Topic 7</b><br>Words: heat, temperature, occupy, ricker, degree",
          "<b>Topic 7</b><br>Words: heat, earth, astronaut, temperature, ne",
          "<b>Topic 7</b><br>Words: heat, wood, bull, temperature, grid",
          "<b>Topic 7</b><br>Words: heat, temperature, degree, ring, jane",
          "<b>Topic 7</b><br>Words: crisis, heat, photo, temperature, cup",
          "<b>Topic 7</b><br>Words: heat, temperature, sheet, league, club",
          "<b>Topic 7</b><br>Words: heat, garden, crisis, temperature, degree",
          "<b>Topic 7</b><br>Words: heat, prison, temperature, degree, san",
          "<b>Topic 7</b><br>Words: heat, temperature, athlete, degree, sport",
          "<b>Topic 7</b><br>Words: heat, temperature, migration, degree, migrant",
          "<b>Topic 7</b><br>Words: heat, elevation, temperature, degree, team",
          "<b>Topic 7</b><br>Words: wood, heat, tiger, temperature, high",
          "<b>Topic 7</b><br>Words: heat, temperature, degree, auburn, phoenix",
          "<b>Topic 7</b><br>Words: heat, racecourse, temperature, blower, whistle",
          "<b>Topic 7</b><br>Words: heat, temperature, degree, pub, hare",
          "<b>Topic 7</b><br>Words: heat, temperature, degree, walker, record",
          "<b>Topic 7</b><br>Words: heat, collapse, temperature, deadly, degree",
          "<b>Topic 7</b><br>Words: heat, temperature, russia, degree, phoenix",
          "<b>Topic 7</b><br>Words: heat, execution, temperature, burton, degree",
          "<b>Topic 7</b><br>Words: heat, temperature, dressing, degree, flamingo"
         ],
         "marker": {
          "color": "#E69F00"
         },
         "mode": "lines",
         "name": "7_heat_temperature_degree_phoenix",
         "type": "scatter",
         "x": [
          "2011-08-29T01:18:35.904000",
          "2012-04-10T07:08:28.800000",
          "2012-11-17T02:58:33.600000",
          "2013-06-25T22:48:38.400000",
          "2014-02-01T18:38:43.200000",
          "2014-09-10T14:28:48",
          "2015-04-19T10:18:52.800000",
          "2015-11-26T06:08:57.600000",
          "2016-07-04T01:59:02.400000",
          "2017-02-09T21:49:07.200000",
          "2017-09-18T17:39:12",
          "2018-04-27T13:29:16.800000",
          "2018-12-04T09:19:21.600000",
          "2019-07-13T05:09:26.400000",
          "2020-02-19T00:59:31.200000",
          "2020-09-26T20:49:36",
          "2021-05-05T16:39:40.800000",
          "2021-12-12T12:29:45.600000",
          "2022-07-21T08:19:50.400000",
          "2023-02-27T04:09:55.200000"
         ],
         "y": [
          3,
          2,
          2,
          4,
          6,
          1,
          4,
          4,
          3,
          5,
          4,
          5,
          6,
          3,
          8,
          8,
          14,
          10,
          3,
          10
         ]
        },
        {
         "hoverinfo": "text",
         "hovertext": [
          "<b>Topic 8</b><br>Words: queen, throne, jubilee, mark, diamond",
          "<b>Topic 8</b><br>Words: league, terry, champion, climate, coal",
          "<b>Topic 8</b><br>Words: open, match, photo, round, forehand",
          "<b>Topic 8</b><br>Words: polygamy, climate, coal, kerry, energy",
          "<b>Topic 8</b><br>Words: unveil, car, team, season, climate",
          "<b>Topic 8</b><br>Words: juror, nae, tsar, climate, coal",
          "<b>Topic 8</b><br>Words: migration, refugee, migrant, climate, coal",
          "<b>Topic 8</b><br>Words: ahmadi, seven, squad, jar, wearing",
          "<b>Topic 8</b><br>Words: ani, baa, train, climate, coal",
          "<b>Topic 8</b><br>Words: car, climate, coal, footballer, energy",
          "<b>Topic 8</b><br>Words: skiing, pant, queen, ski, downhill",
          "<b>Topic 8</b><br>Words: rose, wait, editor, magazine, woman",
          "<b>Topic 8</b><br>Words: skiing, borg, climate, coal, gas",
          "<b>Topic 8</b><br>Words: racecourse, climate, coal, bale, energy",
          "<b>Topic 8</b><br>Words: ley, climate, coal, carl, dance",
          "<b>Topic 8</b><br>Words: mo, mane, coach, vaccine, climate",
          "<b>Topic 8</b><br>Words: cot, climate, abortion, coal, energy",
          "<b>Topic 8</b><br>Words: kim, climate, coal, energy, ski",
          "<b>Topic 8</b><br>Words: fico, party, coalition, climate, coal",
          "<b>Topic 8</b><br>Words: climate, coal, energy, bond, carbon"
         ],
         "marker": {
          "color": "#56B4E9"
         },
         "mode": "lines",
         "name": "8_climate_coal_energy_carbon",
         "type": "scatter",
         "x": [
          "2011-08-29T01:18:35.904000",
          "2012-04-10T07:08:28.800000",
          "2012-11-17T02:58:33.600000",
          "2013-06-25T22:48:38.400000",
          "2014-02-01T18:38:43.200000",
          "2014-09-10T14:28:48",
          "2015-04-19T10:18:52.800000",
          "2015-11-26T06:08:57.600000",
          "2016-07-04T01:59:02.400000",
          "2017-02-09T21:49:07.200000",
          "2017-09-18T17:39:12",
          "2018-04-27T13:29:16.800000",
          "2018-12-04T09:19:21.600000",
          "2019-07-13T05:09:26.400000",
          "2020-02-19T00:59:31.200000",
          "2020-09-26T20:49:36",
          "2021-05-05T16:39:40.800000",
          "2021-12-12T12:29:45.600000",
          "2022-07-21T08:19:50.400000",
          "2023-02-27T04:09:55.200000"
         ],
         "y": [
          7,
          4,
          5,
          3,
          3,
          4,
          4,
          2,
          6,
          4,
          3,
          2,
          7,
          11,
          7,
          4,
          9,
          10,
          1,
          8
         ]
        },
        {
         "hoverinfo": "text",
         "hovertext": [
          "<b>Topic 9</b><br>Words: lifeboat, border, ship, captain, migrant",
          "<b>Topic 9</b><br>Words: kraft, salary, million, border, football",
          "<b>Topic 9</b><br>Words: pope, poor, catholic, blessing, church",
          "<b>Topic 9</b><br>Words: naval, border, migrant, watched, replay",
          "<b>Topic 9</b><br>Words: mystery, border, migrant, vessel, hunt",
          "<b>Topic 9</b><br>Words: bomb, border, rio, prank, beach",
          "<b>Topic 9</b><br>Words: flint, border, colorado, migrant, spring",
          "<b>Topic 9</b><br>Words: border, migrant, final, immigration, asylum",
          "<b>Topic 9</b><br>Words: border, migrant, immigration, asylum, custom",
          "<b>Topic 9</b><br>Words: samson, church, jaguar, border, khan",
          "<b>Topic 9</b><br>Words: khan, border, migrant, sailing, vagabond",
          "<b>Topic 9</b><br>Words: border, migrant, immigration, derby, asylum",
          "<b>Topic 9</b><br>Words: maxwell, border, migrant, slade, immigration",
          "<b>Topic 9</b><br>Words: border, migrant, shark, heavyweight, founder",
          "<b>Topic 9</b><br>Words: border, migrant, tax, trump, immigration",
          "<b>Topic 9</b><br>Words: border, miner, migrant, immigration, sab",
          "<b>Topic 9</b><br>Words: border, migrant, hutch, peter, trump",
          "<b>Topic 9</b><br>Words: python, multinational, border, snake, migrant",
          "<b>Topic 9</b><br>Words: border, migrant, fox, gratitude, alb"
         ],
         "marker": {
          "color": "#009E73"
         },
         "mode": "lines",
         "name": "9_border_migrant_immigration_asylum",
         "type": "scatter",
         "x": [
          "2011-08-29T01:18:35.904000",
          "2012-04-10T07:08:28.800000",
          "2012-11-17T02:58:33.600000",
          "2013-06-25T22:48:38.400000",
          "2014-09-10T14:28:48",
          "2015-04-19T10:18:52.800000",
          "2015-11-26T06:08:57.600000",
          "2016-07-04T01:59:02.400000",
          "2017-02-09T21:49:07.200000",
          "2017-09-18T17:39:12",
          "2018-04-27T13:29:16.800000",
          "2018-12-04T09:19:21.600000",
          "2019-07-13T05:09:26.400000",
          "2020-02-19T00:59:31.200000",
          "2020-09-26T20:49:36",
          "2021-05-05T16:39:40.800000",
          "2021-12-12T12:29:45.600000",
          "2022-07-21T08:19:50.400000",
          "2023-02-27T04:09:55.200000"
         ],
         "y": [
          2,
          2,
          1,
          3,
          2,
          5,
          4,
          10,
          7,
          3,
          10,
          7,
          5,
          6,
          3,
          9,
          10,
          2,
          6
         ]
        },
        {
         "hoverinfo": "text",
         "hovertext": [
          "<b>Topic 10</b><br>Words: formula, driver, race, champion, wood",
          "<b>Topic 10</b><br>Words: driver, race, formula, club, grand",
          "<b>Topic 10</b><br>Words: mala, driver, champion, formula, race",
          "<b>Topic 10</b><br>Words: formula, driver, race, border, galactic",
          "<b>Topic 10</b><br>Words: driver, formula, millennial, blackwater, race",
          "<b>Topic 10</b><br>Words: lei, pale, cage, hulk, princess",
          "<b>Topic 10</b><br>Words: chard, drift, sailing, spin, racing",
          "<b>Topic 10</b><br>Words: ber, formula, driver, race, grand",
          "<b>Topic 10</b><br>Words: derby, ness, race, horse, formula",
          "<b>Topic 10</b><br>Words: abet, formula, driver, race, nak",
          "<b>Topic 10</b><br>Words: tournament, six, nation, wale, round",
          "<b>Topic 10</b><br>Words: bush, lady, former, formula, first",
          "<b>Topic 10</b><br>Words: formula, driver, race, latitude, season",
          "<b>Topic 10</b><br>Words: driver, formula, race, live, grand",
          "<b>Topic 10</b><br>Words: driver, formula, race, car, racing",
          "<b>Topic 10</b><br>Words: formula, driver, race, variant, grand",
          "<b>Topic 10</b><br>Words: russia, formula, driver, race, hide",
          "<b>Topic 10</b><br>Words: formula, driver, northwestern, mental, race",
          "<b>Topic 10</b><br>Words: formula, bank, driver, race, season"
         ],
         "marker": {
          "color": "#F0E442"
         },
         "mode": "lines",
         "name": "10_formula_driver_race_grand",
         "type": "scatter",
         "x": [
          "2011-08-29T01:18:35.904000",
          "2012-04-10T07:08:28.800000",
          "2012-11-17T02:58:33.600000",
          "2013-06-25T22:48:38.400000",
          "2014-09-10T14:28:48",
          "2015-04-19T10:18:52.800000",
          "2015-11-26T06:08:57.600000",
          "2016-07-04T01:59:02.400000",
          "2017-02-09T21:49:07.200000",
          "2017-09-18T17:39:12",
          "2018-04-27T13:29:16.800000",
          "2018-12-04T09:19:21.600000",
          "2019-07-13T05:09:26.400000",
          "2020-02-19T00:59:31.200000",
          "2020-09-26T20:49:36",
          "2021-05-05T16:39:40.800000",
          "2021-12-12T12:29:45.600000",
          "2022-07-21T08:19:50.400000",
          "2023-02-27T04:09:55.200000"
         ],
         "y": [
          3,
          5,
          8,
          6,
          4,
          1,
          3,
          3,
          3,
          5,
          3,
          2,
          3,
          8,
          7,
          8,
          12,
          4,
          6
         ]
        },
        {
         "hoverinfo": "text",
         "hovertext": [
          "<b>Topic 11</b><br>Words: hermitage, ricker, museum, collection, laird",
          "<b>Topic 11</b><br>Words: master, palmer, golf, golfer, open",
          "<b>Topic 11</b><br>Words: brazil, champion, watch, watched, replay",
          "<b>Topic 11</b><br>Words: jewel, lake, parish, jewelry, hotel",
          "<b>Topic 11</b><br>Words: put, gol, russia, scrooge, replay",
          "<b>Topic 11</b><br>Words: endurance, performance, brain, mali, dowd",
          "<b>Topic 11</b><br>Words: wedding, driver, pen, race, bull",
          "<b>Topic 11</b><br>Words: cub, inning, series, game, world",
          "<b>Topic 11</b><br>Words: concert, explosion, arena, deadly, naval",
          "<b>Topic 11</b><br>Words: brag, judo, tau, skiing, sport",
          "<b>Topic 11</b><br>Words: synagogue, naked, mal, linger, squirrel",
          "<b>Topic 11</b><br>Words: lacy, smith, ascot, skiing, civilian",
          "<b>Topic 11</b><br>Words: protest, vest, yellow, demonstrator, protester",
          "<b>Topic 11</b><br>Words: minister, robot, prime, gove, intensive",
          "<b>Topic 11</b><br>Words: blake, slavery, gravel, slaver, master",
          "<b>Topic 11</b><br>Words: chess, lobster, prince, abortion, civilian",
          "<b>Topic 11</b><br>Words: labor, region, report, galaxy, forced",
          "<b>Topic 11</b><br>Words: superpower, dilettante, courage, enlightening, deride",
          "<b>Topic 11</b><br>Words: water, farm, civilian, conflict, spice"
         ],
         "marker": {
          "color": "#D55E00"
         },
         "mode": "lines",
         "name": "11_civilian_force_military_fighting",
         "type": "scatter",
         "x": [
          "2011-08-29T01:18:35.904000",
          "2012-04-10T07:08:28.800000",
          "2012-11-17T02:58:33.600000",
          "2013-06-25T22:48:38.400000",
          "2014-09-10T14:28:48",
          "2015-04-19T10:18:52.800000",
          "2015-11-26T06:08:57.600000",
          "2016-07-04T01:59:02.400000",
          "2017-02-09T21:49:07.200000",
          "2017-09-18T17:39:12",
          "2018-04-27T13:29:16.800000",
          "2018-12-04T09:19:21.600000",
          "2019-07-13T05:09:26.400000",
          "2020-02-19T00:59:31.200000",
          "2020-09-26T20:49:36",
          "2021-05-05T16:39:40.800000",
          "2021-12-12T12:29:45.600000",
          "2022-07-21T08:19:50.400000",
          "2023-02-27T04:09:55.200000"
         ],
         "y": [
          3,
          4,
          4,
          4,
          3,
          5,
          4,
          4,
          6,
          3,
          4,
          10,
          5,
          5,
          4,
          11,
          6,
          1,
          7
         ]
        },
        {
         "hoverinfo": "text",
         "hovertext": [
          "<b>Topic 12</b><br>Words: seed, abortion, goal, granada, minute",
          "<b>Topic 12</b><br>Words: terry, abortion, duel, wood, heartache",
          "<b>Topic 12</b><br>Words: benedict, pope, abortion, senna, honda",
          "<b>Topic 12</b><br>Words: flight, abortion, victim, crash, reaction",
          "<b>Topic 12</b><br>Words: abortion, funeral, terror, victim, court",
          "<b>Topic 12</b><br>Words: abortion, wave, froom, deadly, heat",
          "<b>Topic 12</b><br>Words: puddle, abortion, managerial, howe, iceland",
          "<b>Topic 12</b><br>Words: abortion, grosso, rio, smyth, giraffe",
          "<b>Topic 12</b><br>Words: abortion, explosion, whan, fire, apartment",
          "<b>Topic 12</b><br>Words: bruin, abortion, menstrual, woman, cycle",
          "<b>Topic 12</b><br>Words: abortion, zimbabwe, summer, catching, transfer",
          "<b>Topic 12</b><br>Words: abortion, drone, lear, woman, village",
          "<b>Topic 12</b><br>Words: abortion, labour, racist, exit, party",
          "<b>Topic 12</b><br>Words: abortion, euthanasia, doctor, woman, dementia",
          "<b>Topic 12</b><br>Words: abortion, fetter, moratorium, eviction, court",
          "<b>Topic 12</b><br>Words: collapse, deadly, abortion, near, building",
          "<b>Topic 12</b><br>Words: abortion, hong, law, woman, court",
          "<b>Topic 12</b><br>Words: abortion, king, growth, rig, property",
          "<b>Topic 12</b><br>Words: abortion, grain, port, wheat, russia"
         ],
         "marker": {
          "color": "#0072B2"
         },
         "mode": "lines",
         "name": "12_abortion_pregnancy_pill_law",
         "type": "scatter",
         "x": [
          "2011-08-29T01:18:35.904000",
          "2012-04-10T07:08:28.800000",
          "2012-11-17T02:58:33.600000",
          "2014-02-01T18:38:43.200000",
          "2014-09-10T14:28:48",
          "2015-04-19T10:18:52.800000",
          "2015-11-26T06:08:57.600000",
          "2016-07-04T01:59:02.400000",
          "2017-02-09T21:49:07.200000",
          "2017-09-18T17:39:12",
          "2018-04-27T13:29:16.800000",
          "2018-12-04T09:19:21.600000",
          "2019-07-13T05:09:26.400000",
          "2020-02-19T00:59:31.200000",
          "2020-09-26T20:49:36",
          "2021-05-05T16:39:40.800000",
          "2021-12-12T12:29:45.600000",
          "2022-07-21T08:19:50.400000",
          "2023-02-27T04:09:55.200000"
         ],
         "y": [
          2,
          6,
          4,
          4,
          6,
          5,
          2,
          5,
          5,
          2,
          5,
          7,
          5,
          6,
          6,
          5,
          9,
          2,
          6
         ]
        },
        {
         "hoverinfo": "text",
         "hovertext": [
          "<b>Topic 13</b><br>Words: avalanche, par, pot, pager, winner",
          "<b>Topic 13</b><br>Words: club, sah, trump, replay, watched",
          "<b>Topic 13</b><br>Words: trump, open, win, slam, champion",
          "<b>Topic 13</b><br>Words: arsenal, bale, indoor, surface, trump",
          "<b>Topic 13</b><br>Words: costa, header, victory, tur, trump",
          "<b>Topic 13</b><br>Words: gift, horse, queen, racing, royal",
          "<b>Topic 13</b><br>Words: boston, tsar, nae, marathon, trump",
          "<b>Topic 13</b><br>Words: pike, trump, jake, scene, club",
          "<b>Topic 13</b><br>Words: tennis, legacy, trump, building, athletics",
          "<b>Topic 13</b><br>Words: carrier, aircraft, us, ford, class",
          "<b>Topic 13</b><br>Words: golf, charity, animal, pope, circus",
          "<b>Topic 13</b><br>Words: riva, reed, stadium, trump, club",
          "<b>Topic 13</b><br>Words: horse, trump, amour, clipping, macron",
          "<b>Topic 13</b><br>Words: rage, trump, photo, aga, caption",
          "<b>Topic 13</b><br>Words: outbreak, fixture, soccer, game, inter",
          "<b>Topic 13</b><br>Words: master, golf, tournament, horse, hole",
          "<b>Topic 13</b><br>Words: elder, trump, deign, bop, harassment",
          "<b>Topic 13</b><br>Words: vali, trump, reed, bennet, president",
          "<b>Topic 13</b><br>Words: bey, trump, west, baby, pediatrician",
          "<b>Topic 13</b><br>Words: trump, president, waste, child, debt"
         ],
         "marker": {
          "color": "#CC79A7"
         },
         "mode": "lines",
         "name": "13_trump_president_white_campaign",
         "type": "scatter",
         "x": [
          "2011-08-29T01:18:35.904000",
          "2012-04-10T07:08:28.800000",
          "2012-11-17T02:58:33.600000",
          "2013-06-25T22:48:38.400000",
          "2014-02-01T18:38:43.200000",
          "2014-09-10T14:28:48",
          "2015-04-19T10:18:52.800000",
          "2015-11-26T06:08:57.600000",
          "2016-07-04T01:59:02.400000",
          "2017-02-09T21:49:07.200000",
          "2017-09-18T17:39:12",
          "2018-04-27T13:29:16.800000",
          "2018-12-04T09:19:21.600000",
          "2019-07-13T05:09:26.400000",
          "2020-02-19T00:59:31.200000",
          "2020-09-26T20:49:36",
          "2021-05-05T16:39:40.800000",
          "2021-12-12T12:29:45.600000",
          "2022-07-21T08:19:50.400000",
          "2023-02-27T04:09:55.200000"
         ],
         "y": [
          3,
          3,
          3,
          3,
          1,
          1,
          4,
          3,
          5,
          3,
          4,
          4,
          5,
          10,
          1,
          4,
          9,
          11,
          3,
          7
         ]
        },
        {
         "hoverinfo": "text",
         "hovertext": [
          "<b>Topic 14</b><br>Words: trump, golf, painting, ship, coach",
          "<b>Topic 14</b><br>Words: austerity, coalition, samara, party, formed",
          "<b>Topic 14</b><br>Words: harry, rising, tennis, sen, trump",
          "<b>Topic 14</b><br>Words: hacking, undisclosed, trump, phone, royal",
          "<b>Topic 14</b><br>Words: duke, ambulance, prince, royal, pilot",
          "<b>Topic 14</b><br>Words: girl, trump, police, missing, jury",
          "<b>Topic 14</b><br>Words: trump, hey, golf, stadium, pie",
          "<b>Topic 14</b><br>Words: trump, hulk, open, set, final",
          "<b>Topic 14</b><br>Words: tennis, betting, abuse, trump, player",
          "<b>Topic 14</b><br>Words: trump, comment, beta, trophy, grand",
          "<b>Topic 14</b><br>Words: trump, athlete, box, exoskeleton, ca",
          "<b>Topic 14</b><br>Words: cavalry, hussar, horse, hedge, rider",
          "<b>Topic 14</b><br>Words: trump, german, slam, grand, criminal",
          "<b>Topic 14</b><br>Words: trump, hydrogen, shipping, diesel, fuel",
          "<b>Topic 14</b><br>Words: bright, trump, runway, indictment, trial",
          "<b>Topic 14</b><br>Words: chariot, trump, fine, gen, sen",
          "<b>Topic 14</b><br>Words: trump, billion, trial, brown, indictment",
          "<b>Topic 14</b><br>Words: trump, indictment, election, price, trial",
          "<b>Topic 14</b><br>Words: trump, business, cherry, bill, hair",
          "<b>Topic 14</b><br>Words: park, trump, heat, canyon, fleet"
         ],
         "marker": {
          "color": "#E69F00"
         },
         "mode": "lines",
         "name": "14_trump_indictment_trial_jury",
         "type": "scatter",
         "x": [
          "2011-08-29T01:18:35.904000",
          "2012-04-10T07:08:28.800000",
          "2012-11-17T02:58:33.600000",
          "2013-06-25T22:48:38.400000",
          "2014-02-01T18:38:43.200000",
          "2014-09-10T14:28:48",
          "2015-04-19T10:18:52.800000",
          "2015-11-26T06:08:57.600000",
          "2016-07-04T01:59:02.400000",
          "2017-02-09T21:49:07.200000",
          "2017-09-18T17:39:12",
          "2018-04-27T13:29:16.800000",
          "2018-12-04T09:19:21.600000",
          "2019-07-13T05:09:26.400000",
          "2020-02-19T00:59:31.200000",
          "2020-09-26T20:49:36",
          "2021-05-05T16:39:40.800000",
          "2021-12-12T12:29:45.600000",
          "2022-07-21T08:19:50.400000",
          "2023-02-27T04:09:55.200000"
         ],
         "y": [
          7,
          1,
          6,
          4,
          1,
          2,
          2,
          2,
          1,
          6,
          3,
          5,
          5,
          4,
          5,
          3,
          8,
          9,
          3,
          5
         ]
        },
        {
         "hoverinfo": "text",
         "hovertext": [
          "<b>Topic 15</b><br>Words: fire, gas, resignation, wildfire, cathedral",
          "<b>Topic 15</b><br>Words: costa, caisson, grace, cruise, ship",
          "<b>Topic 15</b><br>Words: fire, crossrail, plague, skeleton, art",
          "<b>Topic 15</b><br>Words: pussy, zeta, cartel, riot, fire",
          "<b>Topic 15</b><br>Words: fire, economy, winter, election, result",
          "<b>Topic 15</b><br>Words: derby, seven, fire, hong, register",
          "<b>Topic 15</b><br>Words: gay, openly, athlete, fire, pint",
          "<b>Topic 15</b><br>Words: comfortably, equal, consecutive, fire, beat",
          "<b>Topic 15</b><br>Words: wood, master, fire, tiger, green",
          "<b>Topic 15</b><br>Words: harry, royal, prince, fire, lens",
          "<b>Topic 15</b><br>Words: roker, fire, derby, sri, wildfire",
          "<b>Topic 15</b><br>Words: title, series, inning, celibacy, game",
          "<b>Topic 15</b><br>Words: employee, viking, fire, wildfire, siren",
          "<b>Topic 15</b><br>Words: ice, undocumented, custody, fire, fiscal",
          "<b>Topic 15</b><br>Words: ugh, sled, fire, bland, smith",
          "<b>Topic 15</b><br>Words: fire, price, liman, mandate, food",
          "<b>Topic 15</b><br>Words: let, fire, market, investor, exchange",
          "<b>Topic 15</b><br>Words: fire, siren, wildfire, resident, cancer"
         ],
         "marker": {
          "color": "#56B4E9"
         },
         "mode": "lines",
         "name": "15_fire_wildfire_siren_resident",
         "type": "scatter",
         "x": [
          "2011-08-29T01:18:35.904000",
          "2012-04-10T07:08:28.800000",
          "2012-11-17T02:58:33.600000",
          "2013-06-25T22:48:38.400000",
          "2015-04-19T10:18:52.800000",
          "2015-11-26T06:08:57.600000",
          "2016-07-04T01:59:02.400000",
          "2017-02-09T21:49:07.200000",
          "2017-09-18T17:39:12",
          "2018-04-27T13:29:16.800000",
          "2018-12-04T09:19:21.600000",
          "2019-07-13T05:09:26.400000",
          "2020-02-19T00:59:31.200000",
          "2020-09-26T20:49:36",
          "2021-05-05T16:39:40.800000",
          "2021-12-12T12:29:45.600000",
          "2022-07-21T08:19:50.400000",
          "2023-02-27T04:09:55.200000"
         ],
         "y": [
          5,
          3,
          6,
          3,
          2,
          4,
          5,
          8,
          3,
          4,
          6,
          5,
          7,
          2,
          2,
          5,
          4,
          6
         ]
        },
        {
         "hoverinfo": "text",
         "hovertext": [
          "<b>Topic 16</b><br>Words: sant, dung, treaty, ching, trump",
          "<b>Topic 16</b><br>Words: van, half, second, villa, penalty",
          "<b>Topic 16</b><br>Words: pagan, colt, mali, guan, sant",
          "<b>Topic 16</b><br>Words: fowler, golf, opus, sant, book",
          "<b>Topic 16</b><br>Words: cartel, familia, templar, authority, knight",
          "<b>Topic 16</b><br>Words: jihad, joey, dance, paraplegic, wedding",
          "<b>Topic 16</b><br>Words: sant, trump, debate, referendum, voter",
          "<b>Topic 16</b><br>Words: ense, crap, chap, rio, sant",
          "<b>Topic 16</b><br>Words: parliament, sant, attacker, ascot, horse",
          "<b>Topic 16</b><br>Words: bowl, trump, sant, super, eagle",
          "<b>Topic 16</b><br>Words: finish, sant, round, fight, trump",
          "<b>Topic 16</b><br>Words: sant, trump, crusader, migrant, debate",
          "<b>Topic 16</b><br>Words: exit, labour, sant, position, party",
          "<b>Topic 16</b><br>Words: brook, meal, voucher, sant, sport",
          "<b>Topic 16</b><br>Words: weight, sant, dray, trump, debate",
          "<b>Topic 16</b><br>Words: gulf, hurricane, coast, sant, august",
          "<b>Topic 16</b><br>Words: sant, china, rocket, space, trump",
          "<b>Topic 16</b><br>Words: campaign, donor, sant, candidate, debate",
          "<b>Topic 16</b><br>Words: strain, ketchup, vaccine, sant, trump"
         ],
         "marker": {
          "color": "#009E73"
         },
         "mode": "lines",
         "name": "16_sant_trump_debate_candidate",
         "type": "scatter",
         "x": [
          "2011-08-29T01:18:35.904000",
          "2012-04-10T07:08:28.800000",
          "2012-11-17T02:58:33.600000",
          "2013-06-25T22:48:38.400000",
          "2014-02-01T18:38:43.200000",
          "2014-09-10T14:28:48",
          "2015-11-26T06:08:57.600000",
          "2016-07-04T01:59:02.400000",
          "2017-02-09T21:49:07.200000",
          "2017-09-18T17:39:12",
          "2018-04-27T13:29:16.800000",
          "2018-12-04T09:19:21.600000",
          "2019-07-13T05:09:26.400000",
          "2020-02-19T00:59:31.200000",
          "2020-09-26T20:49:36",
          "2021-05-05T16:39:40.800000",
          "2021-12-12T12:29:45.600000",
          "2022-07-21T08:19:50.400000",
          "2023-02-27T04:09:55.200000"
         ],
         "y": [
          7,
          1,
          3,
          3,
          1,
          2,
          5,
          6,
          2,
          6,
          6,
          8,
          4,
          3,
          3,
          9,
          4,
          3,
          3
         ]
        },
        {
         "hoverinfo": "text",
         "hovertext": [
          "<b>Topic 17</b><br>Words: dewan, extradition, bridegroom, honeymoon, south",
          "<b>Topic 17</b><br>Words: el, brook, coul, hacking, inquiry",
          "<b>Topic 17</b><br>Words: caroline, seed, per, round, beaten",
          "<b>Topic 17</b><br>Words: refugee, flee, soe, boat, hide",
          "<b>Topic 17</b><br>Words: aer, spokesman, ber, swiss, rail",
          "<b>Topic 17</b><br>Words: tsar, nae, boston, khar, jury",
          "<b>Topic 17</b><br>Words: migration, refugee, migrant, crisis, photo",
          "<b>Topic 17</b><br>Words: mim, pope, anna, suspect, refugee",
          "<b>Topic 17</b><br>Words: referendum, leave, petition, exit, turnout",
          "<b>Topic 17</b><br>Words: pot, jug, chemical, strike, tiller",
          "<b>Topic 17</b><br>Words: rippon, forest, independence, lignite, worthy",
          "<b>Topic 17</b><br>Words: district, race, anti, democrat, love",
          "<b>Topic 17</b><br>Words: racing, sonar, gin, airport, bat",
          "<b>Topic 17</b><br>Words: sugar, wall, sun, drink, fan",
          "<b>Topic 17</b><br>Words: explosion, ammonium, nitrate, naval, rock",
          "<b>Topic 17</b><br>Words: quarterback, black, coach, league, draft",
          "<b>Topic 17</b><br>Words: tusk, elephant, female, mace, maud",
          "<b>Topic 17</b><br>Words: defector, squall, snow, superintendent, south",
          "<b>Topic 17</b><br>Words: wage, yuan, billion, growth, recession"
         ],
         "marker": {
          "color": "#F0E442"
         },
         "mode": "lines",
         "name": "17_pont_betty_series_movie",
         "type": "scatter",
         "x": [
          "2011-08-29T01:18:35.904000",
          "2012-04-10T07:08:28.800000",
          "2012-11-17T02:58:33.600000",
          "2013-06-25T22:48:38.400000",
          "2014-02-01T18:38:43.200000",
          "2014-09-10T14:28:48",
          "2015-04-19T10:18:52.800000",
          "2015-11-26T06:08:57.600000",
          "2016-07-04T01:59:02.400000",
          "2017-02-09T21:49:07.200000",
          "2017-09-18T17:39:12",
          "2018-04-27T13:29:16.800000",
          "2018-12-04T09:19:21.600000",
          "2019-07-13T05:09:26.400000",
          "2020-02-19T00:59:31.200000",
          "2020-09-26T20:49:36",
          "2021-05-05T16:39:40.800000",
          "2021-12-12T12:29:45.600000",
          "2023-02-27T04:09:55.200000"
         ],
         "y": [
          1,
          2,
          1,
          1,
          1,
          5,
          5,
          3,
          1,
          5,
          6,
          7,
          5,
          7,
          6,
          4,
          6,
          8,
          3
         ]
        },
        {
         "hoverinfo": "text",
         "hovertext": [
          "<b>Topic 18</b><br>Words: stoner, flexible, lap, province, mine",
          "<b>Topic 18</b><br>Words: corruption, latter, pandemic, cradle, caption",
          "<b>Topic 18</b><br>Words: gay, openly, athlete, player, driver",
          "<b>Topic 18</b><br>Words: slam, defendant, title, pandemic, final",
          "<b>Topic 18</b><br>Words: rape, violence, woman, houseboat, domestic",
          "<b>Topic 18</b><br>Words: bony, ball, deflate, pandemic, notorious",
          "<b>Topic 18</b><br>Words: underwear, soccer, hoi, star, pandemic",
          "<b>Topic 18</b><br>Words: corrupt, attack, corruption, tapia, kist",
          "<b>Topic 18</b><br>Words: bolt, pandemic, samba, sprinter, rio",
          "<b>Topic 18</b><br>Words: cox, bomb, pandemic, bomber, shelter",
          "<b>Topic 18</b><br>Words: cricket, pandemic, anthem, mask, dictatorship",
          "<b>Topic 18</b><br>Words: rich, ice, hospital, boot, removable",
          "<b>Topic 18</b><br>Words: wood, tiger, master, raze, pandemic",
          "<b>Topic 18</b><br>Words: money, vane, portman, trump, aid",
          "<b>Topic 18</b><br>Words: rust, pandemic, registration, racism, gra",
          "<b>Topic 18</b><br>Words: survivor, baby, mother, report, commission",
          "<b>Topic 18</b><br>Words: st, pandemic, aer, border, polish",
          "<b>Topic 18</b><br>Words: petit, pandemic, credit, rie, monthly",
          "<b>Topic 18</b><br>Words: bank, pandemic, product, supplement, mask"
         ],
         "marker": {
          "color": "#D55E00"
         },
         "mode": "lines",
         "name": "18_pandemic_mask_hospital_health",
         "type": "scatter",
         "x": [
          "2011-08-29T01:18:35.904000",
          "2012-04-10T07:08:28.800000",
          "2012-11-17T02:58:33.600000",
          "2013-06-25T22:48:38.400000",
          "2014-02-01T18:38:43.200000",
          "2014-09-10T14:28:48",
          "2015-04-19T10:18:52.800000",
          "2015-11-26T06:08:57.600000",
          "2016-07-04T01:59:02.400000",
          "2017-02-09T21:49:07.200000",
          "2017-09-18T17:39:12",
          "2018-04-27T13:29:16.800000",
          "2018-12-04T09:19:21.600000",
          "2019-07-13T05:09:26.400000",
          "2020-02-19T00:59:31.200000",
          "2020-09-26T20:49:36",
          "2021-05-05T16:39:40.800000",
          "2021-12-12T12:29:45.600000",
          "2023-02-27T04:09:55.200000"
         ],
         "y": [
          3,
          3,
          2,
          4,
          1,
          4,
          2,
          2,
          4,
          7,
          6,
          2,
          6,
          2,
          7,
          2,
          5,
          9,
          5
         ]
        },
        {
         "hoverinfo": "text",
         "hovertext": [
          "<b>Topic 19</b><br>Words: cup, referendum, football, amnesty, stadium",
          "<b>Topic 19</b><br>Words: football, footballer, cup, player, club",
          "<b>Topic 19</b><br>Words: bela, curse, cup, goal, lionel",
          "<b>Topic 19</b><br>Words: teammate, bull, webber, tire, freak",
          "<b>Topic 19</b><br>Words: crisis, photo, pro, yan, caption",
          "<b>Topic 19</b><br>Words: college, tuition, community, student, proposal",
          "<b>Topic 19</b><br>Words: champion, league, trophy, football, berlin",
          "<b>Topic 19</b><br>Words: jean, untold, football, cup, fan",
          "<b>Topic 19</b><br>Words: rio, cup, football, match, turbulence",
          "<b>Topic 19</b><br>Words: macron, cup, clearance, campaign, football",
          "<b>Topic 19</b><br>Words: cross, petter, cup, skiing, sport",
          "<b>Topic 19</b><br>Words: rice, dart, cup, match, rev",
          "<b>Topic 19</b><br>Words: orient, earnest, football, cup, stadium",
          "<b>Topic 19</b><br>Words: muller, bundle, cash, harassment, finder",
          "<b>Topic 19</b><br>Words: cup, giro, dog, goal, football",
          "<b>Topic 19</b><br>Words: plummer, stadium, cup, football, protest",
          "<b>Topic 19</b><br>Words: canton, isle, royal, cup, football",
          "<b>Topic 19</b><br>Words: medal, event, cup, skating, team",
          "<b>Topic 19</b><br>Words: travis, swift, bit, stadium, chief",
          "<b>Topic 19</b><br>Words: cup, football, ownership, fan, baseball"
         ],
         "marker": {
          "color": "#0072B2"
         },
         "mode": "lines",
         "name": "19_cup_football_stadium_fan",
         "type": "scatter",
         "x": [
          "2011-08-29T01:18:35.904000",
          "2012-04-10T07:08:28.800000",
          "2012-11-17T02:58:33.600000",
          "2013-06-25T22:48:38.400000",
          "2014-02-01T18:38:43.200000",
          "2014-09-10T14:28:48",
          "2015-04-19T10:18:52.800000",
          "2015-11-26T06:08:57.600000",
          "2016-07-04T01:59:02.400000",
          "2017-02-09T21:49:07.200000",
          "2017-09-18T17:39:12",
          "2018-04-27T13:29:16.800000",
          "2018-12-04T09:19:21.600000",
          "2019-07-13T05:09:26.400000",
          "2020-02-19T00:59:31.200000",
          "2020-09-26T20:49:36",
          "2021-05-05T16:39:40.800000",
          "2021-12-12T12:29:45.600000",
          "2022-07-21T08:19:50.400000",
          "2023-02-27T04:09:55.200000"
         ],
         "y": [
          6,
          3,
          5,
          2,
          2,
          1,
          1,
          3,
          5,
          4,
          4,
          2,
          7,
          2,
          2,
          3,
          4,
          7,
          1,
          8
         ]
        }
       ],
       "layout": {
        "height": 450,
        "hoverlabel": {
         "bgcolor": "white",
         "font": {
          "family": "Rockwell",
          "size": 16
         }
        },
        "legend": {
         "title": {
          "text": "<b>Global Topic Representation"
         }
        },
        "template": {
         "data": {
          "bar": [
           {
            "error_x": {
             "color": "rgb(36,36,36)"
            },
            "error_y": {
             "color": "rgb(36,36,36)"
            },
            "marker": {
             "line": {
              "color": "white",
              "width": 0.5
             },
             "pattern": {
              "fillmode": "overlay",
              "size": 10,
              "solidity": 0.2
             }
            },
            "type": "bar"
           }
          ],
          "barpolar": [
           {
            "marker": {
             "line": {
              "color": "white",
              "width": 0.5
             },
             "pattern": {
              "fillmode": "overlay",
              "size": 10,
              "solidity": 0.2
             }
            },
            "type": "barpolar"
           }
          ],
          "carpet": [
           {
            "aaxis": {
             "endlinecolor": "rgb(36,36,36)",
             "gridcolor": "white",
             "linecolor": "white",
             "minorgridcolor": "white",
             "startlinecolor": "rgb(36,36,36)"
            },
            "baxis": {
             "endlinecolor": "rgb(36,36,36)",
             "gridcolor": "white",
             "linecolor": "white",
             "minorgridcolor": "white",
             "startlinecolor": "rgb(36,36,36)"
            },
            "type": "carpet"
           }
          ],
          "choropleth": [
           {
            "colorbar": {
             "outlinewidth": 1,
             "tickcolor": "rgb(36,36,36)",
             "ticks": "outside"
            },
            "type": "choropleth"
           }
          ],
          "contour": [
           {
            "colorbar": {
             "outlinewidth": 1,
             "tickcolor": "rgb(36,36,36)",
             "ticks": "outside"
            },
            "colorscale": [
             [
              0,
              "#440154"
             ],
             [
              0.1111111111111111,
              "#482878"
             ],
             [
              0.2222222222222222,
              "#3e4989"
             ],
             [
              0.3333333333333333,
              "#31688e"
             ],
             [
              0.4444444444444444,
              "#26828e"
             ],
             [
              0.5555555555555556,
              "#1f9e89"
             ],
             [
              0.6666666666666666,
              "#35b779"
             ],
             [
              0.7777777777777778,
              "#6ece58"
             ],
             [
              0.8888888888888888,
              "#b5de2b"
             ],
             [
              1,
              "#fde725"
             ]
            ],
            "type": "contour"
           }
          ],
          "contourcarpet": [
           {
            "colorbar": {
             "outlinewidth": 1,
             "tickcolor": "rgb(36,36,36)",
             "ticks": "outside"
            },
            "type": "contourcarpet"
           }
          ],
          "heatmap": [
           {
            "colorbar": {
             "outlinewidth": 1,
             "tickcolor": "rgb(36,36,36)",
             "ticks": "outside"
            },
            "colorscale": [
             [
              0,
              "#440154"
             ],
             [
              0.1111111111111111,
              "#482878"
             ],
             [
              0.2222222222222222,
              "#3e4989"
             ],
             [
              0.3333333333333333,
              "#31688e"
             ],
             [
              0.4444444444444444,
              "#26828e"
             ],
             [
              0.5555555555555556,
              "#1f9e89"
             ],
             [
              0.6666666666666666,
              "#35b779"
             ],
             [
              0.7777777777777778,
              "#6ece58"
             ],
             [
              0.8888888888888888,
              "#b5de2b"
             ],
             [
              1,
              "#fde725"
             ]
            ],
            "type": "heatmap"
           }
          ],
          "heatmapgl": [
           {
            "colorbar": {
             "outlinewidth": 1,
             "tickcolor": "rgb(36,36,36)",
             "ticks": "outside"
            },
            "colorscale": [
             [
              0,
              "#440154"
             ],
             [
              0.1111111111111111,
              "#482878"
             ],
             [
              0.2222222222222222,
              "#3e4989"
             ],
             [
              0.3333333333333333,
              "#31688e"
             ],
             [
              0.4444444444444444,
              "#26828e"
             ],
             [
              0.5555555555555556,
              "#1f9e89"
             ],
             [
              0.6666666666666666,
              "#35b779"
             ],
             [
              0.7777777777777778,
              "#6ece58"
             ],
             [
              0.8888888888888888,
              "#b5de2b"
             ],
             [
              1,
              "#fde725"
             ]
            ],
            "type": "heatmapgl"
           }
          ],
          "histogram": [
           {
            "marker": {
             "line": {
              "color": "white",
              "width": 0.6
             }
            },
            "type": "histogram"
           }
          ],
          "histogram2d": [
           {
            "colorbar": {
             "outlinewidth": 1,
             "tickcolor": "rgb(36,36,36)",
             "ticks": "outside"
            },
            "colorscale": [
             [
              0,
              "#440154"
             ],
             [
              0.1111111111111111,
              "#482878"
             ],
             [
              0.2222222222222222,
              "#3e4989"
             ],
             [
              0.3333333333333333,
              "#31688e"
             ],
             [
              0.4444444444444444,
              "#26828e"
             ],
             [
              0.5555555555555556,
              "#1f9e89"
             ],
             [
              0.6666666666666666,
              "#35b779"
             ],
             [
              0.7777777777777778,
              "#6ece58"
             ],
             [
              0.8888888888888888,
              "#b5de2b"
             ],
             [
              1,
              "#fde725"
             ]
            ],
            "type": "histogram2d"
           }
          ],
          "histogram2dcontour": [
           {
            "colorbar": {
             "outlinewidth": 1,
             "tickcolor": "rgb(36,36,36)",
             "ticks": "outside"
            },
            "colorscale": [
             [
              0,
              "#440154"
             ],
             [
              0.1111111111111111,
              "#482878"
             ],
             [
              0.2222222222222222,
              "#3e4989"
             ],
             [
              0.3333333333333333,
              "#31688e"
             ],
             [
              0.4444444444444444,
              "#26828e"
             ],
             [
              0.5555555555555556,
              "#1f9e89"
             ],
             [
              0.6666666666666666,
              "#35b779"
             ],
             [
              0.7777777777777778,
              "#6ece58"
             ],
             [
              0.8888888888888888,
              "#b5de2b"
             ],
             [
              1,
              "#fde725"
             ]
            ],
            "type": "histogram2dcontour"
           }
          ],
          "mesh3d": [
           {
            "colorbar": {
             "outlinewidth": 1,
             "tickcolor": "rgb(36,36,36)",
             "ticks": "outside"
            },
            "type": "mesh3d"
           }
          ],
          "parcoords": [
           {
            "line": {
             "colorbar": {
              "outlinewidth": 1,
              "tickcolor": "rgb(36,36,36)",
              "ticks": "outside"
             }
            },
            "type": "parcoords"
           }
          ],
          "pie": [
           {
            "automargin": true,
            "type": "pie"
           }
          ],
          "scatter": [
           {
            "fillpattern": {
             "fillmode": "overlay",
             "size": 10,
             "solidity": 0.2
            },
            "type": "scatter"
           }
          ],
          "scatter3d": [
           {
            "line": {
             "colorbar": {
              "outlinewidth": 1,
              "tickcolor": "rgb(36,36,36)",
              "ticks": "outside"
             }
            },
            "marker": {
             "colorbar": {
              "outlinewidth": 1,
              "tickcolor": "rgb(36,36,36)",
              "ticks": "outside"
             }
            },
            "type": "scatter3d"
           }
          ],
          "scattercarpet": [
           {
            "marker": {
             "colorbar": {
              "outlinewidth": 1,
              "tickcolor": "rgb(36,36,36)",
              "ticks": "outside"
             }
            },
            "type": "scattercarpet"
           }
          ],
          "scattergeo": [
           {
            "marker": {
             "colorbar": {
              "outlinewidth": 1,
              "tickcolor": "rgb(36,36,36)",
              "ticks": "outside"
             }
            },
            "type": "scattergeo"
           }
          ],
          "scattergl": [
           {
            "marker": {
             "colorbar": {
              "outlinewidth": 1,
              "tickcolor": "rgb(36,36,36)",
              "ticks": "outside"
             }
            },
            "type": "scattergl"
           }
          ],
          "scattermapbox": [
           {
            "marker": {
             "colorbar": {
              "outlinewidth": 1,
              "tickcolor": "rgb(36,36,36)",
              "ticks": "outside"
             }
            },
            "type": "scattermapbox"
           }
          ],
          "scatterpolar": [
           {
            "marker": {
             "colorbar": {
              "outlinewidth": 1,
              "tickcolor": "rgb(36,36,36)",
              "ticks": "outside"
             }
            },
            "type": "scatterpolar"
           }
          ],
          "scatterpolargl": [
           {
            "marker": {
             "colorbar": {
              "outlinewidth": 1,
              "tickcolor": "rgb(36,36,36)",
              "ticks": "outside"
             }
            },
            "type": "scatterpolargl"
           }
          ],
          "scatterternary": [
           {
            "marker": {
             "colorbar": {
              "outlinewidth": 1,
              "tickcolor": "rgb(36,36,36)",
              "ticks": "outside"
             }
            },
            "type": "scatterternary"
           }
          ],
          "surface": [
           {
            "colorbar": {
             "outlinewidth": 1,
             "tickcolor": "rgb(36,36,36)",
             "ticks": "outside"
            },
            "colorscale": [
             [
              0,
              "#440154"
             ],
             [
              0.1111111111111111,
              "#482878"
             ],
             [
              0.2222222222222222,
              "#3e4989"
             ],
             [
              0.3333333333333333,
              "#31688e"
             ],
             [
              0.4444444444444444,
              "#26828e"
             ],
             [
              0.5555555555555556,
              "#1f9e89"
             ],
             [
              0.6666666666666666,
              "#35b779"
             ],
             [
              0.7777777777777778,
              "#6ece58"
             ],
             [
              0.8888888888888888,
              "#b5de2b"
             ],
             [
              1,
              "#fde725"
             ]
            ],
            "type": "surface"
           }
          ],
          "table": [
           {
            "cells": {
             "fill": {
              "color": "rgb(237,237,237)"
             },
             "line": {
              "color": "white"
             }
            },
            "header": {
             "fill": {
              "color": "rgb(217,217,217)"
             },
             "line": {
              "color": "white"
             }
            },
            "type": "table"
           }
          ]
         },
         "layout": {
          "annotationdefaults": {
           "arrowhead": 0,
           "arrowwidth": 1
          },
          "autotypenumbers": "strict",
          "coloraxis": {
           "colorbar": {
            "outlinewidth": 1,
            "tickcolor": "rgb(36,36,36)",
            "ticks": "outside"
           }
          },
          "colorscale": {
           "diverging": [
            [
             0,
             "rgb(103,0,31)"
            ],
            [
             0.1,
             "rgb(178,24,43)"
            ],
            [
             0.2,
             "rgb(214,96,77)"
            ],
            [
             0.3,
             "rgb(244,165,130)"
            ],
            [
             0.4,
             "rgb(253,219,199)"
            ],
            [
             0.5,
             "rgb(247,247,247)"
            ],
            [
             0.6,
             "rgb(209,229,240)"
            ],
            [
             0.7,
             "rgb(146,197,222)"
            ],
            [
             0.8,
             "rgb(67,147,195)"
            ],
            [
             0.9,
             "rgb(33,102,172)"
            ],
            [
             1,
             "rgb(5,48,97)"
            ]
           ],
           "sequential": [
            [
             0,
             "#440154"
            ],
            [
             0.1111111111111111,
             "#482878"
            ],
            [
             0.2222222222222222,
             "#3e4989"
            ],
            [
             0.3333333333333333,
             "#31688e"
            ],
            [
             0.4444444444444444,
             "#26828e"
            ],
            [
             0.5555555555555556,
             "#1f9e89"
            ],
            [
             0.6666666666666666,
             "#35b779"
            ],
            [
             0.7777777777777778,
             "#6ece58"
            ],
            [
             0.8888888888888888,
             "#b5de2b"
            ],
            [
             1,
             "#fde725"
            ]
           ],
           "sequentialminus": [
            [
             0,
             "#440154"
            ],
            [
             0.1111111111111111,
             "#482878"
            ],
            [
             0.2222222222222222,
             "#3e4989"
            ],
            [
             0.3333333333333333,
             "#31688e"
            ],
            [
             0.4444444444444444,
             "#26828e"
            ],
            [
             0.5555555555555556,
             "#1f9e89"
            ],
            [
             0.6666666666666666,
             "#35b779"
            ],
            [
             0.7777777777777778,
             "#6ece58"
            ],
            [
             0.8888888888888888,
             "#b5de2b"
            ],
            [
             1,
             "#fde725"
            ]
           ]
          },
          "colorway": [
           "#1F77B4",
           "#FF7F0E",
           "#2CA02C",
           "#D62728",
           "#9467BD",
           "#8C564B",
           "#E377C2",
           "#7F7F7F",
           "#BCBD22",
           "#17BECF"
          ],
          "font": {
           "color": "rgb(36,36,36)"
          },
          "geo": {
           "bgcolor": "white",
           "lakecolor": "white",
           "landcolor": "white",
           "showlakes": true,
           "showland": true,
           "subunitcolor": "white"
          },
          "hoverlabel": {
           "align": "left"
          },
          "hovermode": "closest",
          "mapbox": {
           "style": "light"
          },
          "paper_bgcolor": "white",
          "plot_bgcolor": "white",
          "polar": {
           "angularaxis": {
            "gridcolor": "rgb(232,232,232)",
            "linecolor": "rgb(36,36,36)",
            "showgrid": false,
            "showline": true,
            "ticks": "outside"
           },
           "bgcolor": "white",
           "radialaxis": {
            "gridcolor": "rgb(232,232,232)",
            "linecolor": "rgb(36,36,36)",
            "showgrid": false,
            "showline": true,
            "ticks": "outside"
           }
          },
          "scene": {
           "xaxis": {
            "backgroundcolor": "white",
            "gridcolor": "rgb(232,232,232)",
            "gridwidth": 2,
            "linecolor": "rgb(36,36,36)",
            "showbackground": true,
            "showgrid": false,
            "showline": true,
            "ticks": "outside",
            "zeroline": false,
            "zerolinecolor": "rgb(36,36,36)"
           },
           "yaxis": {
            "backgroundcolor": "white",
            "gridcolor": "rgb(232,232,232)",
            "gridwidth": 2,
            "linecolor": "rgb(36,36,36)",
            "showbackground": true,
            "showgrid": false,
            "showline": true,
            "ticks": "outside",
            "zeroline": false,
            "zerolinecolor": "rgb(36,36,36)"
           },
           "zaxis": {
            "backgroundcolor": "white",
            "gridcolor": "rgb(232,232,232)",
            "gridwidth": 2,
            "linecolor": "rgb(36,36,36)",
            "showbackground": true,
            "showgrid": false,
            "showline": true,
            "ticks": "outside",
            "zeroline": false,
            "zerolinecolor": "rgb(36,36,36)"
           }
          },
          "shapedefaults": {
           "fillcolor": "black",
           "line": {
            "width": 0
           },
           "opacity": 0.3
          },
          "ternary": {
           "aaxis": {
            "gridcolor": "rgb(232,232,232)",
            "linecolor": "rgb(36,36,36)",
            "showgrid": false,
            "showline": true,
            "ticks": "outside"
           },
           "baxis": {
            "gridcolor": "rgb(232,232,232)",
            "linecolor": "rgb(36,36,36)",
            "showgrid": false,
            "showline": true,
            "ticks": "outside"
           },
           "bgcolor": "white",
           "caxis": {
            "gridcolor": "rgb(232,232,232)",
            "linecolor": "rgb(36,36,36)",
            "showgrid": false,
            "showline": true,
            "ticks": "outside"
           }
          },
          "title": {
           "x": 0.05
          },
          "xaxis": {
           "automargin": true,
           "gridcolor": "rgb(232,232,232)",
           "linecolor": "rgb(36,36,36)",
           "showgrid": false,
           "showline": true,
           "ticks": "outside",
           "title": {
            "standoff": 15
           },
           "zeroline": false,
           "zerolinecolor": "rgb(36,36,36)"
          },
          "yaxis": {
           "automargin": true,
           "gridcolor": "rgb(232,232,232)",
           "linecolor": "rgb(36,36,36)",
           "showgrid": false,
           "showline": true,
           "ticks": "outside",
           "title": {
            "standoff": 15
           },
           "zeroline": false,
           "zerolinecolor": "rgb(36,36,36)"
          }
         }
        },
        "title": {
         "font": {
          "color": "Black",
          "size": 22
         },
         "text": "<b>Topics over Time</b>",
         "x": 0.4,
         "xanchor": "center",
         "y": 0.95,
         "yanchor": "top"
        },
        "width": 1250,
        "xaxis": {
         "showgrid": true
        },
        "yaxis": {
         "showgrid": true,
         "title": {
          "text": "Frequency"
         }
        }
       }
      }
     },
     "metadata": {},
     "output_type": "display_data"
    }
   ],
   "source": [
    "import pandas as pd\n",
    "import joblib\n",
    "\n",
    "df = pd.read_csv('cnn_news_articles_final_cleaned.csv')\n",
    "df = df.sample(n=9570, random_state=42)\n",
    "\n",
    "df['date published'] = pd.to_datetime(df['date published'])  \n",
    "\n",
    "# extract timestamps and texts\n",
    "timestamps = df['date published'].tolist()\n",
    "texts = df['text'].tolist()\n",
    "\n",
    "bertopic_model = joblib.load('berTopic.pkl')\n",
    "print('BERTopic model loaded')\n",
    "\n",
    "topics_over_time = bertopic_model.topics_over_time(docs=texts, \n",
    "                                                    timestamps=timestamps, \n",
    "                                                    nr_bins=20)\n",
    "\n",
    "topics_over_time = bertopic_model.topics_over_time(docs=texts, \n",
    "                                                    timestamps=timestamps, \n",
    "                                                    nr_bins=20,\n",
    "                                                    global_tuning=True, \n",
    "                                                    evolution_tuning=True)\n",
    "\n",
    "bertopic_model.visualize_topics_over_time(topics_over_time, top_n_topics=20)\n"
   ]
  },
  {
   "cell_type": "markdown",
   "metadata": {},
   "source": [
    "#### Performance\n",
    "\n",
    "c_v Score    = 0.68\n",
    "\n",
    "u_mass Score = -2.38\n",
    "\n",
    "NPMI Score   = 0.15"
   ]
  }
 ],
 "metadata": {
  "kernelspec": {
   "display_name": "fyp",
   "language": "python",
   "name": "python3"
  },
  "language_info": {
   "codemirror_mode": {
    "name": "ipython",
    "version": 3
   },
   "file_extension": ".py",
   "mimetype": "text/x-python",
   "name": "python",
   "nbconvert_exporter": "python",
   "pygments_lexer": "ipython3",
   "version": "3.12.5"
  }
 },
 "nbformat": 4,
 "nbformat_minor": 2
}
