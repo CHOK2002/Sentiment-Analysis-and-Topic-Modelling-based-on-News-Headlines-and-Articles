{
 "cells": [
  {
   "cell_type": "markdown",
   "metadata": {},
   "source": [
    "### Data Integrating"
   ]
  },
  {
   "cell_type": "markdown",
   "metadata": {},
   "source": [
    "Check Column and Rows Before Merging "
   ]
  },
  {
   "cell_type": "code",
   "execution_count": 1,
   "metadata": {},
   "outputs": [
    {
     "name": "stdout",
     "output_type": "stream",
     "text": [
      "cnn_news_articles_2011_2022: 37949 rows, 11 columns\n",
      "cnn_news_articles_2023: 3928 rows, 7 columns\n"
     ]
    }
   ],
   "source": [
    "import pandas as pd\n",
    "\n",
    "# load the datasets\n",
    "cnn_news_article_1 = pd.read_csv(\"cnn_news_articles_2011_2022.csv\")\n",
    "cnn_news_article_2 = pd.read_csv(\"cnn_news_articles_2023.csv\")\n",
    "\n",
    "# get the number of rows and columns for both datasets\n",
    "rows_1, columns_1 = cnn_news_article_1.shape\n",
    "rows_2, columns_2 = cnn_news_article_2.shape\n",
    "\n",
    "# print the results\n",
    "print(\"cnn_news_articles_2011_2022:\", rows_1, \"rows,\", columns_1, \"columns\")\n",
    "print(\"cnn_news_articles_2023:\", rows_2, \"rows,\", columns_2, \"columns\")"
   ]
  },
  {
   "cell_type": "markdown",
   "metadata": {},
   "source": [
    "Concatenating with 2 csv files"
   ]
  },
  {
   "cell_type": "code",
   "execution_count": 3,
   "metadata": {},
   "outputs": [
    {
     "name": "stdout",
     "output_type": "stream",
     "text": [
      "cnn_news_articles_final CSV had saved\n"
     ]
    }
   ],
   "source": [
    "# load the datasets \n",
    "cnn_news_article_1 = pd.read_csv(\"cnn_news_articles_2011_2022.csv\")\n",
    "cnn_news_article_2 = pd.read_csv(\"cnn_news_articles_2023.csv\")\n",
    "\n",
    "# combine the two datasets\n",
    "merge_df = pd.concat([cnn_news_article_1, cnn_news_article_2], ignore_index=True)\n",
    "\n",
    "# save the combined datasets into new CSV file\n",
    "merge_df.to_csv(\"cnn_news_articles_final.csv\", index=False)\n",
    "\n",
    "print(\"cnn_news_articles_final CSV had saved\")\n"
   ]
  },
  {
   "cell_type": "markdown",
   "metadata": {},
   "source": [
    "Check total columns and rows after concatenating with 2 csv files"
   ]
  },
  {
   "cell_type": "code",
   "execution_count": 4,
   "metadata": {},
   "outputs": [
    {
     "name": "stdout",
     "output_type": "stream",
     "text": [
      "Number of rows: 41877\n",
      "Number of columns: 12\n"
     ]
    }
   ],
   "source": [
    "# load the dataset\n",
    "final_df = pd.read_csv(\"cnn_news_articles_final.csv\")\n",
    "\n",
    "# get the number of rows and columns\n",
    "rows, cols = final_df.shape\n",
    "\n",
    "# print the results\n",
    "print(\"Number of rows:\", rows)\n",
    "print(\"Number of columns:\", cols)"
   ]
  }
 ],
 "metadata": {
  "kernelspec": {
   "display_name": "base",
   "language": "python",
   "name": "python3"
  },
  "language_info": {
   "codemirror_mode": {
    "name": "ipython",
    "version": 3
   },
   "file_extension": ".py",
   "mimetype": "text/x-python",
   "name": "python",
   "nbconvert_exporter": "python",
   "pygments_lexer": "ipython3",
   "version": "3.12.4"
  }
 },
 "nbformat": 4,
 "nbformat_minor": 2
}
